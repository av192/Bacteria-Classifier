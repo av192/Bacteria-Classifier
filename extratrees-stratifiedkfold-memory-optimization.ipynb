{
 "cells": [
  {
   "cell_type": "markdown",
   "id": "5aa338f2",
   "metadata": {
    "_cell_guid": "b1076dfc-b9ad-4769-8c92-a6c4dae69d19",
    "_uuid": "8f2839f25d086af736a60e9eeb907d3b93b6e0e5",
    "execution": {
     "iopub.execute_input": "2022-02-03T14:15:43.268356Z",
     "iopub.status.busy": "2022-02-03T14:15:43.267377Z",
     "iopub.status.idle": "2022-02-03T14:15:44.611291Z",
     "shell.execute_reply": "2022-02-03T14:15:44.610464Z",
     "shell.execute_reply.started": "2022-02-03T14:15:43.268219Z"
    },
    "papermill": {
     "duration": 0.012993,
     "end_time": "2022-02-04T18:03:03.503932",
     "exception": false,
     "start_time": "2022-02-04T18:03:03.490939",
     "status": "completed"
    },
    "tags": []
   },
   "source": [
    "> Shoutout to Maxence Fuzellier and his project \"TPS-Feb22 | 📊 EDA + 📈 ExtraTrees\" for the idea of sampling the data and using mode to find best bacteria type!\n",
    "\n",
    "\n",
    "\n",
    "> Also, a big thanks to AMBROSM and his project \"TPSFEB22-02 Postprocessing against the mutants 💀\" for the idea of using the probabilities!"
   ]
  },
  {
   "cell_type": "code",
   "execution_count": 1,
   "id": "ee1296c5",
   "metadata": {
    "execution": {
     "iopub.execute_input": "2022-02-04T18:03:03.540798Z",
     "iopub.status.busy": "2022-02-04T18:03:03.540168Z",
     "iopub.status.idle": "2022-02-04T18:03:52.309939Z",
     "shell.execute_reply": "2022-02-04T18:03:52.309098Z",
     "shell.execute_reply.started": "2022-02-04T17:42:25.410754Z"
    },
    "papermill": {
     "duration": 48.792468,
     "end_time": "2022-02-04T18:03:52.310103",
     "exception": false,
     "start_time": "2022-02-04T18:03:03.517635",
     "status": "completed"
    },
    "tags": []
   },
   "outputs": [
    {
     "name": "stdout",
     "output_type": "stream",
     "text": [
      "Collecting scikit-learn-intelex\r\n",
      "  Downloading scikit_learn_intelex-2021.5.3-py37-none-manylinux1_x86_64.whl (69 kB)\r\n",
      "     |████████████████████████████████| 69 kB 315 kB/s            \r\n",
      "\u001b[?25hRequirement already satisfied: scikit-learn>=0.22 in /opt/conda/lib/python3.7/site-packages (from scikit-learn-intelex) (0.23.2)\r\n",
      "Collecting daal4py==2021.5.3\r\n",
      "  Downloading daal4py-2021.5.3-py37-none-manylinux1_x86_64.whl (22.5 MB)\r\n",
      "     |████████████████████████████████| 22.5 MB 1.8 MB/s            \r\n",
      "\u001b[?25hCollecting daal==2021.5.3\r\n",
      "  Downloading daal-2021.5.3-py2.py3-none-manylinux1_x86_64.whl (284.3 MB)\r\n",
      "     |████████████████████████████████| 284.3 MB 1.8 kB/s            \r\n",
      "\u001b[?25hRequirement already satisfied: numpy>=1.15 in /opt/conda/lib/python3.7/site-packages (from daal4py==2021.5.3->scikit-learn-intelex) (1.20.3)\r\n",
      "Collecting tbb==2021.*\r\n",
      "  Downloading tbb-2021.5.1-py2.py3-none-manylinux1_x86_64.whl (4.0 MB)\r\n",
      "     |████████████████████████████████| 4.0 MB 39.0 MB/s            \r\n",
      "\u001b[?25hRequirement already satisfied: scipy>=0.19.1 in /opt/conda/lib/python3.7/site-packages (from scikit-learn>=0.22->scikit-learn-intelex) (1.7.3)\r\n",
      "Requirement already satisfied: joblib>=0.11 in /opt/conda/lib/python3.7/site-packages (from scikit-learn>=0.22->scikit-learn-intelex) (1.1.0)\r\n",
      "Requirement already satisfied: threadpoolctl>=2.0.0 in /opt/conda/lib/python3.7/site-packages (from scikit-learn>=0.22->scikit-learn-intelex) (3.0.0)\r\n",
      "Installing collected packages: tbb, daal, daal4py, scikit-learn-intelex\r\n",
      "Successfully installed daal-2021.5.3 daal4py-2021.5.3 scikit-learn-intelex-2021.5.3 tbb-2021.5.1\r\n",
      "\u001b[33mWARNING: Running pip as the 'root' user can result in broken permissions and conflicting behaviour with the system package manager. It is recommended to use a virtual environment instead: https://pip.pypa.io/warnings/venv\u001b[0m\r\n"
     ]
    },
    {
     "name": "stderr",
     "output_type": "stream",
     "text": [
      "Intel(R) Extension for Scikit-learn* enabled (https://github.com/intel/scikit-learn-intelex)\n"
     ]
    }
   ],
   "source": [
    "!pip install scikit-learn-intelex\n",
    "from sklearnex import patch_sklearn\n",
    "patch_sklearn()"
   ]
  },
  {
   "cell_type": "code",
   "execution_count": 2,
   "id": "02c0ebe5",
   "metadata": {
    "execution": {
     "iopub.execute_input": "2022-02-04T18:03:52.699710Z",
     "iopub.status.busy": "2022-02-04T18:03:52.696494Z",
     "iopub.status.idle": "2022-02-04T18:03:52.702513Z",
     "shell.execute_reply": "2022-02-04T18:03:52.701899Z",
     "shell.execute_reply.started": "2022-02-04T17:42:34.570871Z"
    },
    "papermill": {
     "duration": 0.199491,
     "end_time": "2022-02-04T18:03:52.702663",
     "exception": false,
     "start_time": "2022-02-04T18:03:52.503172",
     "status": "completed"
    },
    "tags": []
   },
   "outputs": [],
   "source": [
    "import numpy as np\n",
    "import pandas as pd\n",
    "\n",
    "from scipy.stats import mode\n",
    "from sklearn.ensemble import ExtraTreesClassifier\n",
    "from sklearn.metrics import accuracy_score\n",
    "from sklearn.model_selection import StratifiedKFold\n",
    "from sklearn.preprocessing import LabelEncoder\n",
    "\n",
    "KAGGLE_DIR = r'../input/tabular-playground-series-feb-2022/'\n",
    "LOCAL_DIR = r''\n",
    "KAGGLE = True\n",
    "RS = 69420"
   ]
  },
  {
   "cell_type": "code",
   "execution_count": 3,
   "id": "1dd95a01",
   "metadata": {
    "execution": {
     "iopub.execute_input": "2022-02-04T18:03:53.094949Z",
     "iopub.status.busy": "2022-02-04T18:03:53.094222Z",
     "iopub.status.idle": "2022-02-04T18:03:53.103111Z",
     "shell.execute_reply": "2022-02-04T18:03:53.103644Z",
     "shell.execute_reply.started": "2022-02-04T17:42:34.579667Z"
    },
    "papermill": {
     "duration": 0.212782,
     "end_time": "2022-02-04T18:03:53.103809",
     "exception": false,
     "start_time": "2022-02-04T18:03:52.891027",
     "status": "completed"
    },
    "tags": []
   },
   "outputs": [],
   "source": [
    "def reduce_mem_usage(df):\n",
    "    \"\"\" iterate through all the columns of a dataframe and modify the data type\n",
    "        to reduce memory usage.        \n",
    "    \"\"\"\n",
    "    start_mem = df.memory_usage().sum() / 1024**2\n",
    "    print('Memory usage of dataframe is {:.2f} MB'.format(start_mem))\n",
    "    \n",
    "    for col in df.columns:\n",
    "        col_type = df[col].dtype\n",
    "        \n",
    "        if col_type != object:\n",
    "            c_min = df[col].min()\n",
    "            c_max = df[col].max()\n",
    "            if str(col_type)[:3] == 'int':\n",
    "                if c_min > np.iinfo(np.int8).min and c_max < np.iinfo(np.int8).max:\n",
    "                    df[col] = df[col].astype(np.int8)\n",
    "                elif c_min > np.iinfo(np.int16).min and c_max < np.iinfo(np.int16).max:\n",
    "                    df[col] = df[col].astype(np.int16)\n",
    "                elif c_min > np.iinfo(np.int32).min and c_max < np.iinfo(np.int32).max:\n",
    "                    df[col] = df[col].astype(np.int32)\n",
    "                elif c_min > np.iinfo(np.int64).min and c_max < np.iinfo(np.int64).max:\n",
    "                    df[col] = df[col].astype(np.int64)  \n",
    "            else:\n",
    "                if c_min > np.finfo(np.float16).min and c_max < np.finfo(np.float16).max:\n",
    "                    df[col] = df[col].astype(np.float16)\n",
    "                elif c_min > np.finfo(np.float32).min and c_max < np.finfo(np.float32).max:\n",
    "                    df[col] = df[col].astype(np.float32)\n",
    "                else:\n",
    "                    df[col] = df[col].astype(np.float64)\n",
    "        else:\n",
    "            df[col] = df[col].astype('category')\n",
    "\n",
    "    end_mem = df.memory_usage().sum() / 1024**2\n",
    "    print('Memory usage after optimization is: {:.2f} MB'.format(end_mem))\n",
    "    print('Decreased by {:.1f}%'.format(100 * (start_mem - end_mem) / start_mem))\n",
    "    \n",
    "    return df"
   ]
  },
  {
   "cell_type": "code",
   "execution_count": 4,
   "id": "bd18d139",
   "metadata": {
    "execution": {
     "iopub.execute_input": "2022-02-04T18:03:53.486330Z",
     "iopub.status.busy": "2022-02-04T18:03:53.485590Z",
     "iopub.status.idle": "2022-02-04T18:05:10.338253Z",
     "shell.execute_reply": "2022-02-04T18:05:10.339419Z",
     "shell.execute_reply.started": "2022-02-04T17:42:34.600597Z"
    },
    "papermill": {
     "duration": 77.046116,
     "end_time": "2022-02-04T18:05:10.339970",
     "exception": false,
     "start_time": "2022-02-04T18:03:53.293854",
     "status": "completed"
    },
    "tags": []
   },
   "outputs": [
    {
     "name": "stdout",
     "output_type": "stream",
     "text": [
      "********** Loading Training Data... **********\n",
      "Memory usage of dataframe is 439.45 MB\n",
      "Memory usage after optimization is: 110.82 MB\n",
      "Decreased by 74.8%\n",
      "********** Loading Testing Data... **********\n",
      "Memory usage of dataframe is 218.96 MB\n",
      "Memory usage after optimization is: 55.31 MB\n",
      "Decreased by 74.7%\n",
      "Memory usage of dataframe is 1.53 MB\n",
      "Memory usage after optimization is: 0.48 MB\n",
      "Decreased by 68.7%\n",
      "CPU times: user 39.9 s, sys: 22.8 s, total: 1min 2s\n",
      "Wall time: 1min 16s\n"
     ]
    }
   ],
   "source": [
    "%%time\n",
    "if KAGGLE:\n",
    "    print(f\"{'*'*10} Loading Training Data... {'*'*10}\")\n",
    "    train = pd.read_csv(KAGGLE_DIR+'train.csv', index_col=0).pipe(reduce_mem_usage)\n",
    "    print(f\"{'*'*10} Loading Testing Data... {'*'*10}\")\n",
    "    test = pd.read_csv(KAGGLE_DIR+'test.csv', index_col=0).pipe(reduce_mem_usage)\n",
    "    sub = pd.read_csv(KAGGLE_DIR+'sample_submission.csv').pipe(reduce_mem_usage)\n",
    "else:\n",
    "    print(f\"{'*'*10} Loading Training Data... {'*'*10}\")\n",
    "    train = pd.read_csv(LOCAL_DIR+'train.csv', index_col=0).pipe(reduce_mem_usage)\n",
    "    print(f\"{'*'*10} Loading Testing Data... {'*'*10}\")\n",
    "    test = pd.read_csv(LOCAL_DIR+'test.csv', index_col=0).pipe(reduce_mem_usage)\n",
    "    sub = pd.read_csv(LOCAL_DIR+'sample_submission.csv').pipe(reduce_mem_usage)"
   ]
  },
  {
   "cell_type": "code",
   "execution_count": 5,
   "id": "e76363ef",
   "metadata": {
    "execution": {
     "iopub.execute_input": "2022-02-04T18:05:10.751689Z",
     "iopub.status.busy": "2022-02-04T18:05:10.751020Z",
     "iopub.status.idle": "2022-02-04T18:05:11.177619Z",
     "shell.execute_reply": "2022-02-04T18:05:11.177016Z",
     "shell.execute_reply.started": "2022-02-04T17:43:50.398075Z"
    },
    "papermill": {
     "duration": 0.628514,
     "end_time": "2022-02-04T18:05:11.177762",
     "exception": false,
     "start_time": "2022-02-04T18:05:10.549248",
     "status": "completed"
    },
    "tags": []
   },
   "outputs": [],
   "source": [
    "target_encoder = LabelEncoder()\n",
    "train[\"target\"] = target_encoder.fit_transform(train[\"target\"])\n",
    "\n",
    "X = train.drop([\"target\"], axis=1)\n",
    "y = train[\"target\"]"
   ]
  },
  {
   "cell_type": "markdown",
   "id": "0eab32dd",
   "metadata": {
    "papermill": {
     "duration": 0.192318,
     "end_time": "2022-02-04T18:05:11.584347",
     "exception": false,
     "start_time": "2022-02-04T18:05:11.392029",
     "status": "completed"
    },
    "tags": []
   },
   "source": [
    "# Model training"
   ]
  },
  {
   "cell_type": "code",
   "execution_count": 6,
   "id": "71ec2b5a",
   "metadata": {
    "execution": {
     "iopub.execute_input": "2022-02-04T18:05:11.976601Z",
     "iopub.status.busy": "2022-02-04T18:05:11.975863Z",
     "iopub.status.idle": "2022-02-04T18:05:11.979849Z",
     "shell.execute_reply": "2022-02-04T18:05:11.980394Z"
    },
    "papermill": {
     "duration": 0.204887,
     "end_time": "2022-02-04T18:05:11.980563",
     "exception": false,
     "start_time": "2022-02-04T18:05:11.775676",
     "status": "completed"
    },
    "tags": []
   },
   "outputs": [],
   "source": [
    "import gc"
   ]
  },
  {
   "cell_type": "code",
   "execution_count": 7,
   "id": "801af93c",
   "metadata": {
    "execution": {
     "iopub.execute_input": "2022-02-04T18:05:12.380152Z",
     "iopub.status.busy": "2022-02-04T18:05:12.379120Z",
     "iopub.status.idle": "2022-02-04T19:06:02.577890Z",
     "shell.execute_reply": "2022-02-04T19:06:02.577153Z",
     "shell.execute_reply.started": "2022-02-04T17:43:50.860988Z"
    },
    "papermill": {
     "duration": 3650.400001,
     "end_time": "2022-02-04T19:06:02.578145",
     "exception": false,
     "start_time": "2022-02-04T18:05:12.178144",
     "status": "completed"
    },
    "tags": []
   },
   "outputs": [
    {
     "name": "stdout",
     "output_type": "stream",
     "text": [
      "Fold: 1 Accuracy: 0.99705\n",
      "Fold: 2 Accuracy: 0.9964\n",
      "Fold: 3 Accuracy: 0.9975\n",
      "Fold: 4 Accuracy: 0.99645\n",
      "Fold: 5 Accuracy: 0.99585\n",
      "Fold: 6 Accuracy: 0.99655\n",
      "Fold: 7 Accuracy: 0.99705\n",
      "Fold: 8 Accuracy: 0.9964\n",
      "Fold: 9 Accuracy: 0.99655\n",
      "Fold: 10 Accuracy: 0.9977\n"
     ]
    }
   ],
   "source": [
    "y_probs = []\n",
    "scores = []\n",
    "\n",
    "folds = StratifiedKFold(n_splits=10, shuffle=True)\n",
    "\n",
    "estimators = 1300\n",
    "for fold, (train_id, test_id) in enumerate(folds.split(X, y)):  \n",
    "    X_train = X.iloc[train_id]\n",
    "    y_train = y.iloc[train_id]\n",
    "    X_valid = X.iloc[test_id]\n",
    "    y_valid = y.iloc[test_id]\n",
    "    \n",
    "    model = ExtraTreesClassifier(\n",
    "        n_estimators=estimators,\n",
    "        n_jobs=-1, criterion='entropy',max_features = 'log2'\n",
    "    )\n",
    "\n",
    "    model.fit(X_train, y_train)\n",
    "    \n",
    "    valid_pred = model.predict(X_valid)\n",
    "    valid_score = accuracy_score(y_valid, valid_pred)\n",
    "    \n",
    "    print(\"Fold:\", fold + 1, \"Accuracy:\", valid_score)\n",
    "    \n",
    "    scores.append(valid_score)\n",
    "    \n",
    "    # Save predictions to later submit the mean values\n",
    "    #if submission: \n",
    "    y_probs.append(model.predict_proba(test))\n",
    "    \n",
    "    estimators = estimators + 75\n",
    "    del model\n",
    "    gc.collect()"
   ]
  },
  {
   "cell_type": "code",
   "execution_count": 8,
   "id": "22c9ffb5",
   "metadata": {
    "execution": {
     "iopub.execute_input": "2022-02-04T19:06:02.981558Z",
     "iopub.status.busy": "2022-02-04T19:06:02.980871Z",
     "iopub.status.idle": "2022-02-04T19:06:02.984254Z",
     "shell.execute_reply": "2022-02-04T19:06:02.983604Z",
     "shell.execute_reply.started": "2022-02-04T18:00:31.816084Z"
    },
    "papermill": {
     "duration": 0.208666,
     "end_time": "2022-02-04T19:06:02.984393",
     "exception": false,
     "start_time": "2022-02-04T19:06:02.775727",
     "status": "completed"
    },
    "tags": []
   },
   "outputs": [
    {
     "name": "stdout",
     "output_type": "stream",
     "text": [
      "Mean accuracy score: 0.9967499999999999\n"
     ]
    }
   ],
   "source": [
    "print(\"Mean accuracy score:\", np.array(scores).mean())"
   ]
  },
  {
   "cell_type": "code",
   "execution_count": 9,
   "id": "cf8b42df",
   "metadata": {
    "execution": {
     "iopub.execute_input": "2022-02-04T19:06:03.382699Z",
     "iopub.status.busy": "2022-02-04T19:06:03.381640Z",
     "iopub.status.idle": "2022-02-04T19:06:03.461009Z",
     "shell.execute_reply": "2022-02-04T19:06:03.461532Z",
     "shell.execute_reply.started": "2022-02-04T18:00:31.819466Z"
    },
    "papermill": {
     "duration": 0.278954,
     "end_time": "2022-02-04T19:06:03.461704",
     "exception": false,
     "start_time": "2022-02-04T19:06:03.182750",
     "status": "completed"
    },
    "tags": []
   },
   "outputs": [
    {
     "data": {
      "text/plain": [
       "Bacteroides_fragilis         9.999\n",
       "Campylobacter_jejuni        10.227\n",
       "Enterococcus_hirae           9.845\n",
       "Escherichia_coli             9.900\n",
       "Escherichia_fergusonii       9.960\n",
       "Klebsiella_pneumoniae       10.139\n",
       "Salmonella_enterica          9.944\n",
       "Staphylococcus_aureus        9.912\n",
       "Streptococcus_pneumoniae    10.030\n",
       "Streptococcus_pyogenes      10.044\n",
       "dtype: float64"
      ]
     },
     "execution_count": 9,
     "metadata": {},
     "output_type": "execute_result"
    }
   ],
   "source": [
    "y_prob = sum(y_probs) / len(y_probs)\n",
    "# The explanations for these numbers are in AMBROSM's code\n",
    "y_prob += np.array([0, 0, 0.01, 0.03, 0, 0, 0, 0, 0, 0])\n",
    "y_pred_tuned = target_encoder.inverse_transform(np.argmax(y_prob, axis=1))\n",
    "pd.Series(y_pred_tuned, index=test.index).value_counts().sort_index() / len(test) * 100"
   ]
  },
  {
   "cell_type": "markdown",
   "id": "289da687",
   "metadata": {
    "papermill": {
     "duration": 0.197908,
     "end_time": "2022-02-04T19:06:03.856656",
     "exception": false,
     "start_time": "2022-02-04T19:06:03.658748",
     "status": "completed"
    },
    "tags": []
   },
   "source": [
    "# Submitting results"
   ]
  },
  {
   "cell_type": "code",
   "execution_count": 10,
   "id": "3f471cbe",
   "metadata": {
    "execution": {
     "iopub.execute_input": "2022-02-04T19:06:04.266801Z",
     "iopub.status.busy": "2022-02-04T19:06:04.266107Z",
     "iopub.status.idle": "2022-02-04T19:06:04.528640Z",
     "shell.execute_reply": "2022-02-04T19:06:04.528089Z",
     "shell.execute_reply.started": "2022-02-04T18:00:31.826930Z"
    },
    "papermill": {
     "duration": 0.468439,
     "end_time": "2022-02-04T19:06:04.528789",
     "exception": false,
     "start_time": "2022-02-04T19:06:04.060350",
     "status": "completed"
    },
    "tags": []
   },
   "outputs": [],
   "source": [
    "sub[\"target\"] = y_pred_tuned\n",
    "sub.to_csv(\"submission.csv\", index=False)"
   ]
  },
  {
   "cell_type": "code",
   "execution_count": null,
   "id": "aae14576",
   "metadata": {
    "papermill": {
     "duration": 0.200743,
     "end_time": "2022-02-04T19:06:04.927124",
     "exception": false,
     "start_time": "2022-02-04T19:06:04.726381",
     "status": "completed"
    },
    "tags": []
   },
   "outputs": [],
   "source": []
  }
 ],
 "metadata": {
  "kernelspec": {
   "display_name": "Python 3",
   "language": "python",
   "name": "python3"
  },
  "language_info": {
   "codemirror_mode": {
    "name": "ipython",
    "version": 3
   },
   "file_extension": ".py",
   "mimetype": "text/x-python",
   "name": "python",
   "nbconvert_exporter": "python",
   "pygments_lexer": "ipython3",
   "version": "3.7.12"
  },
  "papermill": {
   "default_parameters": {},
   "duration": 3794.386611,
   "end_time": "2022-02-04T19:06:07.894391",
   "environment_variables": {},
   "exception": null,
   "input_path": "__notebook__.ipynb",
   "output_path": "__notebook__.ipynb",
   "parameters": {},
   "start_time": "2022-02-04T18:02:53.507780",
   "version": "2.3.3"
  }
 },
 "nbformat": 4,
 "nbformat_minor": 5
}
