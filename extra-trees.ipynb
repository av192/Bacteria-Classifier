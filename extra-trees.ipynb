{
 "cells": [
  {
   "cell_type": "code",
   "execution_count": 1,
   "id": "925fe896",
   "metadata": {
    "_cell_guid": "b1076dfc-b9ad-4769-8c92-a6c4dae69d19",
    "_uuid": "8f2839f25d086af736a60e9eeb907d3b93b6e0e5",
    "execution": {
     "iopub.execute_input": "2022-02-03T13:23:28.612950Z",
     "iopub.status.busy": "2022-02-03T13:23:28.611681Z",
     "iopub.status.idle": "2022-02-03T13:23:28.626818Z",
     "shell.execute_reply": "2022-02-03T13:23:28.626172Z",
     "shell.execute_reply.started": "2022-02-03T11:56:32.326277Z"
    },
    "papermill": {
     "duration": 0.029987,
     "end_time": "2022-02-03T13:23:28.627037",
     "exception": false,
     "start_time": "2022-02-03T13:23:28.597050",
     "status": "completed"
    },
    "tags": []
   },
   "outputs": [
    {
     "name": "stdout",
     "output_type": "stream",
     "text": [
      "/kaggle/input/tabular-playground-series-feb-2022/sample_submission.csv\n",
      "/kaggle/input/tabular-playground-series-feb-2022/train.csv\n",
      "/kaggle/input/tabular-playground-series-feb-2022/test.csv\n"
     ]
    }
   ],
   "source": [
    "# This Python 3 environment comes with many helpful analytics libraries installed\n",
    "# It is defined by the kaggle/python Docker image: https://github.com/kaggle/docker-python\n",
    "# For example, here's several helpful packages to load\n",
    "\n",
    "import numpy as np # linear algebra\n",
    "import pandas as pd # data processing, CSV file I/O (e.g. pd.read_csv)\n",
    "\n",
    "# Input data files are available in the read-only \"../input/\" directory\n",
    "# For example, running this (by clicking run or pressing Shift+Enter) will list all files under the input directory\n",
    "\n",
    "import os\n",
    "for dirname, _, filenames in os.walk('/kaggle/input'):\n",
    "    for filename in filenames:\n",
    "        print(os.path.join(dirname, filename))\n",
    "\n",
    "# You can write up to 20GB to the current directory (/kaggle/working/) that gets preserved as output when you create a version using \"Save & Run All\" \n",
    "# You can also write temporary files to /kaggle/temp/, but they won't be saved outside of the current session"
   ]
  },
  {
   "cell_type": "code",
   "execution_count": 2,
   "id": "ed22a526",
   "metadata": {
    "execution": {
     "iopub.execute_input": "2022-02-03T13:23:28.653484Z",
     "iopub.status.busy": "2022-02-03T13:23:28.652745Z",
     "iopub.status.idle": "2022-02-03T13:24:13.268291Z",
     "shell.execute_reply": "2022-02-03T13:24:13.267477Z",
     "shell.execute_reply.started": "2022-02-03T11:56:32.3612Z"
    },
    "papermill": {
     "duration": 44.631862,
     "end_time": "2022-02-03T13:24:13.268459",
     "exception": false,
     "start_time": "2022-02-03T13:23:28.636597",
     "status": "completed"
    },
    "tags": []
   },
   "outputs": [],
   "source": [
    "import numpy as np # linear algebra\n",
    "import pandas as pd\n",
    "\n",
    "df = pd.read_csv('../input/tabular-playground-series-feb-2022/train.csv')\n",
    "\n",
    "from sklearn.preprocessing import LabelEncoder\n",
    "encoder = LabelEncoder()\n",
    "encoder.fit(df['target'])\n",
    "df['target'] = encoder.transform(df.target)\n",
    "\n",
    "\n",
    "\n",
    "d = dict(zip(encoder.transform(encoder.classes_),encoder.classes_))\n",
    "feats = [col for col in df.columns if col != 'target' and col !='row_id']\n",
    "\n",
    "\n",
    "\n",
    "test = pd.read_csv('../input/tabular-playground-series-feb-2022/test.csv',index_col='row_id')"
   ]
  },
  {
   "cell_type": "code",
   "execution_count": 3,
   "id": "3c4d42da",
   "metadata": {
    "execution": {
     "iopub.execute_input": "2022-02-03T13:24:13.292909Z",
     "iopub.status.busy": "2022-02-03T13:24:13.291143Z",
     "iopub.status.idle": "2022-02-03T13:24:13.293578Z",
     "shell.execute_reply": "2022-02-03T13:24:13.294226Z",
     "shell.execute_reply.started": "2022-02-03T11:57:04.424081Z"
    },
    "papermill": {
     "duration": 0.016973,
     "end_time": "2022-02-03T13:24:13.294392",
     "exception": false,
     "start_time": "2022-02-03T13:24:13.277419",
     "status": "completed"
    },
    "tags": []
   },
   "outputs": [],
   "source": [
    "est_score = {}"
   ]
  },
  {
   "cell_type": "code",
   "execution_count": null,
   "id": "fc78f927",
   "metadata": {
    "papermill": {
     "duration": 0.008414,
     "end_time": "2022-02-03T13:24:13.311523",
     "exception": false,
     "start_time": "2022-02-03T13:24:13.303109",
     "status": "completed"
    },
    "tags": []
   },
   "outputs": [],
   "source": []
  },
  {
   "cell_type": "code",
   "execution_count": 4,
   "id": "dac7bf33",
   "metadata": {
    "execution": {
     "iopub.execute_input": "2022-02-03T13:24:13.342888Z",
     "iopub.status.busy": "2022-02-03T13:24:13.342192Z",
     "iopub.status.idle": "2022-02-03T14:45:36.461185Z",
     "shell.execute_reply": "2022-02-03T14:45:36.461896Z",
     "shell.execute_reply.started": "2022-02-03T11:57:43.455714Z"
    },
    "papermill": {
     "duration": 4883.142721,
     "end_time": "2022-02-03T14:45:36.462978",
     "exception": false,
     "start_time": "2022-02-03T13:24:13.320257",
     "status": "completed"
    },
    "tags": []
   },
   "outputs": [
    {
     "name": "stdout",
     "output_type": "stream",
     "text": [
      "FOLD:1\n"
     ]
    },
    {
     "name": "stderr",
     "output_type": "stream",
     "text": [
      "[Parallel(n_jobs=-1)]: Using backend ThreadingBackend with 4 concurrent workers.\n",
      "[Parallel(n_jobs=-1)]: Done  42 tasks      | elapsed:   14.2s\n",
      "[Parallel(n_jobs=-1)]: Done 192 tasks      | elapsed:  1.0min\n",
      "[Parallel(n_jobs=-1)]: Done 442 tasks      | elapsed:  2.4min\n",
      "[Parallel(n_jobs=-1)]: Done 792 tasks      | elapsed:  4.2min\n",
      "[Parallel(n_jobs=-1)]: Done 1242 tasks      | elapsed:  6.6min\n",
      "[Parallel(n_jobs=-1)]: Done 1300 out of 1300 | elapsed:  7.0min finished\n",
      "[Parallel(n_jobs=4)]: Using backend ThreadingBackend with 4 concurrent workers.\n",
      "[Parallel(n_jobs=4)]: Done  42 tasks      | elapsed:    0.2s\n",
      "[Parallel(n_jobs=4)]: Done 192 tasks      | elapsed:    0.7s\n",
      "[Parallel(n_jobs=4)]: Done 442 tasks      | elapsed:    1.7s\n",
      "[Parallel(n_jobs=4)]: Done 792 tasks      | elapsed:    3.1s\n",
      "[Parallel(n_jobs=4)]: Done 1242 tasks      | elapsed:    5.1s\n",
      "[Parallel(n_jobs=4)]: Done 1300 out of 1300 | elapsed:    5.3s finished\n"
     ]
    },
    {
     "name": "stdout",
     "output_type": "stream",
     "text": [
      "Accuracy score: 0.996700\n",
      "\n"
     ]
    },
    {
     "name": "stderr",
     "output_type": "stream",
     "text": [
      "[Parallel(n_jobs=4)]: Using backend ThreadingBackend with 4 concurrent workers.\n",
      "[Parallel(n_jobs=4)]: Done  42 tasks      | elapsed:    1.2s\n",
      "[Parallel(n_jobs=4)]: Done 192 tasks      | elapsed:    4.0s\n",
      "[Parallel(n_jobs=4)]: Done 442 tasks      | elapsed:    8.8s\n",
      "[Parallel(n_jobs=4)]: Done 792 tasks      | elapsed:   15.1s\n",
      "[Parallel(n_jobs=4)]: Done 1242 tasks      | elapsed:   23.1s\n",
      "[Parallel(n_jobs=4)]: Done 1300 out of 1300 | elapsed:   24.2s finished\n"
     ]
    },
    {
     "name": "stdout",
     "output_type": "stream",
     "text": [
      "FOLD:2\n"
     ]
    },
    {
     "name": "stderr",
     "output_type": "stream",
     "text": [
      "[Parallel(n_jobs=-1)]: Using backend ThreadingBackend with 4 concurrent workers.\n",
      "[Parallel(n_jobs=-1)]: Done  42 tasks      | elapsed:   15.5s\n",
      "[Parallel(n_jobs=-1)]: Done 192 tasks      | elapsed:  1.1min\n",
      "[Parallel(n_jobs=-1)]: Done 442 tasks      | elapsed:  2.6min\n",
      "[Parallel(n_jobs=-1)]: Done 792 tasks      | elapsed:  4.6min\n",
      "[Parallel(n_jobs=-1)]: Done 1242 tasks      | elapsed:  7.3min\n",
      "[Parallel(n_jobs=-1)]: Done 1300 out of 1300 | elapsed:  7.6min finished\n",
      "[Parallel(n_jobs=4)]: Using backend ThreadingBackend with 4 concurrent workers.\n",
      "[Parallel(n_jobs=4)]: Done  42 tasks      | elapsed:    0.2s\n",
      "[Parallel(n_jobs=4)]: Done 192 tasks      | elapsed:    0.8s\n",
      "[Parallel(n_jobs=4)]: Done 442 tasks      | elapsed:    1.7s\n",
      "[Parallel(n_jobs=4)]: Done 792 tasks      | elapsed:    3.2s\n",
      "[Parallel(n_jobs=4)]: Done 1242 tasks      | elapsed:    4.9s\n",
      "[Parallel(n_jobs=4)]: Done 1300 out of 1300 | elapsed:    5.1s finished\n",
      "[Parallel(n_jobs=4)]: Using backend ThreadingBackend with 4 concurrent workers.\n"
     ]
    },
    {
     "name": "stdout",
     "output_type": "stream",
     "text": [
      "Accuracy score: 0.996500\n",
      "\n"
     ]
    },
    {
     "name": "stderr",
     "output_type": "stream",
     "text": [
      "[Parallel(n_jobs=4)]: Done  42 tasks      | elapsed:    0.9s\n",
      "[Parallel(n_jobs=4)]: Done 192 tasks      | elapsed:    3.8s\n",
      "[Parallel(n_jobs=4)]: Done 442 tasks      | elapsed:    8.3s\n",
      "[Parallel(n_jobs=4)]: Done 792 tasks      | elapsed:   14.8s\n",
      "[Parallel(n_jobs=4)]: Done 1242 tasks      | elapsed:   23.4s\n",
      "[Parallel(n_jobs=4)]: Done 1300 out of 1300 | elapsed:   24.4s finished\n"
     ]
    },
    {
     "name": "stdout",
     "output_type": "stream",
     "text": [
      "FOLD:3\n"
     ]
    },
    {
     "name": "stderr",
     "output_type": "stream",
     "text": [
      "[Parallel(n_jobs=-1)]: Using backend ThreadingBackend with 4 concurrent workers.\n",
      "[Parallel(n_jobs=-1)]: Done  42 tasks      | elapsed:   15.2s\n",
      "[Parallel(n_jobs=-1)]: Done 192 tasks      | elapsed:  1.1min\n",
      "[Parallel(n_jobs=-1)]: Done 442 tasks      | elapsed:  2.6min\n",
      "[Parallel(n_jobs=-1)]: Done 792 tasks      | elapsed:  4.5min\n",
      "[Parallel(n_jobs=-1)]: Done 1242 tasks      | elapsed:  6.9min\n",
      "[Parallel(n_jobs=-1)]: Done 1300 out of 1300 | elapsed:  7.2min finished\n",
      "[Parallel(n_jobs=4)]: Using backend ThreadingBackend with 4 concurrent workers.\n",
      "[Parallel(n_jobs=4)]: Done  42 tasks      | elapsed:    0.2s\n",
      "[Parallel(n_jobs=4)]: Done 192 tasks      | elapsed:    0.8s\n",
      "[Parallel(n_jobs=4)]: Done 442 tasks      | elapsed:    1.8s\n",
      "[Parallel(n_jobs=4)]: Done 792 tasks      | elapsed:    3.1s\n",
      "[Parallel(n_jobs=4)]: Done 1242 tasks      | elapsed:    4.8s\n",
      "[Parallel(n_jobs=4)]: Done 1300 out of 1300 | elapsed:    5.0s finished\n",
      "[Parallel(n_jobs=4)]: Using backend ThreadingBackend with 4 concurrent workers.\n"
     ]
    },
    {
     "name": "stdout",
     "output_type": "stream",
     "text": [
      "Accuracy score: 0.997100\n",
      "\n"
     ]
    },
    {
     "name": "stderr",
     "output_type": "stream",
     "text": [
      "[Parallel(n_jobs=4)]: Done  42 tasks      | elapsed:    0.9s\n",
      "[Parallel(n_jobs=4)]: Done 192 tasks      | elapsed:    3.5s\n",
      "[Parallel(n_jobs=4)]: Done 442 tasks      | elapsed:    8.3s\n",
      "[Parallel(n_jobs=4)]: Done 792 tasks      | elapsed:   14.3s\n",
      "[Parallel(n_jobs=4)]: Done 1242 tasks      | elapsed:   22.3s\n",
      "[Parallel(n_jobs=4)]: Done 1300 out of 1300 | elapsed:   23.3s finished\n"
     ]
    },
    {
     "name": "stdout",
     "output_type": "stream",
     "text": [
      "FOLD:4\n"
     ]
    },
    {
     "name": "stderr",
     "output_type": "stream",
     "text": [
      "[Parallel(n_jobs=-1)]: Using backend ThreadingBackend with 4 concurrent workers.\n",
      "[Parallel(n_jobs=-1)]: Done  42 tasks      | elapsed:   15.5s\n",
      "[Parallel(n_jobs=-1)]: Done 192 tasks      | elapsed:  1.1min\n",
      "[Parallel(n_jobs=-1)]: Done 442 tasks      | elapsed:  2.6min\n",
      "[Parallel(n_jobs=-1)]: Done 792 tasks      | elapsed:  4.7min\n",
      "[Parallel(n_jobs=-1)]: Done 1242 tasks      | elapsed:  7.4min\n",
      "[Parallel(n_jobs=-1)]: Done 1300 out of 1300 | elapsed:  7.8min finished\n",
      "[Parallel(n_jobs=4)]: Using backend ThreadingBackend with 4 concurrent workers.\n",
      "[Parallel(n_jobs=4)]: Done  42 tasks      | elapsed:    0.2s\n",
      "[Parallel(n_jobs=4)]: Done 192 tasks      | elapsed:    0.9s\n",
      "[Parallel(n_jobs=4)]: Done 442 tasks      | elapsed:    1.9s\n",
      "[Parallel(n_jobs=4)]: Done 792 tasks      | elapsed:    3.2s\n",
      "[Parallel(n_jobs=4)]: Done 1242 tasks      | elapsed:    4.9s\n",
      "[Parallel(n_jobs=4)]: Done 1300 out of 1300 | elapsed:    5.2s finished\n",
      "[Parallel(n_jobs=4)]: Using backend ThreadingBackend with 4 concurrent workers.\n"
     ]
    },
    {
     "name": "stdout",
     "output_type": "stream",
     "text": [
      "Accuracy score: 0.996400\n",
      "\n"
     ]
    },
    {
     "name": "stderr",
     "output_type": "stream",
     "text": [
      "[Parallel(n_jobs=4)]: Done  42 tasks      | elapsed:    0.8s\n",
      "[Parallel(n_jobs=4)]: Done 192 tasks      | elapsed:    3.8s\n",
      "[Parallel(n_jobs=4)]: Done 442 tasks      | elapsed:    8.8s\n",
      "[Parallel(n_jobs=4)]: Done 792 tasks      | elapsed:   14.8s\n",
      "[Parallel(n_jobs=4)]: Done 1242 tasks      | elapsed:   23.1s\n",
      "[Parallel(n_jobs=4)]: Done 1300 out of 1300 | elapsed:   24.1s finished\n"
     ]
    },
    {
     "name": "stdout",
     "output_type": "stream",
     "text": [
      "FOLD:5\n"
     ]
    },
    {
     "name": "stderr",
     "output_type": "stream",
     "text": [
      "[Parallel(n_jobs=-1)]: Using backend ThreadingBackend with 4 concurrent workers.\n",
      "[Parallel(n_jobs=-1)]: Done  42 tasks      | elapsed:   14.2s\n",
      "[Parallel(n_jobs=-1)]: Done 192 tasks      | elapsed:  1.0min\n",
      "[Parallel(n_jobs=-1)]: Done 442 tasks      | elapsed:  2.4min\n",
      "[Parallel(n_jobs=-1)]: Done 792 tasks      | elapsed:  4.3min\n",
      "[Parallel(n_jobs=-1)]: Done 1242 tasks      | elapsed:  6.8min\n",
      "[Parallel(n_jobs=-1)]: Done 1300 out of 1300 | elapsed:  7.2min finished\n",
      "[Parallel(n_jobs=4)]: Using backend ThreadingBackend with 4 concurrent workers.\n",
      "[Parallel(n_jobs=4)]: Done  42 tasks      | elapsed:    0.2s\n",
      "[Parallel(n_jobs=4)]: Done 192 tasks      | elapsed:    0.8s\n",
      "[Parallel(n_jobs=4)]: Done 442 tasks      | elapsed:    1.8s\n",
      "[Parallel(n_jobs=4)]: Done 792 tasks      | elapsed:    3.2s\n",
      "[Parallel(n_jobs=4)]: Done 1242 tasks      | elapsed:    4.9s\n",
      "[Parallel(n_jobs=4)]: Done 1300 out of 1300 | elapsed:    5.1s finished\n",
      "[Parallel(n_jobs=4)]: Using backend ThreadingBackend with 4 concurrent workers.\n"
     ]
    },
    {
     "name": "stdout",
     "output_type": "stream",
     "text": [
      "Accuracy score: 0.996350\n",
      "\n"
     ]
    },
    {
     "name": "stderr",
     "output_type": "stream",
     "text": [
      "[Parallel(n_jobs=4)]: Done  42 tasks      | elapsed:    0.8s\n",
      "[Parallel(n_jobs=4)]: Done 192 tasks      | elapsed:    3.6s\n",
      "[Parallel(n_jobs=4)]: Done 442 tasks      | elapsed:    8.5s\n",
      "[Parallel(n_jobs=4)]: Done 792 tasks      | elapsed:   14.8s\n",
      "[Parallel(n_jobs=4)]: Done 1242 tasks      | elapsed:   23.1s\n",
      "[Parallel(n_jobs=4)]: Done 1300 out of 1300 | elapsed:   24.1s finished\n"
     ]
    },
    {
     "name": "stdout",
     "output_type": "stream",
     "text": [
      "FOLD:6\n"
     ]
    },
    {
     "name": "stderr",
     "output_type": "stream",
     "text": [
      "[Parallel(n_jobs=-1)]: Using backend ThreadingBackend with 4 concurrent workers.\n",
      "[Parallel(n_jobs=-1)]: Done  42 tasks      | elapsed:   16.3s\n",
      "[Parallel(n_jobs=-1)]: Done 192 tasks      | elapsed:  1.2min\n",
      "[Parallel(n_jobs=-1)]: Done 442 tasks      | elapsed:  2.7min\n",
      "[Parallel(n_jobs=-1)]: Done 792 tasks      | elapsed:  4.7min\n",
      "[Parallel(n_jobs=-1)]: Done 1242 tasks      | elapsed:  7.3min\n",
      "[Parallel(n_jobs=-1)]: Done 1300 out of 1300 | elapsed:  7.7min finished\n",
      "[Parallel(n_jobs=4)]: Using backend ThreadingBackend with 4 concurrent workers.\n",
      "[Parallel(n_jobs=4)]: Done  42 tasks      | elapsed:    0.2s\n",
      "[Parallel(n_jobs=4)]: Done 192 tasks      | elapsed:    0.8s\n",
      "[Parallel(n_jobs=4)]: Done 442 tasks      | elapsed:    1.8s\n",
      "[Parallel(n_jobs=4)]: Done 792 tasks      | elapsed:    3.2s\n",
      "[Parallel(n_jobs=4)]: Done 1242 tasks      | elapsed:    5.0s\n",
      "[Parallel(n_jobs=4)]: Done 1300 out of 1300 | elapsed:    5.3s finished\n",
      "[Parallel(n_jobs=4)]: Using backend ThreadingBackend with 4 concurrent workers.\n"
     ]
    },
    {
     "name": "stdout",
     "output_type": "stream",
     "text": [
      "Accuracy score: 0.996750\n",
      "\n"
     ]
    },
    {
     "name": "stderr",
     "output_type": "stream",
     "text": [
      "[Parallel(n_jobs=4)]: Done  42 tasks      | elapsed:    0.9s\n",
      "[Parallel(n_jobs=4)]: Done 192 tasks      | elapsed:    3.7s\n",
      "[Parallel(n_jobs=4)]: Done 442 tasks      | elapsed:    8.4s\n",
      "[Parallel(n_jobs=4)]: Done 792 tasks      | elapsed:   15.8s\n",
      "[Parallel(n_jobs=4)]: Done 1242 tasks      | elapsed:   24.4s\n",
      "[Parallel(n_jobs=4)]: Done 1300 out of 1300 | elapsed:   25.5s finished\n"
     ]
    },
    {
     "name": "stdout",
     "output_type": "stream",
     "text": [
      "FOLD:7\n"
     ]
    },
    {
     "name": "stderr",
     "output_type": "stream",
     "text": [
      "[Parallel(n_jobs=-1)]: Using backend ThreadingBackend with 4 concurrent workers.\n",
      "[Parallel(n_jobs=-1)]: Done  42 tasks      | elapsed:   20.0s\n",
      "[Parallel(n_jobs=-1)]: Done 192 tasks      | elapsed:  1.2min\n",
      "[Parallel(n_jobs=-1)]: Done 442 tasks      | elapsed:  2.7min\n",
      "[Parallel(n_jobs=-1)]: Done 792 tasks      | elapsed:  4.7min\n",
      "[Parallel(n_jobs=-1)]: Done 1242 tasks      | elapsed:  7.3min\n",
      "[Parallel(n_jobs=-1)]: Done 1300 out of 1300 | elapsed:  7.7min finished\n",
      "[Parallel(n_jobs=4)]: Using backend ThreadingBackend with 4 concurrent workers.\n",
      "[Parallel(n_jobs=4)]: Done  42 tasks      | elapsed:    0.2s\n",
      "[Parallel(n_jobs=4)]: Done 192 tasks      | elapsed:    0.8s\n",
      "[Parallel(n_jobs=4)]: Done 442 tasks      | elapsed:    1.8s\n",
      "[Parallel(n_jobs=4)]: Done 792 tasks      | elapsed:    3.1s\n",
      "[Parallel(n_jobs=4)]: Done 1242 tasks      | elapsed:    4.9s\n",
      "[Parallel(n_jobs=4)]: Done 1300 out of 1300 | elapsed:    5.1s finished\n",
      "[Parallel(n_jobs=4)]: Using backend ThreadingBackend with 4 concurrent workers.\n"
     ]
    },
    {
     "name": "stdout",
     "output_type": "stream",
     "text": [
      "Accuracy score: 0.996900\n",
      "\n"
     ]
    },
    {
     "name": "stderr",
     "output_type": "stream",
     "text": [
      "[Parallel(n_jobs=4)]: Done  42 tasks      | elapsed:    0.8s\n",
      "[Parallel(n_jobs=4)]: Done 192 tasks      | elapsed:    3.5s\n",
      "[Parallel(n_jobs=4)]: Done 442 tasks      | elapsed:    8.2s\n",
      "[Parallel(n_jobs=4)]: Done 792 tasks      | elapsed:   15.0s\n",
      "[Parallel(n_jobs=4)]: Done 1242 tasks      | elapsed:   23.7s\n",
      "[Parallel(n_jobs=4)]: Done 1300 out of 1300 | elapsed:   24.8s finished\n"
     ]
    },
    {
     "name": "stdout",
     "output_type": "stream",
     "text": [
      "FOLD:8\n"
     ]
    },
    {
     "name": "stderr",
     "output_type": "stream",
     "text": [
      "[Parallel(n_jobs=-1)]: Using backend ThreadingBackend with 4 concurrent workers.\n",
      "[Parallel(n_jobs=-1)]: Done  42 tasks      | elapsed:   15.1s\n",
      "[Parallel(n_jobs=-1)]: Done 192 tasks      | elapsed:  1.1min\n",
      "[Parallel(n_jobs=-1)]: Done 442 tasks      | elapsed:  2.6min\n",
      "[Parallel(n_jobs=-1)]: Done 792 tasks      | elapsed:  4.6min\n",
      "[Parallel(n_jobs=-1)]: Done 1242 tasks      | elapsed:  7.1min\n",
      "[Parallel(n_jobs=-1)]: Done 1300 out of 1300 | elapsed:  7.5min finished\n",
      "[Parallel(n_jobs=4)]: Using backend ThreadingBackend with 4 concurrent workers.\n",
      "[Parallel(n_jobs=4)]: Done  42 tasks      | elapsed:    0.2s\n",
      "[Parallel(n_jobs=4)]: Done 192 tasks      | elapsed:    0.8s\n",
      "[Parallel(n_jobs=4)]: Done 442 tasks      | elapsed:    1.7s\n",
      "[Parallel(n_jobs=4)]: Done 792 tasks      | elapsed:    3.6s\n",
      "[Parallel(n_jobs=4)]: Done 1242 tasks      | elapsed:    5.4s\n",
      "[Parallel(n_jobs=4)]: Done 1300 out of 1300 | elapsed:    5.6s finished\n",
      "[Parallel(n_jobs=4)]: Using backend ThreadingBackend with 4 concurrent workers.\n"
     ]
    },
    {
     "name": "stdout",
     "output_type": "stream",
     "text": [
      "Accuracy score: 0.996950\n",
      "\n"
     ]
    },
    {
     "name": "stderr",
     "output_type": "stream",
     "text": [
      "[Parallel(n_jobs=4)]: Done  42 tasks      | elapsed:    0.9s\n",
      "[Parallel(n_jobs=4)]: Done 192 tasks      | elapsed:    3.8s\n",
      "[Parallel(n_jobs=4)]: Done 442 tasks      | elapsed:    8.2s\n",
      "[Parallel(n_jobs=4)]: Done 792 tasks      | elapsed:   14.8s\n",
      "[Parallel(n_jobs=4)]: Done 1242 tasks      | elapsed:   22.7s\n",
      "[Parallel(n_jobs=4)]: Done 1300 out of 1300 | elapsed:   23.7s finished\n"
     ]
    },
    {
     "name": "stdout",
     "output_type": "stream",
     "text": [
      "FOLD:9\n"
     ]
    },
    {
     "name": "stderr",
     "output_type": "stream",
     "text": [
      "[Parallel(n_jobs=-1)]: Using backend ThreadingBackend with 4 concurrent workers.\n",
      "[Parallel(n_jobs=-1)]: Done  42 tasks      | elapsed:   15.5s\n",
      "[Parallel(n_jobs=-1)]: Done 192 tasks      | elapsed:  1.1min\n",
      "[Parallel(n_jobs=-1)]: Done 442 tasks      | elapsed:  2.6min\n",
      "[Parallel(n_jobs=-1)]: Done 792 tasks      | elapsed:  4.7min\n",
      "[Parallel(n_jobs=-1)]: Done 1242 tasks      | elapsed:  7.3min\n",
      "[Parallel(n_jobs=-1)]: Done 1300 out of 1300 | elapsed:  7.7min finished\n",
      "[Parallel(n_jobs=4)]: Using backend ThreadingBackend with 4 concurrent workers.\n",
      "[Parallel(n_jobs=4)]: Done  42 tasks      | elapsed:    0.2s\n",
      "[Parallel(n_jobs=4)]: Done 192 tasks      | elapsed:    0.8s\n",
      "[Parallel(n_jobs=4)]: Done 442 tasks      | elapsed:    1.8s\n",
      "[Parallel(n_jobs=4)]: Done 792 tasks      | elapsed:    3.1s\n",
      "[Parallel(n_jobs=4)]: Done 1242 tasks      | elapsed:    4.9s\n",
      "[Parallel(n_jobs=4)]: Done 1300 out of 1300 | elapsed:    5.3s finished\n",
      "[Parallel(n_jobs=4)]: Using backend ThreadingBackend with 4 concurrent workers.\n"
     ]
    },
    {
     "name": "stdout",
     "output_type": "stream",
     "text": [
      "Accuracy score: 0.997000\n",
      "\n"
     ]
    },
    {
     "name": "stderr",
     "output_type": "stream",
     "text": [
      "[Parallel(n_jobs=4)]: Done  42 tasks      | elapsed:    1.2s\n",
      "[Parallel(n_jobs=4)]: Done 192 tasks      | elapsed:    4.0s\n",
      "[Parallel(n_jobs=4)]: Done 442 tasks      | elapsed:    8.6s\n",
      "[Parallel(n_jobs=4)]: Done 792 tasks      | elapsed:   15.5s\n",
      "[Parallel(n_jobs=4)]: Done 1242 tasks      | elapsed:   23.8s\n",
      "[Parallel(n_jobs=4)]: Done 1300 out of 1300 | elapsed:   24.9s finished\n"
     ]
    },
    {
     "name": "stdout",
     "output_type": "stream",
     "text": [
      "FOLD:10\n"
     ]
    },
    {
     "name": "stderr",
     "output_type": "stream",
     "text": [
      "[Parallel(n_jobs=-1)]: Using backend ThreadingBackend with 4 concurrent workers.\n",
      "[Parallel(n_jobs=-1)]: Done  42 tasks      | elapsed:   16.9s\n",
      "[Parallel(n_jobs=-1)]: Done 192 tasks      | elapsed:  1.2min\n",
      "[Parallel(n_jobs=-1)]: Done 442 tasks      | elapsed:  2.8min\n",
      "[Parallel(n_jobs=-1)]: Done 792 tasks      | elapsed:  4.9min\n",
      "[Parallel(n_jobs=-1)]: Done 1242 tasks      | elapsed:  7.7min\n",
      "[Parallel(n_jobs=-1)]: Done 1300 out of 1300 | elapsed:  8.0min finished\n",
      "[Parallel(n_jobs=4)]: Using backend ThreadingBackend with 4 concurrent workers.\n",
      "[Parallel(n_jobs=4)]: Done  42 tasks      | elapsed:    0.2s\n",
      "[Parallel(n_jobs=4)]: Done 192 tasks      | elapsed:    0.8s\n",
      "[Parallel(n_jobs=4)]: Done 442 tasks      | elapsed:    1.7s\n",
      "[Parallel(n_jobs=4)]: Done 792 tasks      | elapsed:    3.0s\n",
      "[Parallel(n_jobs=4)]: Done 1242 tasks      | elapsed:    4.8s\n",
      "[Parallel(n_jobs=4)]: Done 1300 out of 1300 | elapsed:    5.0s finished\n",
      "[Parallel(n_jobs=4)]: Using backend ThreadingBackend with 4 concurrent workers.\n"
     ]
    },
    {
     "name": "stdout",
     "output_type": "stream",
     "text": [
      "Accuracy score: 0.996950\n",
      "\n"
     ]
    },
    {
     "name": "stderr",
     "output_type": "stream",
     "text": [
      "[Parallel(n_jobs=4)]: Done  42 tasks      | elapsed:    0.8s\n",
      "[Parallel(n_jobs=4)]: Done 192 tasks      | elapsed:    3.7s\n",
      "[Parallel(n_jobs=4)]: Done 442 tasks      | elapsed:    9.7s\n",
      "[Parallel(n_jobs=4)]: Done 792 tasks      | elapsed:   16.8s\n",
      "[Parallel(n_jobs=4)]: Done 1242 tasks      | elapsed:   25.0s\n",
      "[Parallel(n_jobs=4)]: Done 1300 out of 1300 | elapsed:   26.1s finished\n"
     ]
    },
    {
     "name": "stdout",
     "output_type": "stream",
     "text": [
      "Mean accuracy score: 0.996760   Est:1300\n",
      "Est:1300   Score: 0.9967600000000001\n"
     ]
    }
   ],
   "source": [
    "n_estimator = [1300]\n",
    "\n",
    "\n",
    "from sklearn.model_selection import StratifiedKFold\n",
    "from sklearn.ensemble import ExtraTreesClassifier\n",
    "from sklearn.metrics import accuracy_score\n",
    "best_score = 0.00\n",
    "best_pred = []\n",
    "best_model = 0\n",
    "best_est = 0\n",
    "for j in n_estimator:\n",
    "    fold = StratifiedKFold(n_splits = 10,shuffle = True)\n",
    "    y_pred = []\n",
    "    scores = []\n",
    "    X = df[feats]\n",
    "    y = pd.DataFrame(pd.DataFrame(encoder.fit_transform(df['target']), columns=['target']).values.ravel())\n",
    "\n",
    "    for _fold,(train_idx,test_idx) in enumerate(fold.split(X,y)):\n",
    "        print(f\"FOLD:{_fold+1}\")\n",
    "        X_train, y_train = X.iloc[train_idx], y.iloc[train_idx].values.ravel()\n",
    "        X_valid, y_valid = X.iloc[test_idx], y.iloc[test_idx].values.ravel()\n",
    "        model = ExtraTreesClassifier(\n",
    "            n_estimators=j,\n",
    "            n_jobs=-1,\n",
    "            verbose=1,\n",
    "            random_state=42\n",
    "        )\n",
    "        model.fit(X_train, y_train)\n",
    "        valid_pred = model.predict(X_valid)\n",
    "        valid_score = accuracy_score(y_valid, valid_pred)\n",
    "        print(f'Accuracy score: {valid_score:6f}\\n')\n",
    "        scores.append(valid_score)\n",
    "        y_pred.append(model.predict(test))\n",
    "    score = np.array(scores).mean()\n",
    "    print(f'Mean accuracy score: {score:6f}   Est:{j}')\n",
    "    \n",
    "    if score>best_score:\n",
    "            best_model = model\n",
    "            print(f'Est:{j}   Score: {score}')\n",
    "            best_score = score\n",
    "            best_est = j\n",
    "            best_pred = y_pred\n",
    "\n",
    "import pickle\n",
    "\n",
    "pickle.dump(best_model, open(str('model ' + str(best_est) + 'fold' + str(10) ), 'wb'))"
   ]
  },
  {
   "cell_type": "code",
   "execution_count": 5,
   "id": "9c0b5e3a",
   "metadata": {
    "execution": {
     "iopub.execute_input": "2022-02-03T14:45:40.451598Z",
     "iopub.status.busy": "2022-02-03T14:45:40.450469Z",
     "iopub.status.idle": "2022-02-03T14:45:43.835887Z",
     "shell.execute_reply": "2022-02-03T14:45:43.836416Z",
     "shell.execute_reply.started": "2022-02-03T12:06:54.7943Z"
    },
    "papermill": {
     "duration": 3.489063,
     "end_time": "2022-02-03T14:45:43.836617",
     "exception": false,
     "start_time": "2022-02-03T14:45:40.347554",
     "status": "completed"
    },
    "tags": []
   },
   "outputs": [
    {
     "data": {
      "text/plain": [
       "array([4, 6, 2, ..., 0, 0, 9])"
      ]
     },
     "execution_count": 5,
     "metadata": {},
     "output_type": "execute_result"
    }
   ],
   "source": [
    "\n",
    "from scipy.stats import mode\n",
    "best_pred2 = best_pred\n",
    "best_pred2 = mode(best_pred2).mode[0]\n",
    "best_pred2"
   ]
  },
  {
   "cell_type": "code",
   "execution_count": 6,
   "id": "92d3a64d",
   "metadata": {
    "execution": {
     "iopub.execute_input": "2022-02-03T14:45:44.425619Z",
     "iopub.status.busy": "2022-02-03T14:45:44.420076Z",
     "iopub.status.idle": "2022-02-03T14:45:44.464001Z",
     "shell.execute_reply": "2022-02-03T14:45:44.463346Z",
     "shell.execute_reply.started": "2022-02-03T12:07:06.278488Z"
    },
    "papermill": {
     "duration": 0.135786,
     "end_time": "2022-02-03T14:45:44.464176",
     "exception": false,
     "start_time": "2022-02-03T14:45:44.328390",
     "status": "completed"
    },
    "tags": []
   },
   "outputs": [],
   "source": [
    "pred2 = []\n",
    "for i in best_pred2:\n",
    "    pred2.append(d[i])"
   ]
  },
  {
   "cell_type": "code",
   "execution_count": 7,
   "id": "4057df47",
   "metadata": {
    "execution": {
     "iopub.execute_input": "2022-02-03T14:45:44.614208Z",
     "iopub.status.busy": "2022-02-03T14:45:44.613203Z",
     "iopub.status.idle": "2022-02-03T14:45:44.996608Z",
     "shell.execute_reply": "2022-02-03T14:45:44.996020Z",
     "shell.execute_reply.started": "2022-02-03T12:07:08.870598Z"
    },
    "papermill": {
     "duration": 0.459693,
     "end_time": "2022-02-03T14:45:44.996779",
     "exception": false,
     "start_time": "2022-02-03T14:45:44.537086",
     "status": "completed"
    },
    "tags": []
   },
   "outputs": [
    {
     "data": {
      "text/html": [
       "<div>\n",
       "<style scoped>\n",
       "    .dataframe tbody tr th:only-of-type {\n",
       "        vertical-align: middle;\n",
       "    }\n",
       "\n",
       "    .dataframe tbody tr th {\n",
       "        vertical-align: top;\n",
       "    }\n",
       "\n",
       "    .dataframe thead th {\n",
       "        text-align: right;\n",
       "    }\n",
       "</style>\n",
       "<table border=\"1\" class=\"dataframe\">\n",
       "  <thead>\n",
       "    <tr style=\"text-align: right;\">\n",
       "      <th></th>\n",
       "      <th>row_id</th>\n",
       "      <th>target</th>\n",
       "    </tr>\n",
       "  </thead>\n",
       "  <tbody>\n",
       "    <tr>\n",
       "      <th>0</th>\n",
       "      <td>200000</td>\n",
       "      <td>Escherichia_fergusonii</td>\n",
       "    </tr>\n",
       "    <tr>\n",
       "      <th>1</th>\n",
       "      <td>200001</td>\n",
       "      <td>Salmonella_enterica</td>\n",
       "    </tr>\n",
       "    <tr>\n",
       "      <th>2</th>\n",
       "      <td>200002</td>\n",
       "      <td>Enterococcus_hirae</td>\n",
       "    </tr>\n",
       "    <tr>\n",
       "      <th>3</th>\n",
       "      <td>200003</td>\n",
       "      <td>Salmonella_enterica</td>\n",
       "    </tr>\n",
       "    <tr>\n",
       "      <th>4</th>\n",
       "      <td>200004</td>\n",
       "      <td>Staphylococcus_aureus</td>\n",
       "    </tr>\n",
       "  </tbody>\n",
       "</table>\n",
       "</div>"
      ],
      "text/plain": [
       "   row_id                  target\n",
       "0  200000  Escherichia_fergusonii\n",
       "1  200001     Salmonella_enterica\n",
       "2  200002      Enterococcus_hirae\n",
       "3  200003     Salmonella_enterica\n",
       "4  200004   Staphylococcus_aureus"
      ]
     },
     "execution_count": 7,
     "metadata": {},
     "output_type": "execute_result"
    }
   ],
   "source": [
    "\n",
    "\n",
    "sample = pd.read_csv('../input/tabular-playground-series-feb-2022/sample_submission.csv')\n",
    "\n",
    "sample['target'] = pred2\n",
    "sample.to_csv('submission.csv', index=False)\n",
    "\n",
    "sample.head()"
   ]
  },
  {
   "cell_type": "code",
   "execution_count": null,
   "id": "028287d0",
   "metadata": {
    "papermill": {
     "duration": 0.07357,
     "end_time": "2022-02-03T14:45:45.144022",
     "exception": false,
     "start_time": "2022-02-03T14:45:45.070452",
     "status": "completed"
    },
    "tags": []
   },
   "outputs": [],
   "source": []
  }
 ],
 "metadata": {
  "kernelspec": {
   "display_name": "Python 3",
   "language": "python",
   "name": "python3"
  },
  "language_info": {
   "codemirror_mode": {
    "name": "ipython",
    "version": 3
   },
   "file_extension": ".py",
   "mimetype": "text/x-python",
   "name": "python",
   "nbconvert_exporter": "python",
   "pygments_lexer": "ipython3",
   "version": "3.7.12"
  },
  "papermill": {
   "default_parameters": {},
   "duration": 4950.190276,
   "end_time": "2022-02-03T14:45:48.949520",
   "environment_variables": {},
   "exception": null,
   "input_path": "__notebook__.ipynb",
   "output_path": "__notebook__.ipynb",
   "parameters": {},
   "start_time": "2022-02-03T13:23:18.759244",
   "version": "2.3.3"
  }
 },
 "nbformat": 4,
 "nbformat_minor": 5
}
