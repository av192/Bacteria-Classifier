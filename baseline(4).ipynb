{
 "cells": [
  {
   "cell_type": "code",
   "execution_count": 1,
   "id": "cf618e20",
   "metadata": {
    "_cell_guid": "b1076dfc-b9ad-4769-8c92-a6c4dae69d19",
    "_uuid": "8f2839f25d086af736a60e9eeb907d3b93b6e0e5",
    "execution": {
     "iopub.execute_input": "2022-02-02T14:22:37.564093Z",
     "iopub.status.busy": "2022-02-02T14:22:37.562580Z",
     "iopub.status.idle": "2022-02-02T14:22:37.576844Z",
     "shell.execute_reply": "2022-02-02T14:22:37.576223Z",
     "shell.execute_reply.started": "2022-02-02T14:12:16.724099Z"
    },
    "papermill": {
     "duration": 0.030925,
     "end_time": "2022-02-02T14:22:37.577002",
     "exception": false,
     "start_time": "2022-02-02T14:22:37.546077",
     "status": "completed"
    },
    "tags": []
   },
   "outputs": [
    {
     "name": "stdout",
     "output_type": "stream",
     "text": [
      "/kaggle/input/tabular-playground-series-feb-2022/sample_submission.csv\n",
      "/kaggle/input/tabular-playground-series-feb-2022/train.csv\n",
      "/kaggle/input/tabular-playground-series-feb-2022/test.csv\n"
     ]
    }
   ],
   "source": [
    "# This Python 3 environment comes with many helpful analytics libraries installed\n",
    "# It is defined by the kaggle/python Docker image: https://github.com/kaggle/docker-python\n",
    "# For example, here's several helpful packages to load\n",
    "\n",
    "import numpy as np # linear algebra\n",
    "import pandas as pd # data processing, CSV file I/O (e.g. pd.read_csv)\n",
    "\n",
    "# Input data files are available in the read-only \"../input/\" directory\n",
    "# For example, running this (by clicking run or pressing Shift+Enter) will list all files under the input directory\n",
    "\n",
    "import os\n",
    "for dirname, _, filenames in os.walk('/kaggle/input'):\n",
    "    for filename in filenames:\n",
    "        print(os.path.join(dirname, filename))\n",
    "\n",
    "# You can write up to 20GB to the current directory (/kaggle/working/) that gets preserved as output when you create a version using \"Save & Run All\" \n",
    "# You can also write temporary files to /kaggle/temp/, but they won't be saved outside of the current session"
   ]
  },
  {
   "cell_type": "code",
   "execution_count": 2,
   "id": "443afc4d",
   "metadata": {
    "execution": {
     "iopub.execute_input": "2022-02-02T14:22:37.605295Z",
     "iopub.status.busy": "2022-02-02T14:22:37.604434Z",
     "iopub.status.idle": "2022-02-02T14:23:02.550251Z",
     "shell.execute_reply": "2022-02-02T14:23:02.550806Z",
     "shell.execute_reply.started": "2022-02-02T14:12:16.756698Z"
    },
    "papermill": {
     "duration": 24.961002,
     "end_time": "2022-02-02T14:23:02.550962",
     "exception": false,
     "start_time": "2022-02-02T14:22:37.589960",
     "status": "completed"
    },
    "tags": []
   },
   "outputs": [
    {
     "data": {
      "text/html": [
       "<div>\n",
       "<style scoped>\n",
       "    .dataframe tbody tr th:only-of-type {\n",
       "        vertical-align: middle;\n",
       "    }\n",
       "\n",
       "    .dataframe tbody tr th {\n",
       "        vertical-align: top;\n",
       "    }\n",
       "\n",
       "    .dataframe thead th {\n",
       "        text-align: right;\n",
       "    }\n",
       "</style>\n",
       "<table border=\"1\" class=\"dataframe\">\n",
       "  <thead>\n",
       "    <tr style=\"text-align: right;\">\n",
       "      <th></th>\n",
       "      <th>row_id</th>\n",
       "      <th>A0T0G0C10</th>\n",
       "      <th>A0T0G1C9</th>\n",
       "      <th>A0T0G2C8</th>\n",
       "      <th>A0T0G3C7</th>\n",
       "      <th>A0T0G4C6</th>\n",
       "      <th>A0T0G5C5</th>\n",
       "      <th>A0T0G6C4</th>\n",
       "      <th>A0T0G7C3</th>\n",
       "      <th>A0T0G8C2</th>\n",
       "      <th>...</th>\n",
       "      <th>A8T0G1C1</th>\n",
       "      <th>A8T0G2C0</th>\n",
       "      <th>A8T1G0C1</th>\n",
       "      <th>A8T1G1C0</th>\n",
       "      <th>A8T2G0C0</th>\n",
       "      <th>A9T0G0C1</th>\n",
       "      <th>A9T0G1C0</th>\n",
       "      <th>A9T1G0C0</th>\n",
       "      <th>A10T0G0C0</th>\n",
       "      <th>target</th>\n",
       "    </tr>\n",
       "  </thead>\n",
       "  <tbody>\n",
       "    <tr>\n",
       "      <th>0</th>\n",
       "      <td>0</td>\n",
       "      <td>-9.536743e-07</td>\n",
       "      <td>-0.000010</td>\n",
       "      <td>-0.000043</td>\n",
       "      <td>-0.000114</td>\n",
       "      <td>-0.000200</td>\n",
       "      <td>-0.000240</td>\n",
       "      <td>-0.000200</td>\n",
       "      <td>-0.000114</td>\n",
       "      <td>-0.000043</td>\n",
       "      <td>...</td>\n",
       "      <td>-0.000086</td>\n",
       "      <td>-0.000043</td>\n",
       "      <td>-0.000086</td>\n",
       "      <td>-0.000086</td>\n",
       "      <td>-0.000043</td>\n",
       "      <td>-0.000010</td>\n",
       "      <td>-0.000010</td>\n",
       "      <td>-0.000010</td>\n",
       "      <td>-9.536743e-07</td>\n",
       "      <td>Streptococcus_pyogenes</td>\n",
       "    </tr>\n",
       "    <tr>\n",
       "      <th>1</th>\n",
       "      <td>1</td>\n",
       "      <td>-9.536743e-07</td>\n",
       "      <td>-0.000010</td>\n",
       "      <td>-0.000043</td>\n",
       "      <td>0.000886</td>\n",
       "      <td>-0.000200</td>\n",
       "      <td>0.000760</td>\n",
       "      <td>-0.000200</td>\n",
       "      <td>-0.000114</td>\n",
       "      <td>-0.000043</td>\n",
       "      <td>...</td>\n",
       "      <td>-0.000086</td>\n",
       "      <td>-0.000043</td>\n",
       "      <td>0.000914</td>\n",
       "      <td>0.000914</td>\n",
       "      <td>-0.000043</td>\n",
       "      <td>-0.000010</td>\n",
       "      <td>-0.000010</td>\n",
       "      <td>-0.000010</td>\n",
       "      <td>-9.536743e-07</td>\n",
       "      <td>Salmonella_enterica</td>\n",
       "    </tr>\n",
       "    <tr>\n",
       "      <th>2</th>\n",
       "      <td>2</td>\n",
       "      <td>-9.536743e-07</td>\n",
       "      <td>-0.000002</td>\n",
       "      <td>0.000007</td>\n",
       "      <td>0.000129</td>\n",
       "      <td>0.000268</td>\n",
       "      <td>0.000270</td>\n",
       "      <td>0.000243</td>\n",
       "      <td>0.000125</td>\n",
       "      <td>0.000001</td>\n",
       "      <td>...</td>\n",
       "      <td>0.000084</td>\n",
       "      <td>0.000048</td>\n",
       "      <td>0.000081</td>\n",
       "      <td>0.000106</td>\n",
       "      <td>0.000072</td>\n",
       "      <td>0.000010</td>\n",
       "      <td>0.000008</td>\n",
       "      <td>0.000019</td>\n",
       "      <td>1.046326e-06</td>\n",
       "      <td>Salmonella_enterica</td>\n",
       "    </tr>\n",
       "    <tr>\n",
       "      <th>3</th>\n",
       "      <td>3</td>\n",
       "      <td>4.632568e-08</td>\n",
       "      <td>-0.000006</td>\n",
       "      <td>0.000012</td>\n",
       "      <td>0.000245</td>\n",
       "      <td>0.000492</td>\n",
       "      <td>0.000522</td>\n",
       "      <td>0.000396</td>\n",
       "      <td>0.000197</td>\n",
       "      <td>-0.000003</td>\n",
       "      <td>...</td>\n",
       "      <td>0.000151</td>\n",
       "      <td>0.000100</td>\n",
       "      <td>0.000180</td>\n",
       "      <td>0.000202</td>\n",
       "      <td>0.000153</td>\n",
       "      <td>0.000021</td>\n",
       "      <td>0.000015</td>\n",
       "      <td>0.000046</td>\n",
       "      <td>-9.536743e-07</td>\n",
       "      <td>Salmonella_enterica</td>\n",
       "    </tr>\n",
       "    <tr>\n",
       "      <th>4</th>\n",
       "      <td>4</td>\n",
       "      <td>-9.536743e-07</td>\n",
       "      <td>-0.000010</td>\n",
       "      <td>-0.000043</td>\n",
       "      <td>-0.000114</td>\n",
       "      <td>-0.000200</td>\n",
       "      <td>-0.000240</td>\n",
       "      <td>-0.000200</td>\n",
       "      <td>-0.000114</td>\n",
       "      <td>-0.000043</td>\n",
       "      <td>...</td>\n",
       "      <td>-0.000086</td>\n",
       "      <td>-0.000043</td>\n",
       "      <td>-0.000086</td>\n",
       "      <td>-0.000086</td>\n",
       "      <td>-0.000043</td>\n",
       "      <td>-0.000010</td>\n",
       "      <td>-0.000010</td>\n",
       "      <td>-0.000010</td>\n",
       "      <td>-9.536743e-07</td>\n",
       "      <td>Enterococcus_hirae</td>\n",
       "    </tr>\n",
       "  </tbody>\n",
       "</table>\n",
       "<p>5 rows × 288 columns</p>\n",
       "</div>"
      ],
      "text/plain": [
       "   row_id     A0T0G0C10  A0T0G1C9  A0T0G2C8  A0T0G3C7  A0T0G4C6  A0T0G5C5  \\\n",
       "0       0 -9.536743e-07 -0.000010 -0.000043 -0.000114 -0.000200 -0.000240   \n",
       "1       1 -9.536743e-07 -0.000010 -0.000043  0.000886 -0.000200  0.000760   \n",
       "2       2 -9.536743e-07 -0.000002  0.000007  0.000129  0.000268  0.000270   \n",
       "3       3  4.632568e-08 -0.000006  0.000012  0.000245  0.000492  0.000522   \n",
       "4       4 -9.536743e-07 -0.000010 -0.000043 -0.000114 -0.000200 -0.000240   \n",
       "\n",
       "   A0T0G6C4  A0T0G7C3  A0T0G8C2  ...  A8T0G1C1  A8T0G2C0  A8T1G0C1  A8T1G1C0  \\\n",
       "0 -0.000200 -0.000114 -0.000043  ... -0.000086 -0.000043 -0.000086 -0.000086   \n",
       "1 -0.000200 -0.000114 -0.000043  ... -0.000086 -0.000043  0.000914  0.000914   \n",
       "2  0.000243  0.000125  0.000001  ...  0.000084  0.000048  0.000081  0.000106   \n",
       "3  0.000396  0.000197 -0.000003  ...  0.000151  0.000100  0.000180  0.000202   \n",
       "4 -0.000200 -0.000114 -0.000043  ... -0.000086 -0.000043 -0.000086 -0.000086   \n",
       "\n",
       "   A8T2G0C0  A9T0G0C1  A9T0G1C0  A9T1G0C0     A10T0G0C0  \\\n",
       "0 -0.000043 -0.000010 -0.000010 -0.000010 -9.536743e-07   \n",
       "1 -0.000043 -0.000010 -0.000010 -0.000010 -9.536743e-07   \n",
       "2  0.000072  0.000010  0.000008  0.000019  1.046326e-06   \n",
       "3  0.000153  0.000021  0.000015  0.000046 -9.536743e-07   \n",
       "4 -0.000043 -0.000010 -0.000010 -0.000010 -9.536743e-07   \n",
       "\n",
       "                   target  \n",
       "0  Streptococcus_pyogenes  \n",
       "1     Salmonella_enterica  \n",
       "2     Salmonella_enterica  \n",
       "3     Salmonella_enterica  \n",
       "4      Enterococcus_hirae  \n",
       "\n",
       "[5 rows x 288 columns]"
      ]
     },
     "execution_count": 2,
     "metadata": {},
     "output_type": "execute_result"
    }
   ],
   "source": [
    "df = pd.read_csv('../input/tabular-playground-series-feb-2022/train.csv')\n",
    "df.head()"
   ]
  },
  {
   "cell_type": "code",
   "execution_count": 3,
   "id": "372a53c1",
   "metadata": {
    "execution": {
     "iopub.execute_input": "2022-02-02T14:23:02.579095Z",
     "iopub.status.busy": "2022-02-02T14:23:02.578459Z",
     "iopub.status.idle": "2022-02-02T14:23:02.581022Z",
     "shell.execute_reply": "2022-02-02T14:23:02.581443Z",
     "shell.execute_reply.started": "2022-02-02T14:12:41.578742Z"
    },
    "papermill": {
     "duration": 0.018967,
     "end_time": "2022-02-02T14:23:02.581558",
     "exception": false,
     "start_time": "2022-02-02T14:23:02.562591",
     "status": "completed"
    },
    "tags": []
   },
   "outputs": [
    {
     "data": {
      "text/plain": [
       "Index(['row_id', 'A0T0G0C10', 'A0T0G1C9', 'A0T0G2C8', 'A0T0G3C7', 'A0T0G4C6',\n",
       "       'A0T0G5C5', 'A0T0G6C4', 'A0T0G7C3', 'A0T0G8C2',\n",
       "       ...\n",
       "       'A8T0G1C1', 'A8T0G2C0', 'A8T1G0C1', 'A8T1G1C0', 'A8T2G0C0', 'A9T0G0C1',\n",
       "       'A9T0G1C0', 'A9T1G0C0', 'A10T0G0C0', 'target'],\n",
       "      dtype='object', length=288)"
      ]
     },
     "execution_count": 3,
     "metadata": {},
     "output_type": "execute_result"
    }
   ],
   "source": [
    "df.columns"
   ]
  },
  {
   "cell_type": "code",
   "execution_count": 4,
   "id": "8fb79837",
   "metadata": {
    "execution": {
     "iopub.execute_input": "2022-02-02T14:23:02.622364Z",
     "iopub.status.busy": "2022-02-02T14:23:02.621656Z",
     "iopub.status.idle": "2022-02-02T14:23:02.632706Z",
     "shell.execute_reply": "2022-02-02T14:23:02.632320Z",
     "shell.execute_reply.started": "2022-02-02T14:12:41.587258Z"
    },
    "papermill": {
     "duration": 0.039609,
     "end_time": "2022-02-02T14:23:02.632835",
     "exception": false,
     "start_time": "2022-02-02T14:23:02.593226",
     "status": "completed"
    },
    "tags": []
   },
   "outputs": [
    {
     "data": {
      "text/plain": [
       "10"
      ]
     },
     "execution_count": 4,
     "metadata": {},
     "output_type": "execute_result"
    }
   ],
   "source": [
    "df['target'].nunique()"
   ]
  },
  {
   "cell_type": "code",
   "execution_count": 5,
   "id": "30ac0409",
   "metadata": {
    "execution": {
     "iopub.execute_input": "2022-02-02T14:23:02.662946Z",
     "iopub.status.busy": "2022-02-02T14:23:02.661854Z",
     "iopub.status.idle": "2022-02-02T14:23:02.664849Z",
     "shell.execute_reply": "2022-02-02T14:23:02.665260Z",
     "shell.execute_reply.started": "2022-02-02T14:12:41.618783Z"
    },
    "papermill": {
     "duration": 0.02061,
     "end_time": "2022-02-02T14:23:02.665373",
     "exception": false,
     "start_time": "2022-02-02T14:23:02.644763",
     "status": "completed"
    },
    "tags": []
   },
   "outputs": [
    {
     "data": {
      "text/plain": [
       "['target']"
      ]
     },
     "execution_count": 5,
     "metadata": {},
     "output_type": "execute_result"
    }
   ],
   "source": [
    "cat_col = list( set(df.columns ) - set(df._get_numeric_data().columns))\n",
    "cat_col"
   ]
  },
  {
   "cell_type": "code",
   "execution_count": 6,
   "id": "9cef53b0",
   "metadata": {
    "execution": {
     "iopub.execute_input": "2022-02-02T14:23:02.694130Z",
     "iopub.status.busy": "2022-02-02T14:23:02.693248Z",
     "iopub.status.idle": "2022-02-02T14:23:03.322037Z",
     "shell.execute_reply": "2022-02-02T14:23:03.322608Z",
     "shell.execute_reply.started": "2022-02-02T14:12:41.627179Z"
    },
    "papermill": {
     "duration": 0.645251,
     "end_time": "2022-02-02T14:23:03.322767",
     "exception": false,
     "start_time": "2022-02-02T14:23:02.677516",
     "status": "completed"
    },
    "tags": []
   },
   "outputs": [
    {
     "data": {
      "text/plain": [
       "['A0T0G0C10',\n",
       " 'A0T0G1C9',\n",
       " 'A0T0G9C1',\n",
       " 'A0T0G10C0',\n",
       " 'A0T1G0C9',\n",
       " 'A0T10G0C0',\n",
       " 'A1T0G9C0',\n",
       " 'A10T0G0C0',\n",
       " 'target']"
      ]
     },
     "execution_count": 6,
     "metadata": {},
     "output_type": "execute_result"
    }
   ],
   "source": [
    "col1 = [col for col in df.columns if df[col].nunique()<=25]\n",
    "col1"
   ]
  },
  {
   "cell_type": "code",
   "execution_count": 7,
   "id": "7a06e344",
   "metadata": {
    "execution": {
     "iopub.execute_input": "2022-02-02T14:23:03.353056Z",
     "iopub.status.busy": "2022-02-02T14:23:03.352430Z",
     "iopub.status.idle": "2022-02-02T14:23:04.317707Z",
     "shell.execute_reply": "2022-02-02T14:23:04.318334Z",
     "shell.execute_reply.started": "2022-02-02T14:12:42.245877Z"
    },
    "papermill": {
     "duration": 0.983093,
     "end_time": "2022-02-02T14:23:04.318516",
     "exception": false,
     "start_time": "2022-02-02T14:23:03.335423",
     "status": "completed"
    },
    "tags": []
   },
   "outputs": [],
   "source": [
    "from sklearn.preprocessing import LabelEncoder\n",
    "encoder = LabelEncoder()\n",
    "encoder.fit(df['target'])\n",
    "df['target'] = encoder.transform(df.target)"
   ]
  },
  {
   "cell_type": "code",
   "execution_count": 8,
   "id": "51aa2489",
   "metadata": {
    "execution": {
     "iopub.execute_input": "2022-02-02T14:23:04.352277Z",
     "iopub.status.busy": "2022-02-02T14:23:04.351657Z",
     "iopub.status.idle": "2022-02-02T14:23:04.357922Z",
     "shell.execute_reply": "2022-02-02T14:23:04.357409Z",
     "shell.execute_reply.started": "2022-02-02T14:12:43.088151Z"
    },
    "papermill": {
     "duration": 0.025823,
     "end_time": "2022-02-02T14:23:04.358051",
     "exception": false,
     "start_time": "2022-02-02T14:23:04.332228",
     "status": "completed"
    },
    "tags": []
   },
   "outputs": [
    {
     "data": {
      "text/plain": [
       "0         9\n",
       "1         6\n",
       "2         6\n",
       "3         6\n",
       "4         2\n",
       "         ..\n",
       "199995    6\n",
       "199996    9\n",
       "199997    8\n",
       "199998    7\n",
       "199999    5\n",
       "Name: target, Length: 200000, dtype: int64"
      ]
     },
     "execution_count": 8,
     "metadata": {},
     "output_type": "execute_result"
    }
   ],
   "source": [
    "df['target']"
   ]
  },
  {
   "cell_type": "code",
   "execution_count": 9,
   "id": "5075d1ec",
   "metadata": {
    "execution": {
     "iopub.execute_input": "2022-02-02T14:23:04.391162Z",
     "iopub.status.busy": "2022-02-02T14:23:04.390628Z",
     "iopub.status.idle": "2022-02-02T14:23:04.394165Z",
     "shell.execute_reply": "2022-02-02T14:23:04.393617Z",
     "shell.execute_reply.started": "2022-02-02T14:15:48.230655Z"
    },
    "papermill": {
     "duration": 0.021713,
     "end_time": "2022-02-02T14:23:04.394278",
     "exception": false,
     "start_time": "2022-02-02T14:23:04.372565",
     "status": "completed"
    },
    "tags": []
   },
   "outputs": [],
   "source": [
    "xgb_params = { \n",
    "                         'n_jobs' : 4,\n",
    "                         'n_estimators' : 2000,\n",
    "                         'tree_method' : 'gpu_hist',\n",
    "                         'learning_rate': 0.1,\n",
    "                         'subsample' : 0.9,\n",
    "                         'max_depth' : 3,\n",
    "                         'colsample_bytree' : 0.5,\n",
    "                         'reg_alpha' : 30,\n",
    "                         'eval_metric' : 'rmse',\n",
    "    'min_child_weight' : 1\n",
    "             }"
   ]
  },
  {
   "cell_type": "code",
   "execution_count": 10,
   "id": "4a99e5e1",
   "metadata": {
    "execution": {
     "iopub.execute_input": "2022-02-02T14:23:04.424991Z",
     "iopub.status.busy": "2022-02-02T14:23:04.422636Z",
     "iopub.status.idle": "2022-02-02T14:23:04.687184Z",
     "shell.execute_reply": "2022-02-02T14:23:04.686627Z",
     "shell.execute_reply.started": "2022-02-02T14:19:13.990524Z"
    },
    "papermill": {
     "duration": 0.280057,
     "end_time": "2022-02-02T14:23:04.687312",
     "exception": false,
     "start_time": "2022-02-02T14:23:04.407255",
     "status": "completed"
    },
    "tags": []
   },
   "outputs": [],
   "source": [
    "feats = [col for col in df.columns if col != 'target' and col !='row_id']\n",
    "from xgboost import XGBClassifier\n",
    "model = XGBClassifier(**xgb_params)\n",
    "x = df[feats]\n",
    "y = df['target']"
   ]
  },
  {
   "cell_type": "code",
   "execution_count": null,
   "id": "26a2b1db",
   "metadata": {
    "papermill": {
     "duration": 0.012926,
     "end_time": "2022-02-02T14:23:04.713512",
     "exception": false,
     "start_time": "2022-02-02T14:23:04.700586",
     "status": "completed"
    },
    "tags": []
   },
   "outputs": [],
   "source": []
  },
  {
   "cell_type": "code",
   "execution_count": 11,
   "id": "40f1aedb",
   "metadata": {
    "execution": {
     "iopub.execute_input": "2022-02-02T14:23:04.744134Z",
     "iopub.status.busy": "2022-02-02T14:23:04.743519Z",
     "iopub.status.idle": "2022-02-02T14:25:17.951229Z",
     "shell.execute_reply": "2022-02-02T14:25:17.950656Z",
     "shell.execute_reply.started": "2022-02-02T14:19:29.379986Z"
    },
    "papermill": {
     "duration": 133.224879,
     "end_time": "2022-02-02T14:25:17.951350",
     "exception": false,
     "start_time": "2022-02-02T14:23:04.726471",
     "status": "completed"
    },
    "tags": []
   },
   "outputs": [
    {
     "name": "stderr",
     "output_type": "stream",
     "text": [
      "/opt/conda/lib/python3.7/site-packages/xgboost/sklearn.py:1224: UserWarning: The use of label encoder in XGBClassifier is deprecated and will be removed in a future release. To remove this warning, do the following: 1) Pass option use_label_encoder=False when constructing XGBClassifier object; and 2) Encode your labels (y) as integers starting with 0, i.e. 0, 1, 2, ..., [num_class - 1].\n",
      "  warnings.warn(label_encoder_deprecation_msg, UserWarning)\n"
     ]
    },
    {
     "name": "stdout",
     "output_type": "stream",
     "text": [
      "CPU times: user 2min 11s, sys: 895 ms, total: 2min 12s\n",
      "Wall time: 2min 13s\n"
     ]
    },
    {
     "data": {
      "text/plain": [
       "XGBClassifier(base_score=0.5, booster='gbtree', colsample_bylevel=1,\n",
       "              colsample_bynode=1, colsample_bytree=0.5,\n",
       "              enable_categorical=False, eval_metric='rmse', gamma=0, gpu_id=0,\n",
       "              importance_type=None, interaction_constraints='',\n",
       "              learning_rate=0.1, max_delta_step=0, max_depth=3,\n",
       "              min_child_weight=1, missing=nan, monotone_constraints='()',\n",
       "              n_estimators=2000, n_jobs=4, num_parallel_tree=1,\n",
       "              objective='multi:softprob', predictor='auto', random_state=0,\n",
       "              reg_alpha=30, reg_lambda=1, scale_pos_weight=None, subsample=0.9,\n",
       "              tree_method='gpu_hist', validate_parameters=1, verbosity=None)"
      ]
     },
     "execution_count": 11,
     "metadata": {},
     "output_type": "execute_result"
    }
   ],
   "source": [
    "%%time\n",
    "model.fit(x,y,eval_metric = 'rmse')\n"
   ]
  },
  {
   "cell_type": "code",
   "execution_count": 12,
   "id": "cdffeca8",
   "metadata": {
    "execution": {
     "iopub.execute_input": "2022-02-02T14:25:17.983301Z",
     "iopub.status.busy": "2022-02-02T14:25:17.982793Z",
     "iopub.status.idle": "2022-02-02T14:25:48.633517Z",
     "shell.execute_reply": "2022-02-02T14:25:48.632769Z",
     "shell.execute_reply.started": "2022-02-02T14:21:40.456214Z"
    },
    "papermill": {
     "duration": 30.668624,
     "end_time": "2022-02-02T14:25:48.633652",
     "exception": false,
     "start_time": "2022-02-02T14:25:17.965028",
     "status": "completed"
    },
    "tags": []
   },
   "outputs": [],
   "source": [
    "test = pd.read_csv('../input/tabular-playground-series-feb-2022/test.csv')\n",
    "sample = pd.read_csv('../input/tabular-playground-series-feb-2022/sample_submission.csv')\n",
    "test_pred = model.predict(test[feats])\n",
    "sample['target'] = encoder.inverse_transform(test_pred)\n",
    "sample.to_csv('submission.csv', index=False)"
   ]
  },
  {
   "cell_type": "code",
   "execution_count": 13,
   "id": "e27f730a",
   "metadata": {
    "execution": {
     "iopub.execute_input": "2022-02-02T14:25:48.672526Z",
     "iopub.status.busy": "2022-02-02T14:25:48.671590Z",
     "iopub.status.idle": "2022-02-02T14:25:48.675619Z",
     "shell.execute_reply": "2022-02-02T14:25:48.676084Z",
     "shell.execute_reply.started": "2022-02-02T14:22:05.449961Z"
    },
    "papermill": {
     "duration": 0.026719,
     "end_time": "2022-02-02T14:25:48.676226",
     "exception": false,
     "start_time": "2022-02-02T14:25:48.649507",
     "status": "completed"
    },
    "tags": []
   },
   "outputs": [
    {
     "data": {
      "text/html": [
       "<div>\n",
       "<style scoped>\n",
       "    .dataframe tbody tr th:only-of-type {\n",
       "        vertical-align: middle;\n",
       "    }\n",
       "\n",
       "    .dataframe tbody tr th {\n",
       "        vertical-align: top;\n",
       "    }\n",
       "\n",
       "    .dataframe thead th {\n",
       "        text-align: right;\n",
       "    }\n",
       "</style>\n",
       "<table border=\"1\" class=\"dataframe\">\n",
       "  <thead>\n",
       "    <tr style=\"text-align: right;\">\n",
       "      <th></th>\n",
       "      <th>row_id</th>\n",
       "      <th>target</th>\n",
       "    </tr>\n",
       "  </thead>\n",
       "  <tbody>\n",
       "    <tr>\n",
       "      <th>0</th>\n",
       "      <td>200000</td>\n",
       "      <td>Escherichia_fergusonii</td>\n",
       "    </tr>\n",
       "    <tr>\n",
       "      <th>1</th>\n",
       "      <td>200001</td>\n",
       "      <td>Salmonella_enterica</td>\n",
       "    </tr>\n",
       "    <tr>\n",
       "      <th>2</th>\n",
       "      <td>200002</td>\n",
       "      <td>Enterococcus_hirae</td>\n",
       "    </tr>\n",
       "    <tr>\n",
       "      <th>3</th>\n",
       "      <td>200003</td>\n",
       "      <td>Salmonella_enterica</td>\n",
       "    </tr>\n",
       "    <tr>\n",
       "      <th>4</th>\n",
       "      <td>200004</td>\n",
       "      <td>Staphylococcus_aureus</td>\n",
       "    </tr>\n",
       "  </tbody>\n",
       "</table>\n",
       "</div>"
      ],
      "text/plain": [
       "   row_id                  target\n",
       "0  200000  Escherichia_fergusonii\n",
       "1  200001     Salmonella_enterica\n",
       "2  200002      Enterococcus_hirae\n",
       "3  200003     Salmonella_enterica\n",
       "4  200004   Staphylococcus_aureus"
      ]
     },
     "execution_count": 13,
     "metadata": {},
     "output_type": "execute_result"
    }
   ],
   "source": [
    "sample.head()"
   ]
  },
  {
   "cell_type": "code",
   "execution_count": null,
   "id": "d66cc064",
   "metadata": {
    "papermill": {
     "duration": 0.014413,
     "end_time": "2022-02-02T14:25:48.705409",
     "exception": false,
     "start_time": "2022-02-02T14:25:48.690996",
     "status": "completed"
    },
    "tags": []
   },
   "outputs": [],
   "source": []
  }
 ],
 "metadata": {
  "kernelspec": {
   "display_name": "Python 3",
   "language": "python",
   "name": "python3"
  },
  "language_info": {
   "codemirror_mode": {
    "name": "ipython",
    "version": 3
   },
   "file_extension": ".py",
   "mimetype": "text/x-python",
   "name": "python",
   "nbconvert_exporter": "python",
   "pygments_lexer": "ipython3",
   "version": "3.7.12"
  },
  "papermill": {
   "default_parameters": {},
   "duration": 200.383004,
   "end_time": "2022-02-02T14:25:49.929909",
   "environment_variables": {},
   "exception": null,
   "input_path": "__notebook__.ipynb",
   "output_path": "__notebook__.ipynb",
   "parameters": {},
   "start_time": "2022-02-02T14:22:29.546905",
   "version": "2.3.3"
  }
 },
 "nbformat": 4,
 "nbformat_minor": 5
}
