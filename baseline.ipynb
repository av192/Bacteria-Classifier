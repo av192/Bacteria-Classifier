{
 "cells": [
  {
   "cell_type": "code",
   "execution_count": 1,
   "id": "93b7288d",
   "metadata": {
    "_cell_guid": "b1076dfc-b9ad-4769-8c92-a6c4dae69d19",
    "_uuid": "8f2839f25d086af736a60e9eeb907d3b93b6e0e5",
    "execution": {
     "iopub.execute_input": "2022-02-02T19:12:18.774962Z",
     "iopub.status.busy": "2022-02-02T19:12:18.773783Z",
     "iopub.status.idle": "2022-02-02T19:12:18.790610Z",
     "shell.execute_reply": "2022-02-02T19:12:18.791306Z",
     "shell.execute_reply.started": "2022-02-02T19:05:35.689478Z"
    },
    "papermill": {
     "duration": 0.04309,
     "end_time": "2022-02-02T19:12:18.791632",
     "exception": false,
     "start_time": "2022-02-02T19:12:18.748542",
     "status": "completed"
    },
    "tags": []
   },
   "outputs": [
    {
     "name": "stdout",
     "output_type": "stream",
     "text": [
      "/kaggle/input/tabular-playground-series-feb-2022/sample_submission.csv\n",
      "/kaggle/input/tabular-playground-series-feb-2022/train.csv\n",
      "/kaggle/input/tabular-playground-series-feb-2022/test.csv\n"
     ]
    }
   ],
   "source": [
    "# This Python 3 environment comes with many helpful analytics libraries installed\n",
    "# It is defined by the kaggle/python Docker image: https://github.com/kaggle/docker-python\n",
    "# For example, here's several helpful packages to load\n",
    "\n",
    "import numpy as np # linear algebra\n",
    "import pandas as pd # data processing, CSV file I/O (e.g. pd.read_csv)\n",
    "\n",
    "# Input data files are available in the read-only \"../input/\" directory\n",
    "# For example, running this (by clicking run or pressing Shift+Enter) will list all files under the input directory\n",
    "\n",
    "import os\n",
    "for dirname, _, filenames in os.walk('/kaggle/input'):\n",
    "    for filename in filenames:\n",
    "        print(os.path.join(dirname, filename))\n",
    "\n",
    "# You can write up to 20GB to the current directory (/kaggle/working/) that gets preserved as output when you create a version using \"Save & Run All\" \n",
    "# You can also write temporary files to /kaggle/temp/, but they won't be saved outside of the current session"
   ]
  },
  {
   "cell_type": "code",
   "execution_count": 2,
   "id": "711d711e",
   "metadata": {
    "execution": {
     "iopub.execute_input": "2022-02-02T19:12:18.841062Z",
     "iopub.status.busy": "2022-02-02T19:12:18.840435Z",
     "iopub.status.idle": "2022-02-02T19:12:49.483510Z",
     "shell.execute_reply": "2022-02-02T19:12:49.484034Z",
     "shell.execute_reply.started": "2022-02-02T19:05:35.729567Z"
    },
    "papermill": {
     "duration": 30.668363,
     "end_time": "2022-02-02T19:12:49.484190",
     "exception": false,
     "start_time": "2022-02-02T19:12:18.815827",
     "status": "completed"
    },
    "tags": []
   },
   "outputs": [
    {
     "data": {
      "text/html": [
       "<div>\n",
       "<style scoped>\n",
       "    .dataframe tbody tr th:only-of-type {\n",
       "        vertical-align: middle;\n",
       "    }\n",
       "\n",
       "    .dataframe tbody tr th {\n",
       "        vertical-align: top;\n",
       "    }\n",
       "\n",
       "    .dataframe thead th {\n",
       "        text-align: right;\n",
       "    }\n",
       "</style>\n",
       "<table border=\"1\" class=\"dataframe\">\n",
       "  <thead>\n",
       "    <tr style=\"text-align: right;\">\n",
       "      <th></th>\n",
       "      <th>row_id</th>\n",
       "      <th>A0T0G0C10</th>\n",
       "      <th>A0T0G1C9</th>\n",
       "      <th>A0T0G2C8</th>\n",
       "      <th>A0T0G3C7</th>\n",
       "      <th>A0T0G4C6</th>\n",
       "      <th>A0T0G5C5</th>\n",
       "      <th>A0T0G6C4</th>\n",
       "      <th>A0T0G7C3</th>\n",
       "      <th>A0T0G8C2</th>\n",
       "      <th>...</th>\n",
       "      <th>A8T0G1C1</th>\n",
       "      <th>A8T0G2C0</th>\n",
       "      <th>A8T1G0C1</th>\n",
       "      <th>A8T1G1C0</th>\n",
       "      <th>A8T2G0C0</th>\n",
       "      <th>A9T0G0C1</th>\n",
       "      <th>A9T0G1C0</th>\n",
       "      <th>A9T1G0C0</th>\n",
       "      <th>A10T0G0C0</th>\n",
       "      <th>target</th>\n",
       "    </tr>\n",
       "  </thead>\n",
       "  <tbody>\n",
       "    <tr>\n",
       "      <th>0</th>\n",
       "      <td>0</td>\n",
       "      <td>-9.536743e-07</td>\n",
       "      <td>-0.000010</td>\n",
       "      <td>-0.000043</td>\n",
       "      <td>-0.000114</td>\n",
       "      <td>-0.000200</td>\n",
       "      <td>-0.000240</td>\n",
       "      <td>-0.000200</td>\n",
       "      <td>-0.000114</td>\n",
       "      <td>-0.000043</td>\n",
       "      <td>...</td>\n",
       "      <td>-0.000086</td>\n",
       "      <td>-0.000043</td>\n",
       "      <td>-0.000086</td>\n",
       "      <td>-0.000086</td>\n",
       "      <td>-0.000043</td>\n",
       "      <td>-0.000010</td>\n",
       "      <td>-0.000010</td>\n",
       "      <td>-0.000010</td>\n",
       "      <td>-9.536743e-07</td>\n",
       "      <td>Streptococcus_pyogenes</td>\n",
       "    </tr>\n",
       "    <tr>\n",
       "      <th>1</th>\n",
       "      <td>1</td>\n",
       "      <td>-9.536743e-07</td>\n",
       "      <td>-0.000010</td>\n",
       "      <td>-0.000043</td>\n",
       "      <td>0.000886</td>\n",
       "      <td>-0.000200</td>\n",
       "      <td>0.000760</td>\n",
       "      <td>-0.000200</td>\n",
       "      <td>-0.000114</td>\n",
       "      <td>-0.000043</td>\n",
       "      <td>...</td>\n",
       "      <td>-0.000086</td>\n",
       "      <td>-0.000043</td>\n",
       "      <td>0.000914</td>\n",
       "      <td>0.000914</td>\n",
       "      <td>-0.000043</td>\n",
       "      <td>-0.000010</td>\n",
       "      <td>-0.000010</td>\n",
       "      <td>-0.000010</td>\n",
       "      <td>-9.536743e-07</td>\n",
       "      <td>Salmonella_enterica</td>\n",
       "    </tr>\n",
       "    <tr>\n",
       "      <th>2</th>\n",
       "      <td>2</td>\n",
       "      <td>-9.536743e-07</td>\n",
       "      <td>-0.000002</td>\n",
       "      <td>0.000007</td>\n",
       "      <td>0.000129</td>\n",
       "      <td>0.000268</td>\n",
       "      <td>0.000270</td>\n",
       "      <td>0.000243</td>\n",
       "      <td>0.000125</td>\n",
       "      <td>0.000001</td>\n",
       "      <td>...</td>\n",
       "      <td>0.000084</td>\n",
       "      <td>0.000048</td>\n",
       "      <td>0.000081</td>\n",
       "      <td>0.000106</td>\n",
       "      <td>0.000072</td>\n",
       "      <td>0.000010</td>\n",
       "      <td>0.000008</td>\n",
       "      <td>0.000019</td>\n",
       "      <td>1.046326e-06</td>\n",
       "      <td>Salmonella_enterica</td>\n",
       "    </tr>\n",
       "    <tr>\n",
       "      <th>3</th>\n",
       "      <td>3</td>\n",
       "      <td>4.632568e-08</td>\n",
       "      <td>-0.000006</td>\n",
       "      <td>0.000012</td>\n",
       "      <td>0.000245</td>\n",
       "      <td>0.000492</td>\n",
       "      <td>0.000522</td>\n",
       "      <td>0.000396</td>\n",
       "      <td>0.000197</td>\n",
       "      <td>-0.000003</td>\n",
       "      <td>...</td>\n",
       "      <td>0.000151</td>\n",
       "      <td>0.000100</td>\n",
       "      <td>0.000180</td>\n",
       "      <td>0.000202</td>\n",
       "      <td>0.000153</td>\n",
       "      <td>0.000021</td>\n",
       "      <td>0.000015</td>\n",
       "      <td>0.000046</td>\n",
       "      <td>-9.536743e-07</td>\n",
       "      <td>Salmonella_enterica</td>\n",
       "    </tr>\n",
       "    <tr>\n",
       "      <th>4</th>\n",
       "      <td>4</td>\n",
       "      <td>-9.536743e-07</td>\n",
       "      <td>-0.000010</td>\n",
       "      <td>-0.000043</td>\n",
       "      <td>-0.000114</td>\n",
       "      <td>-0.000200</td>\n",
       "      <td>-0.000240</td>\n",
       "      <td>-0.000200</td>\n",
       "      <td>-0.000114</td>\n",
       "      <td>-0.000043</td>\n",
       "      <td>...</td>\n",
       "      <td>-0.000086</td>\n",
       "      <td>-0.000043</td>\n",
       "      <td>-0.000086</td>\n",
       "      <td>-0.000086</td>\n",
       "      <td>-0.000043</td>\n",
       "      <td>-0.000010</td>\n",
       "      <td>-0.000010</td>\n",
       "      <td>-0.000010</td>\n",
       "      <td>-9.536743e-07</td>\n",
       "      <td>Enterococcus_hirae</td>\n",
       "    </tr>\n",
       "  </tbody>\n",
       "</table>\n",
       "<p>5 rows × 288 columns</p>\n",
       "</div>"
      ],
      "text/plain": [
       "   row_id     A0T0G0C10  A0T0G1C9  A0T0G2C8  A0T0G3C7  A0T0G4C6  A0T0G5C5  \\\n",
       "0       0 -9.536743e-07 -0.000010 -0.000043 -0.000114 -0.000200 -0.000240   \n",
       "1       1 -9.536743e-07 -0.000010 -0.000043  0.000886 -0.000200  0.000760   \n",
       "2       2 -9.536743e-07 -0.000002  0.000007  0.000129  0.000268  0.000270   \n",
       "3       3  4.632568e-08 -0.000006  0.000012  0.000245  0.000492  0.000522   \n",
       "4       4 -9.536743e-07 -0.000010 -0.000043 -0.000114 -0.000200 -0.000240   \n",
       "\n",
       "   A0T0G6C4  A0T0G7C3  A0T0G8C2  ...  A8T0G1C1  A8T0G2C0  A8T1G0C1  A8T1G1C0  \\\n",
       "0 -0.000200 -0.000114 -0.000043  ... -0.000086 -0.000043 -0.000086 -0.000086   \n",
       "1 -0.000200 -0.000114 -0.000043  ... -0.000086 -0.000043  0.000914  0.000914   \n",
       "2  0.000243  0.000125  0.000001  ...  0.000084  0.000048  0.000081  0.000106   \n",
       "3  0.000396  0.000197 -0.000003  ...  0.000151  0.000100  0.000180  0.000202   \n",
       "4 -0.000200 -0.000114 -0.000043  ... -0.000086 -0.000043 -0.000086 -0.000086   \n",
       "\n",
       "   A8T2G0C0  A9T0G0C1  A9T0G1C0  A9T1G0C0     A10T0G0C0  \\\n",
       "0 -0.000043 -0.000010 -0.000010 -0.000010 -9.536743e-07   \n",
       "1 -0.000043 -0.000010 -0.000010 -0.000010 -9.536743e-07   \n",
       "2  0.000072  0.000010  0.000008  0.000019  1.046326e-06   \n",
       "3  0.000153  0.000021  0.000015  0.000046 -9.536743e-07   \n",
       "4 -0.000043 -0.000010 -0.000010 -0.000010 -9.536743e-07   \n",
       "\n",
       "                   target  \n",
       "0  Streptococcus_pyogenes  \n",
       "1     Salmonella_enterica  \n",
       "2     Salmonella_enterica  \n",
       "3     Salmonella_enterica  \n",
       "4      Enterococcus_hirae  \n",
       "\n",
       "[5 rows x 288 columns]"
      ]
     },
     "execution_count": 2,
     "metadata": {},
     "output_type": "execute_result"
    }
   ],
   "source": [
    "df = pd.read_csv('../input/tabular-playground-series-feb-2022/train.csv')\n",
    "df.head()"
   ]
  },
  {
   "cell_type": "code",
   "execution_count": 3,
   "id": "ff6b83fa",
   "metadata": {
    "execution": {
     "iopub.execute_input": "2022-02-02T19:12:49.536556Z",
     "iopub.status.busy": "2022-02-02T19:12:49.535784Z",
     "iopub.status.idle": "2022-02-02T19:12:49.540293Z",
     "shell.execute_reply": "2022-02-02T19:12:49.539747Z",
     "shell.execute_reply.started": "2022-02-02T19:06:02.069524Z"
    },
    "papermill": {
     "duration": 0.03372,
     "end_time": "2022-02-02T19:12:49.540429",
     "exception": false,
     "start_time": "2022-02-02T19:12:49.506709",
     "status": "completed"
    },
    "tags": []
   },
   "outputs": [
    {
     "data": {
      "text/plain": [
       "Index(['row_id', 'A0T0G0C10', 'A0T0G1C9', 'A0T0G2C8', 'A0T0G3C7', 'A0T0G4C6',\n",
       "       'A0T0G5C5', 'A0T0G6C4', 'A0T0G7C3', 'A0T0G8C2',\n",
       "       ...\n",
       "       'A8T0G1C1', 'A8T0G2C0', 'A8T1G0C1', 'A8T1G1C0', 'A8T2G0C0', 'A9T0G0C1',\n",
       "       'A9T0G1C0', 'A9T1G0C0', 'A10T0G0C0', 'target'],\n",
       "      dtype='object', length=288)"
      ]
     },
     "execution_count": 3,
     "metadata": {},
     "output_type": "execute_result"
    }
   ],
   "source": [
    "df.columns"
   ]
  },
  {
   "cell_type": "code",
   "execution_count": 4,
   "id": "62de543d",
   "metadata": {
    "execution": {
     "iopub.execute_input": "2022-02-02T19:12:49.615126Z",
     "iopub.status.busy": "2022-02-02T19:12:49.614476Z",
     "iopub.status.idle": "2022-02-02T19:12:49.630846Z",
     "shell.execute_reply": "2022-02-02T19:12:49.630187Z",
     "shell.execute_reply.started": "2022-02-02T19:06:02.078264Z"
    },
    "papermill": {
     "duration": 0.067465,
     "end_time": "2022-02-02T19:12:49.630992",
     "exception": false,
     "start_time": "2022-02-02T19:12:49.563527",
     "status": "completed"
    },
    "tags": []
   },
   "outputs": [
    {
     "data": {
      "text/plain": [
       "10"
      ]
     },
     "execution_count": 4,
     "metadata": {},
     "output_type": "execute_result"
    }
   ],
   "source": [
    "df['target'].nunique()"
   ]
  },
  {
   "cell_type": "code",
   "execution_count": 5,
   "id": "b38bfb64",
   "metadata": {
    "execution": {
     "iopub.execute_input": "2022-02-02T19:12:49.683945Z",
     "iopub.status.busy": "2022-02-02T19:12:49.683162Z",
     "iopub.status.idle": "2022-02-02T19:12:49.688595Z",
     "shell.execute_reply": "2022-02-02T19:12:49.687897Z",
     "shell.execute_reply.started": "2022-02-02T19:06:02.118343Z"
    },
    "papermill": {
     "duration": 0.034503,
     "end_time": "2022-02-02T19:12:49.688747",
     "exception": false,
     "start_time": "2022-02-02T19:12:49.654244",
     "status": "completed"
    },
    "tags": []
   },
   "outputs": [
    {
     "data": {
      "text/plain": [
       "['target']"
      ]
     },
     "execution_count": 5,
     "metadata": {},
     "output_type": "execute_result"
    }
   ],
   "source": [
    "cat_col = list( set(df.columns ) - set(df._get_numeric_data().columns))\n",
    "cat_col"
   ]
  },
  {
   "cell_type": "code",
   "execution_count": 6,
   "id": "1251444d",
   "metadata": {
    "execution": {
     "iopub.execute_input": "2022-02-02T19:12:49.742438Z",
     "iopub.status.busy": "2022-02-02T19:12:49.741512Z",
     "iopub.status.idle": "2022-02-02T19:12:50.434454Z",
     "shell.execute_reply": "2022-02-02T19:12:50.435086Z",
     "shell.execute_reply.started": "2022-02-02T19:06:02.127145Z"
    },
    "papermill": {
     "duration": 0.722402,
     "end_time": "2022-02-02T19:12:50.435283",
     "exception": false,
     "start_time": "2022-02-02T19:12:49.712881",
     "status": "completed"
    },
    "tags": []
   },
   "outputs": [
    {
     "data": {
      "text/plain": [
       "['A0T0G0C10',\n",
       " 'A0T0G1C9',\n",
       " 'A0T0G9C1',\n",
       " 'A0T0G10C0',\n",
       " 'A0T1G0C9',\n",
       " 'A0T10G0C0',\n",
       " 'A1T0G9C0',\n",
       " 'A10T0G0C0',\n",
       " 'target']"
      ]
     },
     "execution_count": 6,
     "metadata": {},
     "output_type": "execute_result"
    }
   ],
   "source": [
    "col1 = [col for col in df.columns if df[col].nunique()<=25]\n",
    "col1"
   ]
  },
  {
   "cell_type": "code",
   "execution_count": 7,
   "id": "a3fefb51",
   "metadata": {
    "execution": {
     "iopub.execute_input": "2022-02-02T19:12:50.487324Z",
     "iopub.status.busy": "2022-02-02T19:12:50.486480Z",
     "iopub.status.idle": "2022-02-02T19:12:51.723198Z",
     "shell.execute_reply": "2022-02-02T19:12:51.722497Z",
     "shell.execute_reply.started": "2022-02-02T19:06:02.893749Z"
    },
    "papermill": {
     "duration": 1.263882,
     "end_time": "2022-02-02T19:12:51.723369",
     "exception": false,
     "start_time": "2022-02-02T19:12:50.459487",
     "status": "completed"
    },
    "tags": []
   },
   "outputs": [],
   "source": [
    "from sklearn.preprocessing import LabelEncoder\n",
    "encoder = LabelEncoder()\n",
    "encoder.fit(df['target'])\n",
    "df['target'] = encoder.transform(df.target)"
   ]
  },
  {
   "cell_type": "code",
   "execution_count": 8,
   "id": "484e44c1",
   "metadata": {
    "execution": {
     "iopub.execute_input": "2022-02-02T19:12:51.777030Z",
     "iopub.status.busy": "2022-02-02T19:12:51.776261Z",
     "iopub.status.idle": "2022-02-02T19:12:51.779138Z",
     "shell.execute_reply": "2022-02-02T19:12:51.779683Z",
     "shell.execute_reply.started": "2022-02-02T19:06:04.007728Z"
    },
    "papermill": {
     "duration": 0.03254,
     "end_time": "2022-02-02T19:12:51.779854",
     "exception": false,
     "start_time": "2022-02-02T19:12:51.747314",
     "status": "completed"
    },
    "tags": []
   },
   "outputs": [
    {
     "name": "stdout",
     "output_type": "stream",
     "text": [
      "{0: 'Bacteroides_fragilis', 1: 'Campylobacter_jejuni', 2: 'Enterococcus_hirae', 3: 'Escherichia_coli', 4: 'Escherichia_fergusonii', 5: 'Klebsiella_pneumoniae', 6: 'Salmonella_enterica', 7: 'Staphylococcus_aureus', 8: 'Streptococcus_pneumoniae', 9: 'Streptococcus_pyogenes'}\n"
     ]
    }
   ],
   "source": [
    "d = dict(zip(encoder.transform(encoder.classes_),encoder.classes_))\n",
    "print(d)"
   ]
  },
  {
   "cell_type": "code",
   "execution_count": 9,
   "id": "b7dc8d93",
   "metadata": {
    "execution": {
     "iopub.execute_input": "2022-02-02T19:12:51.837061Z",
     "iopub.status.busy": "2022-02-02T19:12:51.836419Z",
     "iopub.status.idle": "2022-02-02T19:12:51.841238Z",
     "shell.execute_reply": "2022-02-02T19:12:51.839630Z",
     "shell.execute_reply.started": "2022-02-02T19:06:04.015469Z"
    },
    "papermill": {
     "duration": 0.0364,
     "end_time": "2022-02-02T19:12:51.841446",
     "exception": false,
     "start_time": "2022-02-02T19:12:51.805046",
     "status": "completed"
    },
    "tags": []
   },
   "outputs": [
    {
     "data": {
      "text/plain": [
       "0         9\n",
       "1         6\n",
       "2         6\n",
       "3         6\n",
       "4         2\n",
       "         ..\n",
       "199995    6\n",
       "199996    9\n",
       "199997    8\n",
       "199998    7\n",
       "199999    5\n",
       "Name: target, Length: 200000, dtype: int64"
      ]
     },
     "execution_count": 9,
     "metadata": {},
     "output_type": "execute_result"
    }
   ],
   "source": [
    "df['target']"
   ]
  },
  {
   "cell_type": "code",
   "execution_count": 10,
   "id": "6bc50ef0",
   "metadata": {
    "execution": {
     "iopub.execute_input": "2022-02-02T19:12:51.898389Z",
     "iopub.status.busy": "2022-02-02T19:12:51.897466Z",
     "iopub.status.idle": "2022-02-02T19:12:51.899726Z",
     "shell.execute_reply": "2022-02-02T19:12:51.899183Z",
     "shell.execute_reply.started": "2022-02-02T19:06:04.031140Z"
    },
    "papermill": {
     "duration": 0.032717,
     "end_time": "2022-02-02T19:12:51.899874",
     "exception": false,
     "start_time": "2022-02-02T19:12:51.867157",
     "status": "completed"
    },
    "tags": []
   },
   "outputs": [],
   "source": [
    "xgb_params = { \n",
    "                         'n_jobs' : 4,\n",
    "                         'n_estimators' : 2000,\n",
    "                         'tree_method' : 'gpu_hist',\n",
    "                         'learning_rate': 0.1,\n",
    "                         'subsample' : 0.9,\n",
    "                         'max_depth' : 3,\n",
    "                         'colsample_bytree' : 0.5,\n",
    "                         'reg_alpha' : 30,\n",
    "                         'eval_metric' : 'rmse',\n",
    "    'min_child_weight' : 1\n",
    "             }"
   ]
  },
  {
   "cell_type": "code",
   "execution_count": 11,
   "id": "d82f1927",
   "metadata": {
    "execution": {
     "iopub.execute_input": "2022-02-02T19:12:51.955594Z",
     "iopub.status.busy": "2022-02-02T19:12:51.954721Z",
     "iopub.status.idle": "2022-02-02T19:12:51.956945Z",
     "shell.execute_reply": "2022-02-02T19:12:51.956328Z",
     "shell.execute_reply.started": "2022-02-02T19:06:04.042445Z"
    },
    "papermill": {
     "duration": 0.031921,
     "end_time": "2022-02-02T19:12:51.957073",
     "exception": false,
     "start_time": "2022-02-02T19:12:51.925152",
     "status": "completed"
    },
    "tags": []
   },
   "outputs": [],
   "source": [
    "feats = [col for col in df.columns if col != 'target' and col !='row_id']\n",
    "# from xgboost import XGBClassifier\n",
    "# model = XGBClassifier(**xgb_params)\n",
    "# x = df[feats]\n",
    "# y = df['target']"
   ]
  },
  {
   "cell_type": "code",
   "execution_count": 12,
   "id": "dce603b6",
   "metadata": {
    "execution": {
     "iopub.execute_input": "2022-02-02T19:12:52.013819Z",
     "iopub.status.busy": "2022-02-02T19:12:52.013113Z",
     "iopub.status.idle": "2022-02-02T19:13:07.161500Z",
     "shell.execute_reply": "2022-02-02T19:13:07.162012Z",
     "shell.execute_reply.started": "2022-02-02T19:06:04.053440Z"
    },
    "papermill": {
     "duration": 15.179935,
     "end_time": "2022-02-02T19:13:07.162195",
     "exception": false,
     "start_time": "2022-02-02T19:12:51.982260",
     "status": "completed"
    },
    "tags": []
   },
   "outputs": [],
   "source": [
    "from sklearn.model_selection import StratifiedKFold\n",
    "fold = StratifiedKFold(n_splits = 11,shuffle = True)\n",
    "test = pd.read_csv('../input/tabular-playground-series-feb-2022/test.csv',index_col='row_id')"
   ]
  },
  {
   "cell_type": "code",
   "execution_count": 13,
   "id": "b90b2c33",
   "metadata": {
    "execution": {
     "iopub.execute_input": "2022-02-02T19:13:07.225697Z",
     "iopub.status.busy": "2022-02-02T19:13:07.224980Z",
     "iopub.status.idle": "2022-02-02T19:30:44.483067Z",
     "shell.execute_reply": "2022-02-02T19:30:44.483656Z",
     "shell.execute_reply.started": "2022-02-02T19:06:41.654488Z"
    },
    "papermill": {
     "duration": 1057.296453,
     "end_time": "2022-02-02T19:30:44.484012",
     "exception": false,
     "start_time": "2022-02-02T19:13:07.187559",
     "status": "completed"
    },
    "tags": []
   },
   "outputs": [
    {
     "name": "stdout",
     "output_type": "stream",
     "text": [
      "FOLD:1\n"
     ]
    },
    {
     "name": "stderr",
     "output_type": "stream",
     "text": [
      "[Parallel(n_jobs=-1)]: Using backend ThreadingBackend with 4 concurrent workers.\n",
      "[Parallel(n_jobs=-1)]: Done  42 tasks      | elapsed:   12.5s\n",
      "[Parallel(n_jobs=-1)]: Done 192 tasks      | elapsed:   55.3s\n",
      "[Parallel(n_jobs=-1)]: Done 300 out of 300 | elapsed:  1.4min finished\n",
      "[Parallel(n_jobs=4)]: Using backend ThreadingBackend with 4 concurrent workers.\n",
      "[Parallel(n_jobs=4)]: Done  42 tasks      | elapsed:    0.2s\n",
      "[Parallel(n_jobs=4)]: Done 192 tasks      | elapsed:    0.8s\n",
      "[Parallel(n_jobs=4)]: Done 300 out of 300 | elapsed:    1.2s finished\n",
      "[Parallel(n_jobs=4)]: Using backend ThreadingBackend with 4 concurrent workers.\n"
     ]
    },
    {
     "name": "stdout",
     "output_type": "stream",
     "text": [
      "Accuracy score: 0.996260\n",
      "\n"
     ]
    },
    {
     "name": "stderr",
     "output_type": "stream",
     "text": [
      "[Parallel(n_jobs=4)]: Done  42 tasks      | elapsed:    0.6s\n",
      "[Parallel(n_jobs=4)]: Done 192 tasks      | elapsed:    2.6s\n",
      "[Parallel(n_jobs=4)]: Done 300 out of 300 | elapsed:    4.1s finished\n"
     ]
    },
    {
     "name": "stdout",
     "output_type": "stream",
     "text": [
      "FOLD:2\n"
     ]
    },
    {
     "name": "stderr",
     "output_type": "stream",
     "text": [
      "[Parallel(n_jobs=-1)]: Using backend ThreadingBackend with 4 concurrent workers.\n",
      "[Parallel(n_jobs=-1)]: Done  42 tasks      | elapsed:   14.3s\n",
      "[Parallel(n_jobs=-1)]: Done 192 tasks      | elapsed:  1.1min\n",
      "[Parallel(n_jobs=-1)]: Done 300 out of 300 | elapsed:  1.7min finished\n",
      "[Parallel(n_jobs=4)]: Using backend ThreadingBackend with 4 concurrent workers.\n",
      "[Parallel(n_jobs=4)]: Done  42 tasks      | elapsed:    0.2s\n",
      "[Parallel(n_jobs=4)]: Done 192 tasks      | elapsed:    0.6s\n",
      "[Parallel(n_jobs=4)]: Done 300 out of 300 | elapsed:    1.0s finished\n",
      "[Parallel(n_jobs=4)]: Using backend ThreadingBackend with 4 concurrent workers.\n"
     ]
    },
    {
     "name": "stdout",
     "output_type": "stream",
     "text": [
      "Accuracy score: 0.996755\n",
      "\n"
     ]
    },
    {
     "name": "stderr",
     "output_type": "stream",
     "text": [
      "[Parallel(n_jobs=4)]: Done  42 tasks      | elapsed:    0.7s\n",
      "[Parallel(n_jobs=4)]: Done 192 tasks      | elapsed:    2.9s\n",
      "[Parallel(n_jobs=4)]: Done 300 out of 300 | elapsed:    4.5s finished\n"
     ]
    },
    {
     "name": "stdout",
     "output_type": "stream",
     "text": [
      "FOLD:3\n"
     ]
    },
    {
     "name": "stderr",
     "output_type": "stream",
     "text": [
      "[Parallel(n_jobs=-1)]: Using backend ThreadingBackend with 4 concurrent workers.\n",
      "[Parallel(n_jobs=-1)]: Done  42 tasks      | elapsed:   13.9s\n",
      "[Parallel(n_jobs=-1)]: Done 192 tasks      | elapsed:  1.0min\n",
      "[Parallel(n_jobs=-1)]: Done 300 out of 300 | elapsed:  1.6min finished\n",
      "[Parallel(n_jobs=4)]: Using backend ThreadingBackend with 4 concurrent workers.\n",
      "[Parallel(n_jobs=4)]: Done  42 tasks      | elapsed:    0.1s\n",
      "[Parallel(n_jobs=4)]: Done 192 tasks      | elapsed:    0.6s\n",
      "[Parallel(n_jobs=4)]: Done 300 out of 300 | elapsed:    1.0s finished\n",
      "[Parallel(n_jobs=4)]: Using backend ThreadingBackend with 4 concurrent workers.\n"
     ]
    },
    {
     "name": "stdout",
     "output_type": "stream",
     "text": [
      "Accuracy score: 0.997580\n",
      "\n"
     ]
    },
    {
     "name": "stderr",
     "output_type": "stream",
     "text": [
      "[Parallel(n_jobs=4)]: Done  42 tasks      | elapsed:    0.7s\n",
      "[Parallel(n_jobs=4)]: Done 192 tasks      | elapsed:    3.1s\n",
      "[Parallel(n_jobs=4)]: Done 300 out of 300 | elapsed:    5.0s finished\n"
     ]
    },
    {
     "name": "stdout",
     "output_type": "stream",
     "text": [
      "FOLD:4\n"
     ]
    },
    {
     "name": "stderr",
     "output_type": "stream",
     "text": [
      "[Parallel(n_jobs=-1)]: Using backend ThreadingBackend with 4 concurrent workers.\n",
      "[Parallel(n_jobs=-1)]: Done  42 tasks      | elapsed:   12.8s\n",
      "[Parallel(n_jobs=-1)]: Done 192 tasks      | elapsed:   57.0s\n",
      "[Parallel(n_jobs=-1)]: Done 300 out of 300 | elapsed:  1.5min finished\n",
      "[Parallel(n_jobs=4)]: Using backend ThreadingBackend with 4 concurrent workers.\n",
      "[Parallel(n_jobs=4)]: Done  42 tasks      | elapsed:    0.1s\n",
      "[Parallel(n_jobs=4)]: Done 192 tasks      | elapsed:    0.6s\n",
      "[Parallel(n_jobs=4)]: Done 300 out of 300 | elapsed:    1.0s finished\n",
      "[Parallel(n_jobs=4)]: Using backend ThreadingBackend with 4 concurrent workers.\n"
     ]
    },
    {
     "name": "stdout",
     "output_type": "stream",
     "text": [
      "Accuracy score: 0.996865\n",
      "\n"
     ]
    },
    {
     "name": "stderr",
     "output_type": "stream",
     "text": [
      "[Parallel(n_jobs=4)]: Done  42 tasks      | elapsed:    0.6s\n",
      "[Parallel(n_jobs=4)]: Done 192 tasks      | elapsed:    2.7s\n",
      "[Parallel(n_jobs=4)]: Done 300 out of 300 | elapsed:    4.1s finished\n"
     ]
    },
    {
     "name": "stdout",
     "output_type": "stream",
     "text": [
      "FOLD:5\n"
     ]
    },
    {
     "name": "stderr",
     "output_type": "stream",
     "text": [
      "[Parallel(n_jobs=-1)]: Using backend ThreadingBackend with 4 concurrent workers.\n",
      "[Parallel(n_jobs=-1)]: Done  42 tasks      | elapsed:   12.3s\n",
      "[Parallel(n_jobs=-1)]: Done 192 tasks      | elapsed:   55.6s\n",
      "[Parallel(n_jobs=-1)]: Done 300 out of 300 | elapsed:  1.4min finished\n",
      "[Parallel(n_jobs=4)]: Using backend ThreadingBackend with 4 concurrent workers.\n",
      "[Parallel(n_jobs=4)]: Done  42 tasks      | elapsed:    0.1s\n",
      "[Parallel(n_jobs=4)]: Done 192 tasks      | elapsed:    0.8s\n",
      "[Parallel(n_jobs=4)]: Done 300 out of 300 | elapsed:    1.2s finished\n",
      "[Parallel(n_jobs=4)]: Using backend ThreadingBackend with 4 concurrent workers.\n"
     ]
    },
    {
     "name": "stdout",
     "output_type": "stream",
     "text": [
      "Accuracy score: 0.996645\n",
      "\n"
     ]
    },
    {
     "name": "stderr",
     "output_type": "stream",
     "text": [
      "[Parallel(n_jobs=4)]: Done  42 tasks      | elapsed:    0.6s\n",
      "[Parallel(n_jobs=4)]: Done 192 tasks      | elapsed:    2.9s\n",
      "[Parallel(n_jobs=4)]: Done 300 out of 300 | elapsed:    4.6s finished\n"
     ]
    },
    {
     "name": "stdout",
     "output_type": "stream",
     "text": [
      "FOLD:6\n"
     ]
    },
    {
     "name": "stderr",
     "output_type": "stream",
     "text": [
      "[Parallel(n_jobs=-1)]: Using backend ThreadingBackend with 4 concurrent workers.\n",
      "[Parallel(n_jobs=-1)]: Done  42 tasks      | elapsed:   12.7s\n",
      "[Parallel(n_jobs=-1)]: Done 192 tasks      | elapsed:   55.8s\n",
      "[Parallel(n_jobs=-1)]: Done 300 out of 300 | elapsed:  1.5min finished\n",
      "[Parallel(n_jobs=4)]: Using backend ThreadingBackend with 4 concurrent workers.\n",
      "[Parallel(n_jobs=4)]: Done  42 tasks      | elapsed:    0.2s\n",
      "[Parallel(n_jobs=4)]: Done 192 tasks      | elapsed:    0.6s\n",
      "[Parallel(n_jobs=4)]: Done 300 out of 300 | elapsed:    0.9s finished\n",
      "[Parallel(n_jobs=4)]: Using backend ThreadingBackend with 4 concurrent workers.\n"
     ]
    },
    {
     "name": "stdout",
     "output_type": "stream",
     "text": [
      "Accuracy score: 0.995710\n",
      "\n"
     ]
    },
    {
     "name": "stderr",
     "output_type": "stream",
     "text": [
      "[Parallel(n_jobs=4)]: Done  42 tasks      | elapsed:    0.6s\n",
      "[Parallel(n_jobs=4)]: Done 192 tasks      | elapsed:    2.5s\n",
      "[Parallel(n_jobs=4)]: Done 300 out of 300 | elapsed:    3.9s finished\n"
     ]
    },
    {
     "name": "stdout",
     "output_type": "stream",
     "text": [
      "FOLD:7\n"
     ]
    },
    {
     "name": "stderr",
     "output_type": "stream",
     "text": [
      "[Parallel(n_jobs=-1)]: Using backend ThreadingBackend with 4 concurrent workers.\n",
      "[Parallel(n_jobs=-1)]: Done  42 tasks      | elapsed:   12.9s\n",
      "[Parallel(n_jobs=-1)]: Done 192 tasks      | elapsed:   56.2s\n",
      "[Parallel(n_jobs=-1)]: Done 300 out of 300 | elapsed:  1.5min finished\n",
      "[Parallel(n_jobs=4)]: Using backend ThreadingBackend with 4 concurrent workers.\n",
      "[Parallel(n_jobs=4)]: Done  42 tasks      | elapsed:    0.1s\n",
      "[Parallel(n_jobs=4)]: Done 192 tasks      | elapsed:    0.6s\n",
      "[Parallel(n_jobs=4)]: Done 300 out of 300 | elapsed:    0.9s finished\n",
      "[Parallel(n_jobs=4)]: Using backend ThreadingBackend with 4 concurrent workers.\n"
     ]
    },
    {
     "name": "stdout",
     "output_type": "stream",
     "text": [
      "Accuracy score: 0.996920\n",
      "\n"
     ]
    },
    {
     "name": "stderr",
     "output_type": "stream",
     "text": [
      "[Parallel(n_jobs=4)]: Done  42 tasks      | elapsed:    0.6s\n",
      "[Parallel(n_jobs=4)]: Done 192 tasks      | elapsed:    2.9s\n",
      "[Parallel(n_jobs=4)]: Done 300 out of 300 | elapsed:    4.6s finished\n"
     ]
    },
    {
     "name": "stdout",
     "output_type": "stream",
     "text": [
      "FOLD:8\n"
     ]
    },
    {
     "name": "stderr",
     "output_type": "stream",
     "text": [
      "[Parallel(n_jobs=-1)]: Using backend ThreadingBackend with 4 concurrent workers.\n",
      "[Parallel(n_jobs=-1)]: Done  42 tasks      | elapsed:   12.6s\n",
      "[Parallel(n_jobs=-1)]: Done 192 tasks      | elapsed:   57.2s\n",
      "[Parallel(n_jobs=-1)]: Done 300 out of 300 | elapsed:  1.5min finished\n",
      "[Parallel(n_jobs=4)]: Using backend ThreadingBackend with 4 concurrent workers.\n",
      "[Parallel(n_jobs=4)]: Done  42 tasks      | elapsed:    0.1s\n",
      "[Parallel(n_jobs=4)]: Done 192 tasks      | elapsed:    0.6s\n",
      "[Parallel(n_jobs=4)]: Done 300 out of 300 | elapsed:    1.0s finished\n",
      "[Parallel(n_jobs=4)]: Using backend ThreadingBackend with 4 concurrent workers.\n"
     ]
    },
    {
     "name": "stdout",
     "output_type": "stream",
     "text": [
      "Accuracy score: 0.996040\n",
      "\n"
     ]
    },
    {
     "name": "stderr",
     "output_type": "stream",
     "text": [
      "[Parallel(n_jobs=4)]: Done  42 tasks      | elapsed:    0.6s\n",
      "[Parallel(n_jobs=4)]: Done 192 tasks      | elapsed:    2.7s\n",
      "[Parallel(n_jobs=4)]: Done 300 out of 300 | elapsed:    4.3s finished\n"
     ]
    },
    {
     "name": "stdout",
     "output_type": "stream",
     "text": [
      "FOLD:9\n"
     ]
    },
    {
     "name": "stderr",
     "output_type": "stream",
     "text": [
      "[Parallel(n_jobs=-1)]: Using backend ThreadingBackend with 4 concurrent workers.\n",
      "[Parallel(n_jobs=-1)]: Done  42 tasks      | elapsed:   13.0s\n",
      "[Parallel(n_jobs=-1)]: Done 192 tasks      | elapsed:   57.3s\n",
      "[Parallel(n_jobs=-1)]: Done 300 out of 300 | elapsed:  1.5min finished\n",
      "[Parallel(n_jobs=4)]: Using backend ThreadingBackend with 4 concurrent workers.\n",
      "[Parallel(n_jobs=4)]: Done  42 tasks      | elapsed:    0.2s\n",
      "[Parallel(n_jobs=4)]: Done 192 tasks      | elapsed:    0.6s\n",
      "[Parallel(n_jobs=4)]: Done 300 out of 300 | elapsed:    0.9s finished\n",
      "[Parallel(n_jobs=4)]: Using backend ThreadingBackend with 4 concurrent workers.\n"
     ]
    },
    {
     "name": "stdout",
     "output_type": "stream",
     "text": [
      "Accuracy score: 0.996480\n",
      "\n"
     ]
    },
    {
     "name": "stderr",
     "output_type": "stream",
     "text": [
      "[Parallel(n_jobs=4)]: Done  42 tasks      | elapsed:    0.6s\n",
      "[Parallel(n_jobs=4)]: Done 192 tasks      | elapsed:    2.8s\n",
      "[Parallel(n_jobs=4)]: Done 300 out of 300 | elapsed:    4.5s finished\n"
     ]
    },
    {
     "name": "stdout",
     "output_type": "stream",
     "text": [
      "FOLD:10\n"
     ]
    },
    {
     "name": "stderr",
     "output_type": "stream",
     "text": [
      "[Parallel(n_jobs=-1)]: Using backend ThreadingBackend with 4 concurrent workers.\n",
      "[Parallel(n_jobs=-1)]: Done  42 tasks      | elapsed:   13.2s\n",
      "[Parallel(n_jobs=-1)]: Done 192 tasks      | elapsed:   57.5s\n",
      "[Parallel(n_jobs=-1)]: Done 300 out of 300 | elapsed:  1.5min finished\n",
      "[Parallel(n_jobs=4)]: Using backend ThreadingBackend with 4 concurrent workers.\n",
      "[Parallel(n_jobs=4)]: Done  42 tasks      | elapsed:    0.1s\n",
      "[Parallel(n_jobs=4)]: Done 192 tasks      | elapsed:    0.6s\n",
      "[Parallel(n_jobs=4)]: Done 300 out of 300 | elapsed:    0.9s finished\n",
      "[Parallel(n_jobs=4)]: Using backend ThreadingBackend with 4 concurrent workers.\n"
     ]
    },
    {
     "name": "stdout",
     "output_type": "stream",
     "text": [
      "Accuracy score: 0.996260\n",
      "\n"
     ]
    },
    {
     "name": "stderr",
     "output_type": "stream",
     "text": [
      "[Parallel(n_jobs=4)]: Done  42 tasks      | elapsed:    0.7s\n",
      "[Parallel(n_jobs=4)]: Done 192 tasks      | elapsed:    2.8s\n",
      "[Parallel(n_jobs=4)]: Done 300 out of 300 | elapsed:    4.5s finished\n"
     ]
    },
    {
     "name": "stdout",
     "output_type": "stream",
     "text": [
      "FOLD:11\n"
     ]
    },
    {
     "name": "stderr",
     "output_type": "stream",
     "text": [
      "[Parallel(n_jobs=-1)]: Using backend ThreadingBackend with 4 concurrent workers.\n",
      "[Parallel(n_jobs=-1)]: Done  42 tasks      | elapsed:   13.1s\n",
      "[Parallel(n_jobs=-1)]: Done 192 tasks      | elapsed:   57.2s\n",
      "[Parallel(n_jobs=-1)]: Done 300 out of 300 | elapsed:  1.5min finished\n",
      "[Parallel(n_jobs=4)]: Using backend ThreadingBackend with 4 concurrent workers.\n",
      "[Parallel(n_jobs=4)]: Done  42 tasks      | elapsed:    0.1s\n",
      "[Parallel(n_jobs=4)]: Done 192 tasks      | elapsed:    0.6s\n",
      "[Parallel(n_jobs=4)]: Done 300 out of 300 | elapsed:    1.0s finished\n",
      "[Parallel(n_jobs=4)]: Using backend ThreadingBackend with 4 concurrent workers.\n"
     ]
    },
    {
     "name": "stdout",
     "output_type": "stream",
     "text": [
      "Accuracy score: 0.996315\n",
      "\n"
     ]
    },
    {
     "name": "stderr",
     "output_type": "stream",
     "text": [
      "[Parallel(n_jobs=4)]: Done  42 tasks      | elapsed:    0.6s\n",
      "[Parallel(n_jobs=4)]: Done 192 tasks      | elapsed:    2.7s\n",
      "[Parallel(n_jobs=4)]: Done 300 out of 300 | elapsed:    4.3s finished\n"
     ]
    }
   ],
   "source": [
    "from sklearn.ensemble import ExtraTreesClassifier\n",
    "from sklearn.metrics import accuracy_score\n",
    "y_pred = []\n",
    "scores = []\n",
    "X = df[feats]\n",
    "y = pd.DataFrame(pd.DataFrame(encoder.fit_transform(df['target']), columns=['target']).values.ravel())\n",
    "\n",
    "for _fold,(train_idx,test_idx) in enumerate(fold.split(X,y)):\n",
    "    print(f\"FOLD:{_fold+1}\")\n",
    "    X_train, y_train = X.iloc[train_idx], y.iloc[train_idx].values.ravel()\n",
    "    X_valid, y_valid = X.iloc[test_idx], y.iloc[test_idx].values.ravel()\n",
    "    model = ExtraTreesClassifier(\n",
    "        n_estimators=300,\n",
    "        n_jobs=-1,\n",
    "        verbose=1,\n",
    "        random_state=42\n",
    "    )\n",
    "    model.fit(X_train, y_train)\n",
    "    valid_pred = model.predict(X_valid)\n",
    "    valid_score = accuracy_score(y_valid, valid_pred)\n",
    "    print(f'Accuracy score: {valid_score:6f}\\n')\n",
    "    scores.append(valid_score)\n",
    "    y_pred.append(model.predict(test))"
   ]
  },
  {
   "cell_type": "code",
   "execution_count": 14,
   "id": "d48c0900",
   "metadata": {
    "execution": {
     "iopub.execute_input": "2022-02-02T19:30:44.639202Z",
     "iopub.status.busy": "2022-02-02T19:30:44.638531Z",
     "iopub.status.idle": "2022-02-02T19:30:47.789503Z",
     "shell.execute_reply": "2022-02-02T19:30:47.790022Z",
     "shell.execute_reply.started": "2022-02-02T19:10:03.615907Z"
    },
    "papermill": {
     "duration": 3.232255,
     "end_time": "2022-02-02T19:30:47.790197",
     "exception": false,
     "start_time": "2022-02-02T19:30:44.557942",
     "status": "completed"
    },
    "tags": []
   },
   "outputs": [
    {
     "data": {
      "text/plain": [
       "array([4, 6, 2, ..., 0, 0, 9])"
      ]
     },
     "execution_count": 14,
     "metadata": {},
     "output_type": "execute_result"
    }
   ],
   "source": [
    "from scipy.stats import mode\n",
    "y_pred2 = y_pred\n",
    "y_pred2 = mode(y_pred2).mode[0]\n",
    "y_pred2"
   ]
  },
  {
   "cell_type": "code",
   "execution_count": 15,
   "id": "09eb04a4",
   "metadata": {
    "execution": {
     "iopub.execute_input": "2022-02-02T19:30:47.949716Z",
     "iopub.status.busy": "2022-02-02T19:30:47.949040Z",
     "iopub.status.idle": "2022-02-02T19:30:48.006426Z",
     "shell.execute_reply": "2022-02-02T19:30:48.005817Z",
     "shell.execute_reply.started": "2022-02-02T19:11:18.011448Z"
    },
    "papermill": {
     "duration": 0.132824,
     "end_time": "2022-02-02T19:30:48.006573",
     "exception": false,
     "start_time": "2022-02-02T19:30:47.873749",
     "status": "completed"
    },
    "tags": []
   },
   "outputs": [
    {
     "name": "stdout",
     "output_type": "stream",
     "text": [
      "{0: 'Bacteroides_fragilis', 1: 'Campylobacter_jejuni', 2: 'Enterococcus_hirae', 3: 'Escherichia_coli', 4: 'Escherichia_fergusonii', 5: 'Klebsiella_pneumoniae', 6: 'Salmonella_enterica', 7: 'Staphylococcus_aureus', 8: 'Streptococcus_pneumoniae', 9: 'Streptococcus_pyogenes'}\n"
     ]
    }
   ],
   "source": [
    "\n",
    "y_pred2 = encoder.inverse_transform(y_pred2)\n",
    "y_pred2\n",
    "preds=[]\n",
    "\n",
    "print(d)\n",
    "for i in y_pred2:\n",
    "    preds.append(d[i])\n",
    "    "
   ]
  },
  {
   "cell_type": "code",
   "execution_count": 16,
   "id": "0289400e",
   "metadata": {
    "execution": {
     "iopub.execute_input": "2022-02-02T19:30:48.159605Z",
     "iopub.status.busy": "2022-02-02T19:30:48.158948Z",
     "iopub.status.idle": "2022-02-02T19:30:48.161544Z",
     "shell.execute_reply": "2022-02-02T19:30:48.162057Z",
     "shell.execute_reply.started": "2022-02-02T19:11:20.020682Z"
    },
    "papermill": {
     "duration": 0.080572,
     "end_time": "2022-02-02T19:30:48.162274",
     "exception": false,
     "start_time": "2022-02-02T19:30:48.081702",
     "status": "completed"
    },
    "tags": []
   },
   "outputs": [],
   "source": [
    "#preds"
   ]
  },
  {
   "cell_type": "code",
   "execution_count": 17,
   "id": "c91e94df",
   "metadata": {
    "execution": {
     "iopub.execute_input": "2022-02-02T19:30:48.312760Z",
     "iopub.status.busy": "2022-02-02T19:30:48.312112Z",
     "iopub.status.idle": "2022-02-02T19:30:51.494509Z",
     "shell.execute_reply": "2022-02-02T19:30:51.493801Z",
     "shell.execute_reply.started": "2022-02-02T19:11:30.211054Z"
    },
    "papermill": {
     "duration": 3.258466,
     "end_time": "2022-02-02T19:30:51.494653",
     "exception": false,
     "start_time": "2022-02-02T19:30:48.236187",
     "status": "completed"
    },
    "tags": []
   },
   "outputs": [
    {
     "name": "stdout",
     "output_type": "stream",
     "text": [
      "Mean accuracy score: 0.996530\n"
     ]
    }
   ],
   "source": [
    "score = np.array(scores).mean()\n",
    "print(f'Mean accuracy score: {score:6f}')\n",
    "\n",
    "\n",
    "\n",
    "y_pred = mode(y_pred).mode[0]\n",
    "y_pred = encoder.inverse_transform(y_pred)\n",
    "\n"
   ]
  },
  {
   "cell_type": "code",
   "execution_count": 18,
   "id": "c69119c2",
   "metadata": {
    "execution": {
     "iopub.execute_input": "2022-02-02T19:30:51.647716Z",
     "iopub.status.busy": "2022-02-02T19:30:51.647027Z",
     "iopub.status.idle": "2022-02-02T19:30:51.651630Z",
     "shell.execute_reply": "2022-02-02T19:30:51.652269Z",
     "shell.execute_reply.started": "2022-02-02T19:11:36.122220Z"
    },
    "papermill": {
     "duration": 0.08258,
     "end_time": "2022-02-02T19:30:51.652442",
     "exception": false,
     "start_time": "2022-02-02T19:30:51.569862",
     "status": "completed"
    },
    "tags": []
   },
   "outputs": [
    {
     "data": {
      "text/plain": [
       "array([4, 6, 2, ..., 0, 0, 9])"
      ]
     },
     "execution_count": 18,
     "metadata": {},
     "output_type": "execute_result"
    }
   ],
   "source": [
    "y_pred"
   ]
  },
  {
   "cell_type": "code",
   "execution_count": 19,
   "id": "19392de5",
   "metadata": {
    "execution": {
     "iopub.execute_input": "2022-02-02T19:30:51.806645Z",
     "iopub.status.busy": "2022-02-02T19:30:51.805955Z",
     "iopub.status.idle": "2022-02-02T19:30:52.134523Z",
     "shell.execute_reply": "2022-02-02T19:30:52.133862Z",
     "shell.execute_reply.started": "2022-02-02T19:11:38.741686Z"
    },
    "papermill": {
     "duration": 0.407636,
     "end_time": "2022-02-02T19:30:52.134669",
     "exception": false,
     "start_time": "2022-02-02T19:30:51.727033",
     "status": "completed"
    },
    "tags": []
   },
   "outputs": [],
   "source": [
    "\n",
    "sample = pd.read_csv('../input/tabular-playground-series-feb-2022/sample_submission.csv')\n",
    "\n",
    "sample['target'] = preds\n",
    "sample.to_csv('submission.csv', index=False)"
   ]
  },
  {
   "cell_type": "code",
   "execution_count": 20,
   "id": "8506ab13",
   "metadata": {
    "execution": {
     "iopub.execute_input": "2022-02-02T19:30:52.296475Z",
     "iopub.status.busy": "2022-02-02T19:30:52.295785Z",
     "iopub.status.idle": "2022-02-02T19:30:52.299816Z",
     "shell.execute_reply": "2022-02-02T19:30:52.299193Z",
     "shell.execute_reply.started": "2022-02-02T19:11:41.576008Z"
    },
    "papermill": {
     "duration": 0.089636,
     "end_time": "2022-02-02T19:30:52.299993",
     "exception": false,
     "start_time": "2022-02-02T19:30:52.210357",
     "status": "completed"
    },
    "tags": []
   },
   "outputs": [
    {
     "data": {
      "text/html": [
       "<div>\n",
       "<style scoped>\n",
       "    .dataframe tbody tr th:only-of-type {\n",
       "        vertical-align: middle;\n",
       "    }\n",
       "\n",
       "    .dataframe tbody tr th {\n",
       "        vertical-align: top;\n",
       "    }\n",
       "\n",
       "    .dataframe thead th {\n",
       "        text-align: right;\n",
       "    }\n",
       "</style>\n",
       "<table border=\"1\" class=\"dataframe\">\n",
       "  <thead>\n",
       "    <tr style=\"text-align: right;\">\n",
       "      <th></th>\n",
       "      <th>row_id</th>\n",
       "      <th>target</th>\n",
       "    </tr>\n",
       "  </thead>\n",
       "  <tbody>\n",
       "    <tr>\n",
       "      <th>0</th>\n",
       "      <td>200000</td>\n",
       "      <td>Escherichia_fergusonii</td>\n",
       "    </tr>\n",
       "    <tr>\n",
       "      <th>1</th>\n",
       "      <td>200001</td>\n",
       "      <td>Salmonella_enterica</td>\n",
       "    </tr>\n",
       "    <tr>\n",
       "      <th>2</th>\n",
       "      <td>200002</td>\n",
       "      <td>Enterococcus_hirae</td>\n",
       "    </tr>\n",
       "    <tr>\n",
       "      <th>3</th>\n",
       "      <td>200003</td>\n",
       "      <td>Salmonella_enterica</td>\n",
       "    </tr>\n",
       "    <tr>\n",
       "      <th>4</th>\n",
       "      <td>200004</td>\n",
       "      <td>Staphylococcus_aureus</td>\n",
       "    </tr>\n",
       "  </tbody>\n",
       "</table>\n",
       "</div>"
      ],
      "text/plain": [
       "   row_id                  target\n",
       "0  200000  Escherichia_fergusonii\n",
       "1  200001     Salmonella_enterica\n",
       "2  200002      Enterococcus_hirae\n",
       "3  200003     Salmonella_enterica\n",
       "4  200004   Staphylococcus_aureus"
      ]
     },
     "execution_count": 20,
     "metadata": {},
     "output_type": "execute_result"
    }
   ],
   "source": [
    "sample.head()"
   ]
  },
  {
   "cell_type": "code",
   "execution_count": null,
   "id": "c25d10e6",
   "metadata": {
    "papermill": {
     "duration": 0.075434,
     "end_time": "2022-02-02T19:30:52.451735",
     "exception": false,
     "start_time": "2022-02-02T19:30:52.376301",
     "status": "completed"
    },
    "tags": []
   },
   "outputs": [],
   "source": []
  }
 ],
 "metadata": {
  "kernelspec": {
   "display_name": "Python 3",
   "language": "python",
   "name": "python3"
  },
  "language_info": {
   "codemirror_mode": {
    "name": "ipython",
    "version": 3
   },
   "file_extension": ".py",
   "mimetype": "text/x-python",
   "name": "python",
   "nbconvert_exporter": "python",
   "pygments_lexer": "ipython3",
   "version": "3.7.12"
  },
  "papermill": {
   "default_parameters": {},
   "duration": 1126.250497,
   "end_time": "2022-02-02T19:30:53.644540",
   "environment_variables": {},
   "exception": null,
   "input_path": "__notebook__.ipynb",
   "output_path": "__notebook__.ipynb",
   "parameters": {},
   "start_time": "2022-02-02T19:12:07.394043",
   "version": "2.3.3"
  }
 },
 "nbformat": 4,
 "nbformat_minor": 5
}
