{
 "cells": [
  {
   "cell_type": "code",
   "execution_count": 1,
   "id": "afa3417f",
   "metadata": {
    "_cell_guid": "b1076dfc-b9ad-4769-8c92-a6c4dae69d19",
    "_uuid": "8f2839f25d086af736a60e9eeb907d3b93b6e0e5",
    "execution": {
     "iopub.execute_input": "2022-02-02T19:19:32.445975Z",
     "iopub.status.busy": "2022-02-02T19:19:32.445141Z",
     "iopub.status.idle": "2022-02-02T19:19:32.452312Z",
     "shell.execute_reply": "2022-02-02T19:19:32.452978Z",
     "shell.execute_reply.started": "2022-02-02T19:16:02.712212Z"
    },
    "papermill": {
     "duration": 0.039145,
     "end_time": "2022-02-02T19:19:32.453239",
     "exception": false,
     "start_time": "2022-02-02T19:19:32.414094",
     "status": "completed"
    },
    "tags": []
   },
   "outputs": [
    {
     "name": "stdout",
     "output_type": "stream",
     "text": [
      "/kaggle/input/tabular-playground-series-feb-2022/sample_submission.csv\n",
      "/kaggle/input/tabular-playground-series-feb-2022/train.csv\n",
      "/kaggle/input/tabular-playground-series-feb-2022/test.csv\n"
     ]
    }
   ],
   "source": [
    "# This Python 3 environment comes with many helpful analytics libraries installed\n",
    "# It is defined by the kaggle/python Docker image: https://github.com/kaggle/docker-python\n",
    "# For example, here's several helpful packages to load\n",
    "\n",
    "import numpy as np # linear algebra\n",
    "import pandas as pd # data processing, CSV file I/O (e.g. pd.read_csv)\n",
    "\n",
    "# Input data files are available in the read-only \"../input/\" directory\n",
    "# For example, running this (by clicking run or pressing Shift+Enter) will list all files under the input directory\n",
    "\n",
    "import os\n",
    "for dirname, _, filenames in os.walk('/kaggle/input'):\n",
    "    for filename in filenames:\n",
    "        print(os.path.join(dirname, filename))\n",
    "\n",
    "# You can write up to 20GB to the current directory (/kaggle/working/) that gets preserved as output when you create a version using \"Save & Run All\" \n",
    "# You can also write temporary files to /kaggle/temp/, but they won't be saved outside of the current session"
   ]
  },
  {
   "cell_type": "code",
   "execution_count": 2,
   "id": "ed14a255",
   "metadata": {
    "execution": {
     "iopub.execute_input": "2022-02-02T19:19:32.493056Z",
     "iopub.status.busy": "2022-02-02T19:19:32.492411Z",
     "iopub.status.idle": "2022-02-02T19:19:55.827945Z",
     "shell.execute_reply": "2022-02-02T19:19:55.827473Z",
     "shell.execute_reply.started": "2022-02-02T19:16:02.747731Z"
    },
    "papermill": {
     "duration": 23.356638,
     "end_time": "2022-02-02T19:19:55.828081",
     "exception": false,
     "start_time": "2022-02-02T19:19:32.471443",
     "status": "completed"
    },
    "tags": []
   },
   "outputs": [
    {
     "data": {
      "text/html": [
       "<div>\n",
       "<style scoped>\n",
       "    .dataframe tbody tr th:only-of-type {\n",
       "        vertical-align: middle;\n",
       "    }\n",
       "\n",
       "    .dataframe tbody tr th {\n",
       "        vertical-align: top;\n",
       "    }\n",
       "\n",
       "    .dataframe thead th {\n",
       "        text-align: right;\n",
       "    }\n",
       "</style>\n",
       "<table border=\"1\" class=\"dataframe\">\n",
       "  <thead>\n",
       "    <tr style=\"text-align: right;\">\n",
       "      <th></th>\n",
       "      <th>row_id</th>\n",
       "      <th>A0T0G0C10</th>\n",
       "      <th>A0T0G1C9</th>\n",
       "      <th>A0T0G2C8</th>\n",
       "      <th>A0T0G3C7</th>\n",
       "      <th>A0T0G4C6</th>\n",
       "      <th>A0T0G5C5</th>\n",
       "      <th>A0T0G6C4</th>\n",
       "      <th>A0T0G7C3</th>\n",
       "      <th>A0T0G8C2</th>\n",
       "      <th>...</th>\n",
       "      <th>A8T0G1C1</th>\n",
       "      <th>A8T0G2C0</th>\n",
       "      <th>A8T1G0C1</th>\n",
       "      <th>A8T1G1C0</th>\n",
       "      <th>A8T2G0C0</th>\n",
       "      <th>A9T0G0C1</th>\n",
       "      <th>A9T0G1C0</th>\n",
       "      <th>A9T1G0C0</th>\n",
       "      <th>A10T0G0C0</th>\n",
       "      <th>target</th>\n",
       "    </tr>\n",
       "  </thead>\n",
       "  <tbody>\n",
       "    <tr>\n",
       "      <th>0</th>\n",
       "      <td>0</td>\n",
       "      <td>-9.536743e-07</td>\n",
       "      <td>-0.000010</td>\n",
       "      <td>-0.000043</td>\n",
       "      <td>-0.000114</td>\n",
       "      <td>-0.000200</td>\n",
       "      <td>-0.000240</td>\n",
       "      <td>-0.000200</td>\n",
       "      <td>-0.000114</td>\n",
       "      <td>-0.000043</td>\n",
       "      <td>...</td>\n",
       "      <td>-0.000086</td>\n",
       "      <td>-0.000043</td>\n",
       "      <td>-0.000086</td>\n",
       "      <td>-0.000086</td>\n",
       "      <td>-0.000043</td>\n",
       "      <td>-0.000010</td>\n",
       "      <td>-0.000010</td>\n",
       "      <td>-0.000010</td>\n",
       "      <td>-9.536743e-07</td>\n",
       "      <td>Streptococcus_pyogenes</td>\n",
       "    </tr>\n",
       "    <tr>\n",
       "      <th>1</th>\n",
       "      <td>1</td>\n",
       "      <td>-9.536743e-07</td>\n",
       "      <td>-0.000010</td>\n",
       "      <td>-0.000043</td>\n",
       "      <td>0.000886</td>\n",
       "      <td>-0.000200</td>\n",
       "      <td>0.000760</td>\n",
       "      <td>-0.000200</td>\n",
       "      <td>-0.000114</td>\n",
       "      <td>-0.000043</td>\n",
       "      <td>...</td>\n",
       "      <td>-0.000086</td>\n",
       "      <td>-0.000043</td>\n",
       "      <td>0.000914</td>\n",
       "      <td>0.000914</td>\n",
       "      <td>-0.000043</td>\n",
       "      <td>-0.000010</td>\n",
       "      <td>-0.000010</td>\n",
       "      <td>-0.000010</td>\n",
       "      <td>-9.536743e-07</td>\n",
       "      <td>Salmonella_enterica</td>\n",
       "    </tr>\n",
       "    <tr>\n",
       "      <th>2</th>\n",
       "      <td>2</td>\n",
       "      <td>-9.536743e-07</td>\n",
       "      <td>-0.000002</td>\n",
       "      <td>0.000007</td>\n",
       "      <td>0.000129</td>\n",
       "      <td>0.000268</td>\n",
       "      <td>0.000270</td>\n",
       "      <td>0.000243</td>\n",
       "      <td>0.000125</td>\n",
       "      <td>0.000001</td>\n",
       "      <td>...</td>\n",
       "      <td>0.000084</td>\n",
       "      <td>0.000048</td>\n",
       "      <td>0.000081</td>\n",
       "      <td>0.000106</td>\n",
       "      <td>0.000072</td>\n",
       "      <td>0.000010</td>\n",
       "      <td>0.000008</td>\n",
       "      <td>0.000019</td>\n",
       "      <td>1.046326e-06</td>\n",
       "      <td>Salmonella_enterica</td>\n",
       "    </tr>\n",
       "    <tr>\n",
       "      <th>3</th>\n",
       "      <td>3</td>\n",
       "      <td>4.632568e-08</td>\n",
       "      <td>-0.000006</td>\n",
       "      <td>0.000012</td>\n",
       "      <td>0.000245</td>\n",
       "      <td>0.000492</td>\n",
       "      <td>0.000522</td>\n",
       "      <td>0.000396</td>\n",
       "      <td>0.000197</td>\n",
       "      <td>-0.000003</td>\n",
       "      <td>...</td>\n",
       "      <td>0.000151</td>\n",
       "      <td>0.000100</td>\n",
       "      <td>0.000180</td>\n",
       "      <td>0.000202</td>\n",
       "      <td>0.000153</td>\n",
       "      <td>0.000021</td>\n",
       "      <td>0.000015</td>\n",
       "      <td>0.000046</td>\n",
       "      <td>-9.536743e-07</td>\n",
       "      <td>Salmonella_enterica</td>\n",
       "    </tr>\n",
       "    <tr>\n",
       "      <th>4</th>\n",
       "      <td>4</td>\n",
       "      <td>-9.536743e-07</td>\n",
       "      <td>-0.000010</td>\n",
       "      <td>-0.000043</td>\n",
       "      <td>-0.000114</td>\n",
       "      <td>-0.000200</td>\n",
       "      <td>-0.000240</td>\n",
       "      <td>-0.000200</td>\n",
       "      <td>-0.000114</td>\n",
       "      <td>-0.000043</td>\n",
       "      <td>...</td>\n",
       "      <td>-0.000086</td>\n",
       "      <td>-0.000043</td>\n",
       "      <td>-0.000086</td>\n",
       "      <td>-0.000086</td>\n",
       "      <td>-0.000043</td>\n",
       "      <td>-0.000010</td>\n",
       "      <td>-0.000010</td>\n",
       "      <td>-0.000010</td>\n",
       "      <td>-9.536743e-07</td>\n",
       "      <td>Enterococcus_hirae</td>\n",
       "    </tr>\n",
       "  </tbody>\n",
       "</table>\n",
       "<p>5 rows × 288 columns</p>\n",
       "</div>"
      ],
      "text/plain": [
       "   row_id     A0T0G0C10  A0T0G1C9  A0T0G2C8  A0T0G3C7  A0T0G4C6  A0T0G5C5  \\\n",
       "0       0 -9.536743e-07 -0.000010 -0.000043 -0.000114 -0.000200 -0.000240   \n",
       "1       1 -9.536743e-07 -0.000010 -0.000043  0.000886 -0.000200  0.000760   \n",
       "2       2 -9.536743e-07 -0.000002  0.000007  0.000129  0.000268  0.000270   \n",
       "3       3  4.632568e-08 -0.000006  0.000012  0.000245  0.000492  0.000522   \n",
       "4       4 -9.536743e-07 -0.000010 -0.000043 -0.000114 -0.000200 -0.000240   \n",
       "\n",
       "   A0T0G6C4  A0T0G7C3  A0T0G8C2  ...  A8T0G1C1  A8T0G2C0  A8T1G0C1  A8T1G1C0  \\\n",
       "0 -0.000200 -0.000114 -0.000043  ... -0.000086 -0.000043 -0.000086 -0.000086   \n",
       "1 -0.000200 -0.000114 -0.000043  ... -0.000086 -0.000043  0.000914  0.000914   \n",
       "2  0.000243  0.000125  0.000001  ...  0.000084  0.000048  0.000081  0.000106   \n",
       "3  0.000396  0.000197 -0.000003  ...  0.000151  0.000100  0.000180  0.000202   \n",
       "4 -0.000200 -0.000114 -0.000043  ... -0.000086 -0.000043 -0.000086 -0.000086   \n",
       "\n",
       "   A8T2G0C0  A9T0G0C1  A9T0G1C0  A9T1G0C0     A10T0G0C0  \\\n",
       "0 -0.000043 -0.000010 -0.000010 -0.000010 -9.536743e-07   \n",
       "1 -0.000043 -0.000010 -0.000010 -0.000010 -9.536743e-07   \n",
       "2  0.000072  0.000010  0.000008  0.000019  1.046326e-06   \n",
       "3  0.000153  0.000021  0.000015  0.000046 -9.536743e-07   \n",
       "4 -0.000043 -0.000010 -0.000010 -0.000010 -9.536743e-07   \n",
       "\n",
       "                   target  \n",
       "0  Streptococcus_pyogenes  \n",
       "1     Salmonella_enterica  \n",
       "2     Salmonella_enterica  \n",
       "3     Salmonella_enterica  \n",
       "4      Enterococcus_hirae  \n",
       "\n",
       "[5 rows x 288 columns]"
      ]
     },
     "execution_count": 2,
     "metadata": {},
     "output_type": "execute_result"
    }
   ],
   "source": [
    "df = pd.read_csv('../input/tabular-playground-series-feb-2022/train.csv')\n",
    "df.head()"
   ]
  },
  {
   "cell_type": "code",
   "execution_count": 3,
   "id": "d8e8984c",
   "metadata": {
    "execution": {
     "iopub.execute_input": "2022-02-02T19:19:55.875584Z",
     "iopub.status.busy": "2022-02-02T19:19:55.874726Z",
     "iopub.status.idle": "2022-02-02T19:19:55.879657Z",
     "shell.execute_reply": "2022-02-02T19:19:55.880354Z",
     "shell.execute_reply.started": "2022-02-02T19:16:29.036109Z"
    },
    "papermill": {
     "duration": 0.035963,
     "end_time": "2022-02-02T19:19:55.880568",
     "exception": false,
     "start_time": "2022-02-02T19:19:55.844605",
     "status": "completed"
    },
    "tags": []
   },
   "outputs": [
    {
     "data": {
      "text/plain": [
       "Index(['row_id', 'A0T0G0C10', 'A0T0G1C9', 'A0T0G2C8', 'A0T0G3C7', 'A0T0G4C6',\n",
       "       'A0T0G5C5', 'A0T0G6C4', 'A0T0G7C3', 'A0T0G8C2',\n",
       "       ...\n",
       "       'A8T0G1C1', 'A8T0G2C0', 'A8T1G0C1', 'A8T1G1C0', 'A8T2G0C0', 'A9T0G0C1',\n",
       "       'A9T0G1C0', 'A9T1G0C0', 'A10T0G0C0', 'target'],\n",
       "      dtype='object', length=288)"
      ]
     },
     "execution_count": 3,
     "metadata": {},
     "output_type": "execute_result"
    }
   ],
   "source": [
    "df.columns"
   ]
  },
  {
   "cell_type": "code",
   "execution_count": 4,
   "id": "6a980398",
   "metadata": {
    "execution": {
     "iopub.execute_input": "2022-02-02T19:19:55.959205Z",
     "iopub.status.busy": "2022-02-02T19:19:55.957227Z",
     "iopub.status.idle": "2022-02-02T19:19:55.981189Z",
     "shell.execute_reply": "2022-02-02T19:19:55.980470Z",
     "shell.execute_reply.started": "2022-02-02T19:16:29.045248Z"
    },
    "papermill": {
     "duration": 0.074555,
     "end_time": "2022-02-02T19:19:55.981344",
     "exception": false,
     "start_time": "2022-02-02T19:19:55.906789",
     "status": "completed"
    },
    "tags": []
   },
   "outputs": [
    {
     "data": {
      "text/plain": [
       "10"
      ]
     },
     "execution_count": 4,
     "metadata": {},
     "output_type": "execute_result"
    }
   ],
   "source": [
    "df['target'].nunique()"
   ]
  },
  {
   "cell_type": "code",
   "execution_count": 5,
   "id": "724e0867",
   "metadata": {
    "execution": {
     "iopub.execute_input": "2022-02-02T19:19:56.038298Z",
     "iopub.status.busy": "2022-02-02T19:19:56.037543Z",
     "iopub.status.idle": "2022-02-02T19:19:56.042264Z",
     "shell.execute_reply": "2022-02-02T19:19:56.042905Z",
     "shell.execute_reply.started": "2022-02-02T19:16:29.076490Z"
    },
    "papermill": {
     "duration": 0.037163,
     "end_time": "2022-02-02T19:19:56.043105",
     "exception": false,
     "start_time": "2022-02-02T19:19:56.005942",
     "status": "completed"
    },
    "tags": []
   },
   "outputs": [
    {
     "data": {
      "text/plain": [
       "['target']"
      ]
     },
     "execution_count": 5,
     "metadata": {},
     "output_type": "execute_result"
    }
   ],
   "source": [
    "cat_col = list( set(df.columns ) - set(df._get_numeric_data().columns))\n",
    "cat_col"
   ]
  },
  {
   "cell_type": "code",
   "execution_count": 6,
   "id": "ab04ad16",
   "metadata": {
    "execution": {
     "iopub.execute_input": "2022-02-02T19:19:56.111780Z",
     "iopub.status.busy": "2022-02-02T19:19:56.110898Z",
     "iopub.status.idle": "2022-02-02T19:19:57.030410Z",
     "shell.execute_reply": "2022-02-02T19:19:57.029495Z",
     "shell.execute_reply.started": "2022-02-02T19:16:29.085179Z"
    },
    "papermill": {
     "duration": 0.959153,
     "end_time": "2022-02-02T19:19:57.030540",
     "exception": false,
     "start_time": "2022-02-02T19:19:56.071387",
     "status": "completed"
    },
    "tags": []
   },
   "outputs": [
    {
     "data": {
      "text/plain": [
       "['A0T0G0C10',\n",
       " 'A0T0G1C9',\n",
       " 'A0T0G9C1',\n",
       " 'A0T0G10C0',\n",
       " 'A0T1G0C9',\n",
       " 'A0T10G0C0',\n",
       " 'A1T0G9C0',\n",
       " 'A10T0G0C0',\n",
       " 'target']"
      ]
     },
     "execution_count": 6,
     "metadata": {},
     "output_type": "execute_result"
    }
   ],
   "source": [
    "col1 = [col for col in df.columns if df[col].nunique()<=25]\n",
    "col1"
   ]
  },
  {
   "cell_type": "code",
   "execution_count": 7,
   "id": "a76acb0c",
   "metadata": {
    "execution": {
     "iopub.execute_input": "2022-02-02T19:19:57.068132Z",
     "iopub.status.busy": "2022-02-02T19:19:57.067372Z",
     "iopub.status.idle": "2022-02-02T19:19:58.006039Z",
     "shell.execute_reply": "2022-02-02T19:19:58.005529Z",
     "shell.execute_reply.started": "2022-02-02T19:16:29.712226Z"
    },
    "papermill": {
     "duration": 0.959019,
     "end_time": "2022-02-02T19:19:58.006173",
     "exception": false,
     "start_time": "2022-02-02T19:19:57.047154",
     "status": "completed"
    },
    "tags": []
   },
   "outputs": [],
   "source": [
    "from sklearn.preprocessing import LabelEncoder\n",
    "encoder = LabelEncoder()\n",
    "encoder.fit(df['target'])\n",
    "df['target'] = encoder.transform(df.target)"
   ]
  },
  {
   "cell_type": "code",
   "execution_count": 8,
   "id": "02277a54",
   "metadata": {
    "execution": {
     "iopub.execute_input": "2022-02-02T19:19:58.044064Z",
     "iopub.status.busy": "2022-02-02T19:19:58.043432Z",
     "iopub.status.idle": "2022-02-02T19:19:58.046450Z",
     "shell.execute_reply": "2022-02-02T19:19:58.047073Z",
     "shell.execute_reply.started": "2022-02-02T19:16:30.585136Z"
    },
    "papermill": {
     "duration": 0.02409,
     "end_time": "2022-02-02T19:19:58.047241",
     "exception": false,
     "start_time": "2022-02-02T19:19:58.023151",
     "status": "completed"
    },
    "tags": []
   },
   "outputs": [
    {
     "name": "stdout",
     "output_type": "stream",
     "text": [
      "{0: 'Bacteroides_fragilis', 1: 'Campylobacter_jejuni', 2: 'Enterococcus_hirae', 3: 'Escherichia_coli', 4: 'Escherichia_fergusonii', 5: 'Klebsiella_pneumoniae', 6: 'Salmonella_enterica', 7: 'Staphylococcus_aureus', 8: 'Streptococcus_pneumoniae', 9: 'Streptococcus_pyogenes'}\n"
     ]
    }
   ],
   "source": [
    "d = dict(zip(encoder.transform(encoder.classes_),encoder.classes_))\n",
    "print(d)"
   ]
  },
  {
   "cell_type": "code",
   "execution_count": 9,
   "id": "1968c149",
   "metadata": {
    "execution": {
     "iopub.execute_input": "2022-02-02T19:19:58.086883Z",
     "iopub.status.busy": "2022-02-02T19:19:58.082958Z",
     "iopub.status.idle": "2022-02-02T19:19:58.090332Z",
     "shell.execute_reply": "2022-02-02T19:19:58.090727Z",
     "shell.execute_reply.started": "2022-02-02T19:16:30.591908Z"
    },
    "papermill": {
     "duration": 0.026135,
     "end_time": "2022-02-02T19:19:58.090854",
     "exception": false,
     "start_time": "2022-02-02T19:19:58.064719",
     "status": "completed"
    },
    "tags": []
   },
   "outputs": [
    {
     "data": {
      "text/plain": [
       "0         9\n",
       "1         6\n",
       "2         6\n",
       "3         6\n",
       "4         2\n",
       "         ..\n",
       "199995    6\n",
       "199996    9\n",
       "199997    8\n",
       "199998    7\n",
       "199999    5\n",
       "Name: target, Length: 200000, dtype: int64"
      ]
     },
     "execution_count": 9,
     "metadata": {},
     "output_type": "execute_result"
    }
   ],
   "source": [
    "df['target']"
   ]
  },
  {
   "cell_type": "code",
   "execution_count": 10,
   "id": "bbc6a87e",
   "metadata": {
    "execution": {
     "iopub.execute_input": "2022-02-02T19:19:58.128535Z",
     "iopub.status.busy": "2022-02-02T19:19:58.128027Z",
     "iopub.status.idle": "2022-02-02T19:19:58.131757Z",
     "shell.execute_reply": "2022-02-02T19:19:58.131310Z",
     "shell.execute_reply.started": "2022-02-02T19:16:30.607000Z"
    },
    "papermill": {
     "duration": 0.024197,
     "end_time": "2022-02-02T19:19:58.131864",
     "exception": false,
     "start_time": "2022-02-02T19:19:58.107667",
     "status": "completed"
    },
    "tags": []
   },
   "outputs": [],
   "source": [
    "xgb_params = { \n",
    "                         'n_jobs' : 4,\n",
    "                         'n_estimators' : 2000,\n",
    "                         'tree_method' : 'gpu_hist',\n",
    "                         'learning_rate': 0.1,\n",
    "                         'subsample' : 0.9,\n",
    "                         'max_depth' : 3,\n",
    "                         'colsample_bytree' : 0.5,\n",
    "                         'reg_alpha' : 30,\n",
    "                         'eval_metric' : 'rmse',\n",
    "    'min_child_weight' : 1\n",
    "             }"
   ]
  },
  {
   "cell_type": "code",
   "execution_count": 11,
   "id": "21cbd079",
   "metadata": {
    "execution": {
     "iopub.execute_input": "2022-02-02T19:19:58.170408Z",
     "iopub.status.busy": "2022-02-02T19:19:58.169673Z",
     "iopub.status.idle": "2022-02-02T19:19:58.171655Z",
     "shell.execute_reply": "2022-02-02T19:19:58.172071Z",
     "shell.execute_reply.started": "2022-02-02T19:16:30.613558Z"
    },
    "papermill": {
     "duration": 0.022386,
     "end_time": "2022-02-02T19:19:58.172192",
     "exception": false,
     "start_time": "2022-02-02T19:19:58.149806",
     "status": "completed"
    },
    "tags": []
   },
   "outputs": [],
   "source": [
    "feats = [col for col in df.columns if col != 'target' and col !='row_id']\n",
    "# from xgboost import XGBClassifier\n",
    "# model = XGBClassifier(**xgb_params)\n",
    "# x = df[feats]\n",
    "# y = df['target']"
   ]
  },
  {
   "cell_type": "code",
   "execution_count": 12,
   "id": "33c322c8",
   "metadata": {
    "execution": {
     "iopub.execute_input": "2022-02-02T19:19:58.212508Z",
     "iopub.status.busy": "2022-02-02T19:19:58.211820Z",
     "iopub.status.idle": "2022-02-02T19:20:09.392596Z",
     "shell.execute_reply": "2022-02-02T19:20:09.392118Z",
     "shell.execute_reply.started": "2022-02-02T19:16:30.621829Z"
    },
    "papermill": {
     "duration": 11.202796,
     "end_time": "2022-02-02T19:20:09.392748",
     "exception": false,
     "start_time": "2022-02-02T19:19:58.189952",
     "status": "completed"
    },
    "tags": []
   },
   "outputs": [],
   "source": [
    "from sklearn.model_selection import StratifiedKFold\n",
    "fold = StratifiedKFold(n_splits = 11,shuffle = True)\n",
    "test = pd.read_csv('../input/tabular-playground-series-feb-2022/test.csv',index_col='row_id')"
   ]
  },
  {
   "cell_type": "code",
   "execution_count": 13,
   "id": "14c1e96e",
   "metadata": {
    "execution": {
     "iopub.execute_input": "2022-02-02T19:20:09.434336Z",
     "iopub.status.busy": "2022-02-02T19:20:09.433715Z",
     "iopub.status.idle": "2022-02-02T19:32:36.109791Z",
     "shell.execute_reply": "2022-02-02T19:32:36.110656Z"
    },
    "papermill": {
     "duration": 746.701007,
     "end_time": "2022-02-02T19:32:36.110859",
     "exception": false,
     "start_time": "2022-02-02T19:20:09.409852",
     "status": "completed"
    },
    "tags": []
   },
   "outputs": [
    {
     "data": {
      "text/html": [
       "<style type='text/css'>\n",
       ".datatable table.frame { margin-bottom: 0; }\n",
       ".datatable table.frame thead { border-bottom: none; }\n",
       ".datatable table.frame tr.coltypes td {  color: #FFFFFF;  line-height: 6px;  padding: 0 0.5em;}\n",
       ".datatable .bool    { background: #DDDD99; }\n",
       ".datatable .object  { background: #565656; }\n",
       ".datatable .int     { background: #5D9E5D; }\n",
       ".datatable .float   { background: #4040CC; }\n",
       ".datatable .str     { background: #CC4040; }\n",
       ".datatable .time    { background: #40CC40; }\n",
       ".datatable .row_index {  background: var(--jp-border-color3);  border-right: 1px solid var(--jp-border-color0);  color: var(--jp-ui-font-color3);  font-size: 9px;}\n",
       ".datatable .frame tbody td { text-align: left; }\n",
       ".datatable .frame tr.coltypes .row_index {  background: var(--jp-border-color0);}\n",
       ".datatable th:nth-child(2) { padding-left: 12px; }\n",
       ".datatable .hellipsis {  color: var(--jp-cell-editor-border-color);}\n",
       ".datatable .vellipsis {  background: var(--jp-layout-color0);  color: var(--jp-cell-editor-border-color);}\n",
       ".datatable .na {  color: var(--jp-cell-editor-border-color);  font-size: 80%;}\n",
       ".datatable .sp {  opacity: 0.25;}\n",
       ".datatable .footer { font-size: 9px; }\n",
       ".datatable .frame_dimensions {  background: var(--jp-border-color3);  border-top: 1px solid var(--jp-border-color0);  color: var(--jp-ui-font-color3);  display: inline-block;  opacity: 0.6;  padding: 1px 10px 1px 5px;}\n",
       "</style>\n"
      ],
      "text/plain": [
       "<IPython.core.display.HTML object>"
      ]
     },
     "metadata": {},
     "output_type": "display_data"
    },
    {
     "name": "stdout",
     "output_type": "stream",
     "text": [
      "FOLD:1\n",
      "Accuracy score: 0.979980\n",
      "\n",
      "FOLD:2\n",
      "Accuracy score: 0.980255\n",
      "\n",
      "FOLD:3\n",
      "Accuracy score: 0.979705\n",
      "\n",
      "FOLD:4\n",
      "Accuracy score: 0.977890\n",
      "\n",
      "FOLD:5\n",
      "Accuracy score: 0.978880\n",
      "\n",
      "FOLD:6\n",
      "Accuracy score: 0.980530\n",
      "\n",
      "FOLD:7\n",
      "Accuracy score: 0.978330\n",
      "\n",
      "FOLD:8\n",
      "Accuracy score: 0.980365\n",
      "\n",
      "FOLD:9\n",
      "Accuracy score: 0.978935\n",
      "\n",
      "FOLD:10\n",
      "Accuracy score: 0.981134\n",
      "\n",
      "FOLD:11\n",
      "Accuracy score: 0.980694\n",
      "\n"
     ]
    }
   ],
   "source": [
    "from sklearn.ensemble import ExtraTreesClassifier\n",
    "from lightgbm import LGBMClassifier\n",
    "from sklearn.metrics import accuracy_score\n",
    "y_pred = []\n",
    "scores = []\n",
    "X = df[feats]\n",
    "y = pd.DataFrame(pd.DataFrame(encoder.fit_transform(df['target']), columns=['target']).values.ravel())\n",
    "\n",
    "for _fold,(train_idx,test_idx) in enumerate(fold.split(X,y)):\n",
    "    print(f\"FOLD:{_fold+1}\")\n",
    "    X_train, y_train = X.iloc[train_idx], y.iloc[train_idx].values.ravel()\n",
    "    X_valid, y_valid = X.iloc[test_idx], y.iloc[test_idx].values.ravel()\n",
    "    model = LGBMClassifier(device='gpu') \n",
    "    model.fit(X_train, y_train)\n",
    "    valid_pred = model.predict(X_valid)\n",
    "    valid_score = accuracy_score(y_valid, valid_pred)\n",
    "    print(f'Accuracy score: {valid_score:6f}\\n')\n",
    "    scores.append(valid_score)\n",
    "    y_pred.append(model.predict(test))"
   ]
  },
  {
   "cell_type": "code",
   "execution_count": 14,
   "id": "4b4bb96f",
   "metadata": {
    "execution": {
     "iopub.execute_input": "2022-02-02T19:32:36.162863Z",
     "iopub.status.busy": "2022-02-02T19:32:36.160583Z",
     "iopub.status.idle": "2022-02-02T19:32:39.189863Z",
     "shell.execute_reply": "2022-02-02T19:32:39.189396Z",
     "shell.execute_reply.started": "2022-02-02T19:16:45.736463Z"
    },
    "papermill": {
     "duration": 3.055324,
     "end_time": "2022-02-02T19:32:39.189994",
     "exception": false,
     "start_time": "2022-02-02T19:32:36.134670",
     "status": "completed"
    },
    "tags": []
   },
   "outputs": [
    {
     "data": {
      "text/plain": [
       "array([4, 6, 2, ..., 0, 0, 9])"
      ]
     },
     "execution_count": 14,
     "metadata": {},
     "output_type": "execute_result"
    }
   ],
   "source": [
    "from scipy.stats import mode\n",
    "y_pred2 = y_pred\n",
    "y_pred2 = mode(y_pred2).mode[0]\n",
    "y_pred2"
   ]
  },
  {
   "cell_type": "code",
   "execution_count": 15,
   "id": "9010a7e2",
   "metadata": {
    "execution": {
     "iopub.execute_input": "2022-02-02T19:32:39.241475Z",
     "iopub.status.busy": "2022-02-02T19:32:39.240732Z",
     "iopub.status.idle": "2022-02-02T19:32:39.283090Z",
     "shell.execute_reply": "2022-02-02T19:32:39.282624Z",
     "shell.execute_reply.started": "2022-02-02T19:16:45.740702Z"
    },
    "papermill": {
     "duration": 0.06977,
     "end_time": "2022-02-02T19:32:39.283212",
     "exception": false,
     "start_time": "2022-02-02T19:32:39.213442",
     "status": "completed"
    },
    "tags": []
   },
   "outputs": [
    {
     "name": "stdout",
     "output_type": "stream",
     "text": [
      "{0: 'Bacteroides_fragilis', 1: 'Campylobacter_jejuni', 2: 'Enterococcus_hirae', 3: 'Escherichia_coli', 4: 'Escherichia_fergusonii', 5: 'Klebsiella_pneumoniae', 6: 'Salmonella_enterica', 7: 'Staphylococcus_aureus', 8: 'Streptococcus_pneumoniae', 9: 'Streptococcus_pyogenes'}\n"
     ]
    }
   ],
   "source": [
    "\n",
    "y_pred2 = encoder.inverse_transform(y_pred2)\n",
    "y_pred2\n",
    "preds=[]\n",
    "\n",
    "print(d)\n",
    "for i in y_pred2:\n",
    "    preds.append(d[i])\n",
    "    "
   ]
  },
  {
   "cell_type": "code",
   "execution_count": 16,
   "id": "4937a27f",
   "metadata": {
    "execution": {
     "iopub.execute_input": "2022-02-02T19:32:39.333840Z",
     "iopub.status.busy": "2022-02-02T19:32:39.333093Z",
     "iopub.status.idle": "2022-02-02T19:32:39.335528Z",
     "shell.execute_reply": "2022-02-02T19:32:39.335110Z",
     "shell.execute_reply.started": "2022-02-02T19:16:45.743319Z"
    },
    "papermill": {
     "duration": 0.029196,
     "end_time": "2022-02-02T19:32:39.335631",
     "exception": false,
     "start_time": "2022-02-02T19:32:39.306435",
     "status": "completed"
    },
    "tags": []
   },
   "outputs": [],
   "source": [
    "#preds"
   ]
  },
  {
   "cell_type": "code",
   "execution_count": 17,
   "id": "a6f7333f",
   "metadata": {
    "execution": {
     "iopub.execute_input": "2022-02-02T19:32:39.389410Z",
     "iopub.status.busy": "2022-02-02T19:32:39.386588Z",
     "iopub.status.idle": "2022-02-02T19:32:42.220710Z",
     "shell.execute_reply": "2022-02-02T19:32:42.220152Z",
     "shell.execute_reply.started": "2022-02-02T19:16:45.745283Z"
    },
    "papermill": {
     "duration": 2.861879,
     "end_time": "2022-02-02T19:32:42.220862",
     "exception": false,
     "start_time": "2022-02-02T19:32:39.358983",
     "status": "completed"
    },
    "tags": []
   },
   "outputs": [
    {
     "name": "stdout",
     "output_type": "stream",
     "text": [
      "Mean accuracy score: 0.979700\n"
     ]
    }
   ],
   "source": [
    "score = np.array(scores).mean()\n",
    "print(f'Mean accuracy score: {score:6f}')\n",
    "\n",
    "\n",
    "\n",
    "y_pred = mode(y_pred).mode[0]\n",
    "y_pred = encoder.inverse_transform(y_pred)\n",
    "\n"
   ]
  },
  {
   "cell_type": "code",
   "execution_count": 18,
   "id": "447016a0",
   "metadata": {
    "execution": {
     "iopub.execute_input": "2022-02-02T19:32:42.277274Z",
     "iopub.status.busy": "2022-02-02T19:32:42.276530Z",
     "iopub.status.idle": "2022-02-02T19:32:42.279241Z",
     "shell.execute_reply": "2022-02-02T19:32:42.279647Z",
     "shell.execute_reply.started": "2022-02-02T19:16:45.747307Z"
    },
    "papermill": {
     "duration": 0.033197,
     "end_time": "2022-02-02T19:32:42.279794",
     "exception": false,
     "start_time": "2022-02-02T19:32:42.246597",
     "status": "completed"
    },
    "tags": []
   },
   "outputs": [
    {
     "data": {
      "text/plain": [
       "array([4, 6, 2, ..., 0, 0, 9])"
      ]
     },
     "execution_count": 18,
     "metadata": {},
     "output_type": "execute_result"
    }
   ],
   "source": [
    "y_pred"
   ]
  },
  {
   "cell_type": "code",
   "execution_count": 19,
   "id": "4211db96",
   "metadata": {
    "execution": {
     "iopub.execute_input": "2022-02-02T19:32:42.337063Z",
     "iopub.status.busy": "2022-02-02T19:32:42.336252Z",
     "iopub.status.idle": "2022-02-02T19:32:42.626896Z",
     "shell.execute_reply": "2022-02-02T19:32:42.626379Z",
     "shell.execute_reply.started": "2022-02-02T19:16:45.749444Z"
    },
    "papermill": {
     "duration": 0.322127,
     "end_time": "2022-02-02T19:32:42.627025",
     "exception": false,
     "start_time": "2022-02-02T19:32:42.304898",
     "status": "completed"
    },
    "tags": []
   },
   "outputs": [],
   "source": [
    "\n",
    "sample = pd.read_csv('../input/tabular-playground-series-feb-2022/sample_submission.csv')\n",
    "\n",
    "sample['target'] = preds\n",
    "sample.to_csv('submission.csv', index=False)"
   ]
  },
  {
   "cell_type": "code",
   "execution_count": 20,
   "id": "f00faa26",
   "metadata": {
    "execution": {
     "iopub.execute_input": "2022-02-02T19:32:42.684172Z",
     "iopub.status.busy": "2022-02-02T19:32:42.683257Z",
     "iopub.status.idle": "2022-02-02T19:32:42.686514Z",
     "shell.execute_reply": "2022-02-02T19:32:42.686946Z",
     "shell.execute_reply.started": "2022-02-02T19:16:45.751343Z"
    },
    "papermill": {
     "duration": 0.035764,
     "end_time": "2022-02-02T19:32:42.687080",
     "exception": false,
     "start_time": "2022-02-02T19:32:42.651316",
     "status": "completed"
    },
    "tags": []
   },
   "outputs": [
    {
     "data": {
      "text/html": [
       "<div>\n",
       "<style scoped>\n",
       "    .dataframe tbody tr th:only-of-type {\n",
       "        vertical-align: middle;\n",
       "    }\n",
       "\n",
       "    .dataframe tbody tr th {\n",
       "        vertical-align: top;\n",
       "    }\n",
       "\n",
       "    .dataframe thead th {\n",
       "        text-align: right;\n",
       "    }\n",
       "</style>\n",
       "<table border=\"1\" class=\"dataframe\">\n",
       "  <thead>\n",
       "    <tr style=\"text-align: right;\">\n",
       "      <th></th>\n",
       "      <th>row_id</th>\n",
       "      <th>target</th>\n",
       "    </tr>\n",
       "  </thead>\n",
       "  <tbody>\n",
       "    <tr>\n",
       "      <th>0</th>\n",
       "      <td>200000</td>\n",
       "      <td>Escherichia_fergusonii</td>\n",
       "    </tr>\n",
       "    <tr>\n",
       "      <th>1</th>\n",
       "      <td>200001</td>\n",
       "      <td>Salmonella_enterica</td>\n",
       "    </tr>\n",
       "    <tr>\n",
       "      <th>2</th>\n",
       "      <td>200002</td>\n",
       "      <td>Enterococcus_hirae</td>\n",
       "    </tr>\n",
       "    <tr>\n",
       "      <th>3</th>\n",
       "      <td>200003</td>\n",
       "      <td>Salmonella_enterica</td>\n",
       "    </tr>\n",
       "    <tr>\n",
       "      <th>4</th>\n",
       "      <td>200004</td>\n",
       "      <td>Staphylococcus_aureus</td>\n",
       "    </tr>\n",
       "  </tbody>\n",
       "</table>\n",
       "</div>"
      ],
      "text/plain": [
       "   row_id                  target\n",
       "0  200000  Escherichia_fergusonii\n",
       "1  200001     Salmonella_enterica\n",
       "2  200002      Enterococcus_hirae\n",
       "3  200003     Salmonella_enterica\n",
       "4  200004   Staphylococcus_aureus"
      ]
     },
     "execution_count": 20,
     "metadata": {},
     "output_type": "execute_result"
    }
   ],
   "source": [
    "sample.head()"
   ]
  },
  {
   "cell_type": "code",
   "execution_count": null,
   "id": "e32e4af7",
   "metadata": {
    "papermill": {
     "duration": 0.024028,
     "end_time": "2022-02-02T19:32:42.735248",
     "exception": false,
     "start_time": "2022-02-02T19:32:42.711220",
     "status": "completed"
    },
    "tags": []
   },
   "outputs": [],
   "source": []
  }
 ],
 "metadata": {
  "kernelspec": {
   "display_name": "Python 3",
   "language": "python",
   "name": "python3"
  },
  "language_info": {
   "codemirror_mode": {
    "name": "ipython",
    "version": 3
   },
   "file_extension": ".py",
   "mimetype": "text/x-python",
   "name": "python",
   "nbconvert_exporter": "python",
   "pygments_lexer": "ipython3",
   "version": "3.7.12"
  },
  "papermill": {
   "default_parameters": {},
   "duration": 799.681504,
   "end_time": "2022-02-02T19:32:43.772296",
   "environment_variables": {},
   "exception": null,
   "input_path": "__notebook__.ipynb",
   "output_path": "__notebook__.ipynb",
   "parameters": {},
   "start_time": "2022-02-02T19:19:24.090792",
   "version": "2.3.3"
  }
 },
 "nbformat": 4,
 "nbformat_minor": 5
}
