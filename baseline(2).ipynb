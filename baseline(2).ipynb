{
 "cells": [
  {
   "cell_type": "code",
   "execution_count": 1,
   "id": "ecebc95a",
   "metadata": {
    "_cell_guid": "b1076dfc-b9ad-4769-8c92-a6c4dae69d19",
    "_uuid": "8f2839f25d086af736a60e9eeb907d3b93b6e0e5",
    "execution": {
     "iopub.execute_input": "2022-02-02T19:36:12.955323Z",
     "iopub.status.busy": "2022-02-02T19:36:12.953837Z",
     "iopub.status.idle": "2022-02-02T19:36:12.967864Z",
     "shell.execute_reply": "2022-02-02T19:36:12.968503Z",
     "shell.execute_reply.started": "2022-02-02T19:29:15.435150Z"
    },
    "papermill": {
     "duration": 0.034452,
     "end_time": "2022-02-02T19:36:12.968864",
     "exception": false,
     "start_time": "2022-02-02T19:36:12.934412",
     "status": "completed"
    },
    "tags": []
   },
   "outputs": [
    {
     "name": "stdout",
     "output_type": "stream",
     "text": [
      "/kaggle/input/tabular-playground-series-feb-2022/sample_submission.csv\n",
      "/kaggle/input/tabular-playground-series-feb-2022/train.csv\n",
      "/kaggle/input/tabular-playground-series-feb-2022/test.csv\n"
     ]
    }
   ],
   "source": [
    "# This Python 3 environment comes with many helpful analytics libraries installed\n",
    "# It is defined by the kaggle/python Docker image: https://github.com/kaggle/docker-python\n",
    "# For example, here's several helpful packages to load\n",
    "\n",
    "import numpy as np # linear algebra\n",
    "import pandas as pd # data processing, CSV file I/O (e.g. pd.read_csv)\n",
    "\n",
    "# Input data files are available in the read-only \"../input/\" directory\n",
    "# For example, running this (by clicking run or pressing Shift+Enter) will list all files under the input directory\n",
    "\n",
    "import os\n",
    "for dirname, _, filenames in os.walk('/kaggle/input'):\n",
    "    for filename in filenames:\n",
    "        print(os.path.join(dirname, filename))\n",
    "\n",
    "# You can write up to 20GB to the current directory (/kaggle/working/) that gets preserved as output when you create a version using \"Save & Run All\" \n",
    "# You can also write temporary files to /kaggle/temp/, but they won't be saved outside of the current session"
   ]
  },
  {
   "cell_type": "code",
   "execution_count": 2,
   "id": "3b7ef56f",
   "metadata": {
    "execution": {
     "iopub.execute_input": "2022-02-02T19:36:13.006151Z",
     "iopub.status.busy": "2022-02-02T19:36:13.005590Z",
     "iopub.status.idle": "2022-02-02T19:36:37.191006Z",
     "shell.execute_reply": "2022-02-02T19:36:37.191702Z",
     "shell.execute_reply.started": "2022-02-02T19:29:15.475342Z"
    },
    "papermill": {
     "duration": 24.205894,
     "end_time": "2022-02-02T19:36:37.191867",
     "exception": false,
     "start_time": "2022-02-02T19:36:12.985973",
     "status": "completed"
    },
    "tags": []
   },
   "outputs": [
    {
     "data": {
      "text/html": [
       "<div>\n",
       "<style scoped>\n",
       "    .dataframe tbody tr th:only-of-type {\n",
       "        vertical-align: middle;\n",
       "    }\n",
       "\n",
       "    .dataframe tbody tr th {\n",
       "        vertical-align: top;\n",
       "    }\n",
       "\n",
       "    .dataframe thead th {\n",
       "        text-align: right;\n",
       "    }\n",
       "</style>\n",
       "<table border=\"1\" class=\"dataframe\">\n",
       "  <thead>\n",
       "    <tr style=\"text-align: right;\">\n",
       "      <th></th>\n",
       "      <th>row_id</th>\n",
       "      <th>A0T0G0C10</th>\n",
       "      <th>A0T0G1C9</th>\n",
       "      <th>A0T0G2C8</th>\n",
       "      <th>A0T0G3C7</th>\n",
       "      <th>A0T0G4C6</th>\n",
       "      <th>A0T0G5C5</th>\n",
       "      <th>A0T0G6C4</th>\n",
       "      <th>A0T0G7C3</th>\n",
       "      <th>A0T0G8C2</th>\n",
       "      <th>...</th>\n",
       "      <th>A8T0G1C1</th>\n",
       "      <th>A8T0G2C0</th>\n",
       "      <th>A8T1G0C1</th>\n",
       "      <th>A8T1G1C0</th>\n",
       "      <th>A8T2G0C0</th>\n",
       "      <th>A9T0G0C1</th>\n",
       "      <th>A9T0G1C0</th>\n",
       "      <th>A9T1G0C0</th>\n",
       "      <th>A10T0G0C0</th>\n",
       "      <th>target</th>\n",
       "    </tr>\n",
       "  </thead>\n",
       "  <tbody>\n",
       "    <tr>\n",
       "      <th>0</th>\n",
       "      <td>0</td>\n",
       "      <td>-9.536743e-07</td>\n",
       "      <td>-0.000010</td>\n",
       "      <td>-0.000043</td>\n",
       "      <td>-0.000114</td>\n",
       "      <td>-0.000200</td>\n",
       "      <td>-0.000240</td>\n",
       "      <td>-0.000200</td>\n",
       "      <td>-0.000114</td>\n",
       "      <td>-0.000043</td>\n",
       "      <td>...</td>\n",
       "      <td>-0.000086</td>\n",
       "      <td>-0.000043</td>\n",
       "      <td>-0.000086</td>\n",
       "      <td>-0.000086</td>\n",
       "      <td>-0.000043</td>\n",
       "      <td>-0.000010</td>\n",
       "      <td>-0.000010</td>\n",
       "      <td>-0.000010</td>\n",
       "      <td>-9.536743e-07</td>\n",
       "      <td>Streptococcus_pyogenes</td>\n",
       "    </tr>\n",
       "    <tr>\n",
       "      <th>1</th>\n",
       "      <td>1</td>\n",
       "      <td>-9.536743e-07</td>\n",
       "      <td>-0.000010</td>\n",
       "      <td>-0.000043</td>\n",
       "      <td>0.000886</td>\n",
       "      <td>-0.000200</td>\n",
       "      <td>0.000760</td>\n",
       "      <td>-0.000200</td>\n",
       "      <td>-0.000114</td>\n",
       "      <td>-0.000043</td>\n",
       "      <td>...</td>\n",
       "      <td>-0.000086</td>\n",
       "      <td>-0.000043</td>\n",
       "      <td>0.000914</td>\n",
       "      <td>0.000914</td>\n",
       "      <td>-0.000043</td>\n",
       "      <td>-0.000010</td>\n",
       "      <td>-0.000010</td>\n",
       "      <td>-0.000010</td>\n",
       "      <td>-9.536743e-07</td>\n",
       "      <td>Salmonella_enterica</td>\n",
       "    </tr>\n",
       "    <tr>\n",
       "      <th>2</th>\n",
       "      <td>2</td>\n",
       "      <td>-9.536743e-07</td>\n",
       "      <td>-0.000002</td>\n",
       "      <td>0.000007</td>\n",
       "      <td>0.000129</td>\n",
       "      <td>0.000268</td>\n",
       "      <td>0.000270</td>\n",
       "      <td>0.000243</td>\n",
       "      <td>0.000125</td>\n",
       "      <td>0.000001</td>\n",
       "      <td>...</td>\n",
       "      <td>0.000084</td>\n",
       "      <td>0.000048</td>\n",
       "      <td>0.000081</td>\n",
       "      <td>0.000106</td>\n",
       "      <td>0.000072</td>\n",
       "      <td>0.000010</td>\n",
       "      <td>0.000008</td>\n",
       "      <td>0.000019</td>\n",
       "      <td>1.046326e-06</td>\n",
       "      <td>Salmonella_enterica</td>\n",
       "    </tr>\n",
       "    <tr>\n",
       "      <th>3</th>\n",
       "      <td>3</td>\n",
       "      <td>4.632568e-08</td>\n",
       "      <td>-0.000006</td>\n",
       "      <td>0.000012</td>\n",
       "      <td>0.000245</td>\n",
       "      <td>0.000492</td>\n",
       "      <td>0.000522</td>\n",
       "      <td>0.000396</td>\n",
       "      <td>0.000197</td>\n",
       "      <td>-0.000003</td>\n",
       "      <td>...</td>\n",
       "      <td>0.000151</td>\n",
       "      <td>0.000100</td>\n",
       "      <td>0.000180</td>\n",
       "      <td>0.000202</td>\n",
       "      <td>0.000153</td>\n",
       "      <td>0.000021</td>\n",
       "      <td>0.000015</td>\n",
       "      <td>0.000046</td>\n",
       "      <td>-9.536743e-07</td>\n",
       "      <td>Salmonella_enterica</td>\n",
       "    </tr>\n",
       "    <tr>\n",
       "      <th>4</th>\n",
       "      <td>4</td>\n",
       "      <td>-9.536743e-07</td>\n",
       "      <td>-0.000010</td>\n",
       "      <td>-0.000043</td>\n",
       "      <td>-0.000114</td>\n",
       "      <td>-0.000200</td>\n",
       "      <td>-0.000240</td>\n",
       "      <td>-0.000200</td>\n",
       "      <td>-0.000114</td>\n",
       "      <td>-0.000043</td>\n",
       "      <td>...</td>\n",
       "      <td>-0.000086</td>\n",
       "      <td>-0.000043</td>\n",
       "      <td>-0.000086</td>\n",
       "      <td>-0.000086</td>\n",
       "      <td>-0.000043</td>\n",
       "      <td>-0.000010</td>\n",
       "      <td>-0.000010</td>\n",
       "      <td>-0.000010</td>\n",
       "      <td>-9.536743e-07</td>\n",
       "      <td>Enterococcus_hirae</td>\n",
       "    </tr>\n",
       "  </tbody>\n",
       "</table>\n",
       "<p>5 rows × 288 columns</p>\n",
       "</div>"
      ],
      "text/plain": [
       "   row_id     A0T0G0C10  A0T0G1C9  A0T0G2C8  A0T0G3C7  A0T0G4C6  A0T0G5C5  \\\n",
       "0       0 -9.536743e-07 -0.000010 -0.000043 -0.000114 -0.000200 -0.000240   \n",
       "1       1 -9.536743e-07 -0.000010 -0.000043  0.000886 -0.000200  0.000760   \n",
       "2       2 -9.536743e-07 -0.000002  0.000007  0.000129  0.000268  0.000270   \n",
       "3       3  4.632568e-08 -0.000006  0.000012  0.000245  0.000492  0.000522   \n",
       "4       4 -9.536743e-07 -0.000010 -0.000043 -0.000114 -0.000200 -0.000240   \n",
       "\n",
       "   A0T0G6C4  A0T0G7C3  A0T0G8C2  ...  A8T0G1C1  A8T0G2C0  A8T1G0C1  A8T1G1C0  \\\n",
       "0 -0.000200 -0.000114 -0.000043  ... -0.000086 -0.000043 -0.000086 -0.000086   \n",
       "1 -0.000200 -0.000114 -0.000043  ... -0.000086 -0.000043  0.000914  0.000914   \n",
       "2  0.000243  0.000125  0.000001  ...  0.000084  0.000048  0.000081  0.000106   \n",
       "3  0.000396  0.000197 -0.000003  ...  0.000151  0.000100  0.000180  0.000202   \n",
       "4 -0.000200 -0.000114 -0.000043  ... -0.000086 -0.000043 -0.000086 -0.000086   \n",
       "\n",
       "   A8T2G0C0  A9T0G0C1  A9T0G1C0  A9T1G0C0     A10T0G0C0  \\\n",
       "0 -0.000043 -0.000010 -0.000010 -0.000010 -9.536743e-07   \n",
       "1 -0.000043 -0.000010 -0.000010 -0.000010 -9.536743e-07   \n",
       "2  0.000072  0.000010  0.000008  0.000019  1.046326e-06   \n",
       "3  0.000153  0.000021  0.000015  0.000046 -9.536743e-07   \n",
       "4 -0.000043 -0.000010 -0.000010 -0.000010 -9.536743e-07   \n",
       "\n",
       "                   target  \n",
       "0  Streptococcus_pyogenes  \n",
       "1     Salmonella_enterica  \n",
       "2     Salmonella_enterica  \n",
       "3     Salmonella_enterica  \n",
       "4      Enterococcus_hirae  \n",
       "\n",
       "[5 rows x 288 columns]"
      ]
     },
     "execution_count": 2,
     "metadata": {},
     "output_type": "execute_result"
    }
   ],
   "source": [
    "df = pd.read_csv('../input/tabular-playground-series-feb-2022/train.csv')\n",
    "df.head()"
   ]
  },
  {
   "cell_type": "code",
   "execution_count": 3,
   "id": "467ae5d0",
   "metadata": {
    "execution": {
     "iopub.execute_input": "2022-02-02T19:36:37.228850Z",
     "iopub.status.busy": "2022-02-02T19:36:37.228210Z",
     "iopub.status.idle": "2022-02-02T19:36:37.230781Z",
     "shell.execute_reply": "2022-02-02T19:36:37.231235Z",
     "shell.execute_reply.started": "2022-02-02T19:29:41.042237Z"
    },
    "papermill": {
     "duration": 0.02309,
     "end_time": "2022-02-02T19:36:37.231372",
     "exception": false,
     "start_time": "2022-02-02T19:36:37.208282",
     "status": "completed"
    },
    "tags": []
   },
   "outputs": [
    {
     "data": {
      "text/plain": [
       "Index(['row_id', 'A0T0G0C10', 'A0T0G1C9', 'A0T0G2C8', 'A0T0G3C7', 'A0T0G4C6',\n",
       "       'A0T0G5C5', 'A0T0G6C4', 'A0T0G7C3', 'A0T0G8C2',\n",
       "       ...\n",
       "       'A8T0G1C1', 'A8T0G2C0', 'A8T1G0C1', 'A8T1G1C0', 'A8T2G0C0', 'A9T0G0C1',\n",
       "       'A9T0G1C0', 'A9T1G0C0', 'A10T0G0C0', 'target'],\n",
       "      dtype='object', length=288)"
      ]
     },
     "execution_count": 3,
     "metadata": {},
     "output_type": "execute_result"
    }
   ],
   "source": [
    "df.columns"
   ]
  },
  {
   "cell_type": "code",
   "execution_count": 4,
   "id": "3bd0d91b",
   "metadata": {
    "execution": {
     "iopub.execute_input": "2022-02-02T19:36:37.280073Z",
     "iopub.status.busy": "2022-02-02T19:36:37.279333Z",
     "iopub.status.idle": "2022-02-02T19:36:37.290832Z",
     "shell.execute_reply": "2022-02-02T19:36:37.290381Z",
     "shell.execute_reply.started": "2022-02-02T19:29:41.055201Z"
    },
    "papermill": {
     "duration": 0.044279,
     "end_time": "2022-02-02T19:36:37.290976",
     "exception": false,
     "start_time": "2022-02-02T19:36:37.246697",
     "status": "completed"
    },
    "tags": []
   },
   "outputs": [
    {
     "data": {
      "text/plain": [
       "10"
      ]
     },
     "execution_count": 4,
     "metadata": {},
     "output_type": "execute_result"
    }
   ],
   "source": [
    "df['target'].nunique()"
   ]
  },
  {
   "cell_type": "code",
   "execution_count": 5,
   "id": "65761672",
   "metadata": {
    "execution": {
     "iopub.execute_input": "2022-02-02T19:36:37.328093Z",
     "iopub.status.busy": "2022-02-02T19:36:37.327541Z",
     "iopub.status.idle": "2022-02-02T19:36:37.333010Z",
     "shell.execute_reply": "2022-02-02T19:36:37.332551Z",
     "shell.execute_reply.started": "2022-02-02T19:29:41.088887Z"
    },
    "papermill": {
     "duration": 0.026014,
     "end_time": "2022-02-02T19:36:37.333132",
     "exception": false,
     "start_time": "2022-02-02T19:36:37.307118",
     "status": "completed"
    },
    "tags": []
   },
   "outputs": [
    {
     "data": {
      "text/plain": [
       "['target']"
      ]
     },
     "execution_count": 5,
     "metadata": {},
     "output_type": "execute_result"
    }
   ],
   "source": [
    "cat_col = list( set(df.columns ) - set(df._get_numeric_data().columns))\n",
    "cat_col"
   ]
  },
  {
   "cell_type": "code",
   "execution_count": 6,
   "id": "4e74d43f",
   "metadata": {
    "execution": {
     "iopub.execute_input": "2022-02-02T19:36:37.370198Z",
     "iopub.status.busy": "2022-02-02T19:36:37.369346Z",
     "iopub.status.idle": "2022-02-02T19:36:38.036218Z",
     "shell.execute_reply": "2022-02-02T19:36:38.037067Z",
     "shell.execute_reply.started": "2022-02-02T19:29:41.099530Z"
    },
    "papermill": {
     "duration": 0.688265,
     "end_time": "2022-02-02T19:36:38.037332",
     "exception": false,
     "start_time": "2022-02-02T19:36:37.349067",
     "status": "completed"
    },
    "tags": []
   },
   "outputs": [
    {
     "data": {
      "text/plain": [
       "['A0T0G0C10',\n",
       " 'A0T0G1C9',\n",
       " 'A0T0G9C1',\n",
       " 'A0T0G10C0',\n",
       " 'A0T1G0C9',\n",
       " 'A0T10G0C0',\n",
       " 'A1T0G9C0',\n",
       " 'A10T0G0C0',\n",
       " 'target']"
      ]
     },
     "execution_count": 6,
     "metadata": {},
     "output_type": "execute_result"
    }
   ],
   "source": [
    "col1 = [col for col in df.columns if df[col].nunique()<=25]\n",
    "col1"
   ]
  },
  {
   "cell_type": "code",
   "execution_count": 7,
   "id": "15797e8e",
   "metadata": {
    "execution": {
     "iopub.execute_input": "2022-02-02T19:36:38.098398Z",
     "iopub.status.busy": "2022-02-02T19:36:38.096541Z",
     "iopub.status.idle": "2022-02-02T19:36:39.013461Z",
     "shell.execute_reply": "2022-02-02T19:36:39.012961Z",
     "shell.execute_reply.started": "2022-02-02T19:29:41.836919Z"
    },
    "papermill": {
     "duration": 0.949552,
     "end_time": "2022-02-02T19:36:39.013602",
     "exception": false,
     "start_time": "2022-02-02T19:36:38.064050",
     "status": "completed"
    },
    "tags": []
   },
   "outputs": [],
   "source": [
    "from sklearn.preprocessing import LabelEncoder\n",
    "encoder = LabelEncoder()\n",
    "encoder.fit(df['target'])\n",
    "df['target'] = encoder.transform(df.target)"
   ]
  },
  {
   "cell_type": "code",
   "execution_count": 8,
   "id": "7c216589",
   "metadata": {
    "execution": {
     "iopub.execute_input": "2022-02-02T19:36:39.051491Z",
     "iopub.status.busy": "2022-02-02T19:36:39.050792Z",
     "iopub.status.idle": "2022-02-02T19:36:39.053890Z",
     "shell.execute_reply": "2022-02-02T19:36:39.054463Z",
     "shell.execute_reply.started": "2022-02-02T19:29:42.851620Z"
    },
    "papermill": {
     "duration": 0.024211,
     "end_time": "2022-02-02T19:36:39.054651",
     "exception": false,
     "start_time": "2022-02-02T19:36:39.030440",
     "status": "completed"
    },
    "tags": []
   },
   "outputs": [
    {
     "name": "stdout",
     "output_type": "stream",
     "text": [
      "{0: 'Bacteroides_fragilis', 1: 'Campylobacter_jejuni', 2: 'Enterococcus_hirae', 3: 'Escherichia_coli', 4: 'Escherichia_fergusonii', 5: 'Klebsiella_pneumoniae', 6: 'Salmonella_enterica', 7: 'Staphylococcus_aureus', 8: 'Streptococcus_pneumoniae', 9: 'Streptococcus_pyogenes'}\n"
     ]
    }
   ],
   "source": [
    "d = dict(zip(encoder.transform(encoder.classes_),encoder.classes_))\n",
    "print(d)"
   ]
  },
  {
   "cell_type": "code",
   "execution_count": 9,
   "id": "4a4fa628",
   "metadata": {
    "execution": {
     "iopub.execute_input": "2022-02-02T19:36:39.094853Z",
     "iopub.status.busy": "2022-02-02T19:36:39.090719Z",
     "iopub.status.idle": "2022-02-02T19:36:39.099057Z",
     "shell.execute_reply": "2022-02-02T19:36:39.098611Z",
     "shell.execute_reply.started": "2022-02-02T19:29:42.860379Z"
    },
    "papermill": {
     "duration": 0.027214,
     "end_time": "2022-02-02T19:36:39.099179",
     "exception": false,
     "start_time": "2022-02-02T19:36:39.071965",
     "status": "completed"
    },
    "tags": []
   },
   "outputs": [
    {
     "data": {
      "text/plain": [
       "0         9\n",
       "1         6\n",
       "2         6\n",
       "3         6\n",
       "4         2\n",
       "         ..\n",
       "199995    6\n",
       "199996    9\n",
       "199997    8\n",
       "199998    7\n",
       "199999    5\n",
       "Name: target, Length: 200000, dtype: int64"
      ]
     },
     "execution_count": 9,
     "metadata": {},
     "output_type": "execute_result"
    }
   ],
   "source": [
    "df['target']"
   ]
  },
  {
   "cell_type": "code",
   "execution_count": 10,
   "id": "11bfce33",
   "metadata": {
    "execution": {
     "iopub.execute_input": "2022-02-02T19:36:39.137593Z",
     "iopub.status.busy": "2022-02-02T19:36:39.136753Z",
     "iopub.status.idle": "2022-02-02T19:36:39.138580Z",
     "shell.execute_reply": "2022-02-02T19:36:39.139040Z",
     "shell.execute_reply.started": "2022-02-02T19:29:42.878385Z"
    },
    "papermill": {
     "duration": 0.023437,
     "end_time": "2022-02-02T19:36:39.139171",
     "exception": false,
     "start_time": "2022-02-02T19:36:39.115734",
     "status": "completed"
    },
    "tags": []
   },
   "outputs": [],
   "source": [
    "xgb_params = { \n",
    "                         'n_jobs' : 4,\n",
    "                         'n_estimators' : 2000,\n",
    "                         'tree_method' : 'gpu_hist',\n",
    "                         'learning_rate': 0.1,\n",
    "                         'subsample' : 0.9,\n",
    "                         'max_depth' : 3,\n",
    "                         'colsample_bytree' : 0.5,\n",
    "                         'reg_alpha' : 30,\n",
    "                         'eval_metric' : 'rmse',\n",
    "    'min_child_weight' : 1\n",
    "             }"
   ]
  },
  {
   "cell_type": "code",
   "execution_count": 11,
   "id": "3aab698c",
   "metadata": {
    "execution": {
     "iopub.execute_input": "2022-02-02T19:36:39.178811Z",
     "iopub.status.busy": "2022-02-02T19:36:39.177226Z",
     "iopub.status.idle": "2022-02-02T19:36:39.179398Z",
     "shell.execute_reply": "2022-02-02T19:36:39.179801Z",
     "shell.execute_reply.started": "2022-02-02T19:29:42.887777Z"
    },
    "papermill": {
     "duration": 0.024264,
     "end_time": "2022-02-02T19:36:39.179964",
     "exception": false,
     "start_time": "2022-02-02T19:36:39.155700",
     "status": "completed"
    },
    "tags": []
   },
   "outputs": [],
   "source": [
    "feats = [col for col in df.columns if col != 'target' and col !='row_id']\n",
    "# from xgboost import XGBClassifier\n",
    "# model = XGBClassifier(**xgb_params)\n",
    "# x = df[feats]\n",
    "# y = df['target']"
   ]
  },
  {
   "cell_type": "code",
   "execution_count": 12,
   "id": "0cfce43d",
   "metadata": {
    "execution": {
     "iopub.execute_input": "2022-02-02T19:36:39.219917Z",
     "iopub.status.busy": "2022-02-02T19:36:39.219314Z",
     "iopub.status.idle": "2022-02-02T19:36:50.669933Z",
     "shell.execute_reply": "2022-02-02T19:36:50.670386Z",
     "shell.execute_reply.started": "2022-02-02T19:29:42.898467Z"
    },
    "papermill": {
     "duration": 11.473234,
     "end_time": "2022-02-02T19:36:50.670557",
     "exception": false,
     "start_time": "2022-02-02T19:36:39.197323",
     "status": "completed"
    },
    "tags": []
   },
   "outputs": [],
   "source": [
    "from sklearn.model_selection import StratifiedKFold\n",
    "fold = StratifiedKFold(n_splits = 11,shuffle = True)\n",
    "test = pd.read_csv('../input/tabular-playground-series-feb-2022/test.csv',index_col='row_id')"
   ]
  },
  {
   "cell_type": "code",
   "execution_count": 13,
   "id": "76f25c24",
   "metadata": {
    "execution": {
     "iopub.execute_input": "2022-02-02T19:36:50.713144Z",
     "iopub.status.busy": "2022-02-02T19:36:50.712234Z",
     "iopub.status.idle": "2022-02-02T19:46:59.231757Z",
     "shell.execute_reply": "2022-02-02T19:46:59.230794Z"
    },
    "papermill": {
     "duration": 608.544407,
     "end_time": "2022-02-02T19:46:59.231947",
     "exception": false,
     "start_time": "2022-02-02T19:36:50.687540",
     "status": "completed"
    },
    "tags": []
   },
   "outputs": [
    {
     "data": {
      "text/html": [
       "<style type='text/css'>\n",
       ".datatable table.frame { margin-bottom: 0; }\n",
       ".datatable table.frame thead { border-bottom: none; }\n",
       ".datatable table.frame tr.coltypes td {  color: #FFFFFF;  line-height: 6px;  padding: 0 0.5em;}\n",
       ".datatable .bool    { background: #DDDD99; }\n",
       ".datatable .object  { background: #565656; }\n",
       ".datatable .int     { background: #5D9E5D; }\n",
       ".datatable .float   { background: #4040CC; }\n",
       ".datatable .str     { background: #CC4040; }\n",
       ".datatable .time    { background: #40CC40; }\n",
       ".datatable .row_index {  background: var(--jp-border-color3);  border-right: 1px solid var(--jp-border-color0);  color: var(--jp-ui-font-color3);  font-size: 9px;}\n",
       ".datatable .frame tbody td { text-align: left; }\n",
       ".datatable .frame tr.coltypes .row_index {  background: var(--jp-border-color0);}\n",
       ".datatable th:nth-child(2) { padding-left: 12px; }\n",
       ".datatable .hellipsis {  color: var(--jp-cell-editor-border-color);}\n",
       ".datatable .vellipsis {  background: var(--jp-layout-color0);  color: var(--jp-cell-editor-border-color);}\n",
       ".datatable .na {  color: var(--jp-cell-editor-border-color);  font-size: 80%;}\n",
       ".datatable .sp {  opacity: 0.25;}\n",
       ".datatable .footer { font-size: 9px; }\n",
       ".datatable .frame_dimensions {  background: var(--jp-border-color3);  border-top: 1px solid var(--jp-border-color0);  color: var(--jp-ui-font-color3);  display: inline-block;  opacity: 0.6;  padding: 1px 10px 1px 5px;}\n",
       "</style>\n"
      ],
      "text/plain": [
       "<IPython.core.display.HTML object>"
      ]
     },
     "metadata": {},
     "output_type": "display_data"
    },
    {
     "name": "stdout",
     "output_type": "stream",
     "text": [
      "FOLD:1\n",
      "0:\tlearn: 1.9871774\ttotal: 63.9ms\tremaining: 1m 3s\n",
      "750:\tlearn: 0.0779052\ttotal: 33.8s\tremaining: 11.2s\n",
      "999:\tlearn: 0.0556468\ttotal: 44.3s\tremaining: 0us\n",
      "Accuracy score: 0.992245\n",
      "\n",
      "FOLD:2\n",
      "0:\tlearn: 1.9880968\ttotal: 57.8ms\tremaining: 57.7s\n",
      "750:\tlearn: 0.0782768\ttotal: 33.7s\tremaining: 11.2s\n",
      "999:\tlearn: 0.0571802\ttotal: 44.8s\tremaining: 0us\n",
      "Accuracy score: 0.989770\n",
      "\n",
      "FOLD:3\n",
      "0:\tlearn: 1.9939065\ttotal: 54.9ms\tremaining: 54.8s\n",
      "750:\tlearn: 0.0792704\ttotal: 33.5s\tremaining: 11.1s\n",
      "999:\tlearn: 0.0579657\ttotal: 43.8s\tremaining: 0us\n",
      "Accuracy score: 0.990870\n",
      "\n",
      "FOLD:4\n",
      "0:\tlearn: 1.9876461\ttotal: 59.1ms\tremaining: 59.1s\n",
      "750:\tlearn: 0.0770758\ttotal: 33.8s\tremaining: 11.2s\n",
      "999:\tlearn: 0.0566530\ttotal: 44.3s\tremaining: 0us\n",
      "Accuracy score: 0.990595\n",
      "\n",
      "FOLD:5\n",
      "0:\tlearn: 1.9891377\ttotal: 62.9ms\tremaining: 1m 2s\n",
      "750:\tlearn: 0.0794972\ttotal: 33.8s\tremaining: 11.2s\n",
      "999:\tlearn: 0.0578379\ttotal: 44.1s\tremaining: 0us\n",
      "Accuracy score: 0.990650\n",
      "\n",
      "FOLD:6\n",
      "0:\tlearn: 1.9874125\ttotal: 57.7ms\tremaining: 57.6s\n",
      "750:\tlearn: 0.0798310\ttotal: 33.4s\tremaining: 11.1s\n",
      "999:\tlearn: 0.0581715\ttotal: 43.5s\tremaining: 0us\n",
      "Accuracy score: 0.991475\n",
      "\n",
      "FOLD:7\n",
      "0:\tlearn: 1.9869868\ttotal: 57.2ms\tremaining: 57.1s\n",
      "750:\tlearn: 0.0786449\ttotal: 33.4s\tremaining: 11.1s\n",
      "999:\tlearn: 0.0572259\ttotal: 43.7s\tremaining: 0us\n",
      "Accuracy score: 0.990320\n",
      "\n",
      "FOLD:8\n",
      "0:\tlearn: 1.9895113\ttotal: 57.6ms\tremaining: 57.5s\n",
      "750:\tlearn: 0.0789893\ttotal: 33.3s\tremaining: 11s\n",
      "999:\tlearn: 0.0570490\ttotal: 43.7s\tremaining: 0us\n",
      "Accuracy score: 0.990265\n",
      "\n",
      "FOLD:9\n",
      "0:\tlearn: 1.9888750\ttotal: 89.5ms\tremaining: 1m 29s\n",
      "750:\tlearn: 0.0794784\ttotal: 33.5s\tremaining: 11.1s\n",
      "999:\tlearn: 0.0576111\ttotal: 44.1s\tremaining: 0us\n",
      "Accuracy score: 0.990045\n",
      "\n",
      "FOLD:10\n",
      "0:\tlearn: 1.9865821\ttotal: 58.6ms\tremaining: 58.6s\n",
      "750:\tlearn: 0.0786307\ttotal: 33.6s\tremaining: 11.1s\n",
      "999:\tlearn: 0.0575034\ttotal: 43.9s\tremaining: 0us\n",
      "Accuracy score: 0.991640\n",
      "\n",
      "FOLD:11\n",
      "0:\tlearn: 1.9873834\ttotal: 58ms\tremaining: 57.9s\n",
      "750:\tlearn: 0.0782607\ttotal: 33.3s\tremaining: 11s\n",
      "999:\tlearn: 0.0570885\ttotal: 44.4s\tremaining: 0us\n",
      "Accuracy score: 0.991750\n",
      "\n"
     ]
    }
   ],
   "source": [
    "from sklearn.ensemble import RandomForestClassifier\n",
    "from lightgbm import LGBMClassifier\n",
    "from catboost import CatBoostClassifier\n",
    "from sklearn.metrics import accuracy_score\n",
    "y_pred = []\n",
    "scores = []\n",
    "X = df[feats]\n",
    "y = pd.DataFrame(pd.DataFrame(encoder.fit_transform(df['target']), columns=['target']).values.ravel())\n",
    "\n",
    "for _fold,(train_idx,test_idx) in enumerate(fold.split(X,y)):\n",
    "    print(f\"FOLD:{_fold+1}\")\n",
    "    X_train, y_train = X.iloc[train_idx], y.iloc[train_idx].values.ravel()\n",
    "    X_valid, y_valid = X.iloc[test_idx], y.iloc[test_idx].values.ravel()\n",
    "    model = model = CatBoostClassifier(iterations=1000,\n",
    "                           task_type=\"GPU\",\n",
    "                           devices='0:1',\n",
    "                                      max_depth=8,\n",
    "                                        verbose = 750,\n",
    "                                      learning_rate=0.09)\n",
    "    model.fit(X_train, y_train)\n",
    "    valid_pred = model.predict(X_valid)\n",
    "    valid_score = accuracy_score(y_valid, valid_pred)\n",
    "    print(f'Accuracy score: {valid_score:6f}\\n')\n",
    "    scores.append(valid_score)\n",
    "    y_pred.append(model.predict(test))"
   ]
  },
  {
   "cell_type": "code",
   "execution_count": 14,
   "id": "deea6c28",
   "metadata": {
    "execution": {
     "iopub.execute_input": "2022-02-02T19:46:59.303855Z",
     "iopub.status.busy": "2022-02-02T19:46:59.302846Z",
     "iopub.status.idle": "2022-02-02T19:47:02.185692Z",
     "shell.execute_reply": "2022-02-02T19:47:02.186257Z",
     "shell.execute_reply.started": "2022-02-02T19:29:59.237463Z"
    },
    "papermill": {
     "duration": 2.921297,
     "end_time": "2022-02-02T19:47:02.186424",
     "exception": false,
     "start_time": "2022-02-02T19:46:59.265127",
     "status": "completed"
    },
    "tags": []
   },
   "outputs": [
    {
     "data": {
      "text/plain": [
       "array([[4],\n",
       "       [6],\n",
       "       [2],\n",
       "       ...,\n",
       "       [0],\n",
       "       [0],\n",
       "       [9]])"
      ]
     },
     "execution_count": 14,
     "metadata": {},
     "output_type": "execute_result"
    }
   ],
   "source": [
    "from scipy.stats import mode\n",
    "y_pred2 = y_pred\n",
    "y_pred2 = mode(y_pred2).mode[0]\n",
    "y_pred2"
   ]
  },
  {
   "cell_type": "code",
   "execution_count": 15,
   "id": "948e1d15",
   "metadata": {
    "execution": {
     "iopub.execute_input": "2022-02-02T19:47:02.254815Z",
     "iopub.status.busy": "2022-02-02T19:47:02.254247Z",
     "iopub.status.idle": "2022-02-02T19:47:02.299095Z",
     "shell.execute_reply": "2022-02-02T19:47:02.298634Z",
     "shell.execute_reply.started": "2022-02-02T19:29:59.240418Z"
    },
    "papermill": {
     "duration": 0.080716,
     "end_time": "2022-02-02T19:47:02.299210",
     "exception": false,
     "start_time": "2022-02-02T19:47:02.218494",
     "status": "completed"
    },
    "tags": []
   },
   "outputs": [
    {
     "name": "stdout",
     "output_type": "stream",
     "text": [
      "{0: 'Bacteroides_fragilis', 1: 'Campylobacter_jejuni', 2: 'Enterococcus_hirae', 3: 'Escherichia_coli', 4: 'Escherichia_fergusonii', 5: 'Klebsiella_pneumoniae', 6: 'Salmonella_enterica', 7: 'Staphylococcus_aureus', 8: 'Streptococcus_pneumoniae', 9: 'Streptococcus_pyogenes'}\n"
     ]
    },
    {
     "name": "stderr",
     "output_type": "stream",
     "text": [
      "/opt/conda/lib/python3.7/site-packages/sklearn/utils/validation.py:72: DataConversionWarning: A column-vector y was passed when a 1d array was expected. Please change the shape of y to (n_samples, ), for example using ravel().\n",
      "  return f(**kwargs)\n"
     ]
    }
   ],
   "source": [
    "\n",
    "y_pred2 = encoder.inverse_transform(y_pred2)\n",
    "y_pred2\n",
    "preds=[]\n",
    "\n",
    "print(d)\n",
    "for i in y_pred2:\n",
    "    preds.append(d[i])\n",
    "    "
   ]
  },
  {
   "cell_type": "code",
   "execution_count": 16,
   "id": "adbf6b15",
   "metadata": {
    "execution": {
     "iopub.execute_input": "2022-02-02T19:47:02.367348Z",
     "iopub.status.busy": "2022-02-02T19:47:02.366575Z",
     "iopub.status.idle": "2022-02-02T19:47:02.368635Z",
     "shell.execute_reply": "2022-02-02T19:47:02.369051Z",
     "shell.execute_reply.started": "2022-02-02T19:29:59.243166Z"
    },
    "papermill": {
     "duration": 0.038156,
     "end_time": "2022-02-02T19:47:02.369183",
     "exception": false,
     "start_time": "2022-02-02T19:47:02.331027",
     "status": "completed"
    },
    "tags": []
   },
   "outputs": [],
   "source": [
    "#preds"
   ]
  },
  {
   "cell_type": "code",
   "execution_count": 17,
   "id": "8ef7b1f0",
   "metadata": {
    "execution": {
     "iopub.execute_input": "2022-02-02T19:47:02.439288Z",
     "iopub.status.busy": "2022-02-02T19:47:02.438692Z",
     "iopub.status.idle": "2022-02-02T19:47:05.582950Z",
     "shell.execute_reply": "2022-02-02T19:47:05.581706Z",
     "shell.execute_reply.started": "2022-02-02T19:29:59.245580Z"
    },
    "papermill": {
     "duration": 3.18161,
     "end_time": "2022-02-02T19:47:05.583111",
     "exception": false,
     "start_time": "2022-02-02T19:47:02.401501",
     "status": "completed"
    },
    "tags": []
   },
   "outputs": [
    {
     "name": "stdout",
     "output_type": "stream",
     "text": [
      "Mean accuracy score: 0.990875\n"
     ]
    }
   ],
   "source": [
    "score = np.array(scores).mean()\n",
    "print(f'Mean accuracy score: {score:6f}')\n",
    "\n",
    "\n",
    "\n",
    "y_pred = mode(y_pred).mode[0]\n",
    "y_pred = encoder.inverse_transform(y_pred)\n",
    "\n"
   ]
  },
  {
   "cell_type": "code",
   "execution_count": 18,
   "id": "121e5f4c",
   "metadata": {
    "execution": {
     "iopub.execute_input": "2022-02-02T19:47:05.658361Z",
     "iopub.status.busy": "2022-02-02T19:47:05.657553Z",
     "iopub.status.idle": "2022-02-02T19:47:05.661070Z",
     "shell.execute_reply": "2022-02-02T19:47:05.660531Z",
     "shell.execute_reply.started": "2022-02-02T19:29:59.248194Z"
    },
    "papermill": {
     "duration": 0.042172,
     "end_time": "2022-02-02T19:47:05.661185",
     "exception": false,
     "start_time": "2022-02-02T19:47:05.619013",
     "status": "completed"
    },
    "tags": []
   },
   "outputs": [
    {
     "data": {
      "text/plain": [
       "array([4, 6, 2, ..., 0, 0, 9])"
      ]
     },
     "execution_count": 18,
     "metadata": {},
     "output_type": "execute_result"
    }
   ],
   "source": [
    "y_pred"
   ]
  },
  {
   "cell_type": "code",
   "execution_count": 19,
   "id": "577a2a3e",
   "metadata": {
    "execution": {
     "iopub.execute_input": "2022-02-02T19:47:05.735533Z",
     "iopub.status.busy": "2022-02-02T19:47:05.734984Z",
     "iopub.status.idle": "2022-02-02T19:47:06.020894Z",
     "shell.execute_reply": "2022-02-02T19:47:06.020378Z",
     "shell.execute_reply.started": "2022-02-02T19:29:59.250915Z"
    },
    "papermill": {
     "duration": 0.32488,
     "end_time": "2022-02-02T19:47:06.021034",
     "exception": false,
     "start_time": "2022-02-02T19:47:05.696154",
     "status": "completed"
    },
    "tags": []
   },
   "outputs": [],
   "source": [
    "\n",
    "sample = pd.read_csv('../input/tabular-playground-series-feb-2022/sample_submission.csv')\n",
    "\n",
    "sample['target'] = preds\n",
    "sample.to_csv('submission.csv', index=False)"
   ]
  },
  {
   "cell_type": "code",
   "execution_count": 20,
   "id": "e2753468",
   "metadata": {
    "execution": {
     "iopub.execute_input": "2022-02-02T19:47:06.094392Z",
     "iopub.status.busy": "2022-02-02T19:47:06.093640Z",
     "iopub.status.idle": "2022-02-02T19:47:06.097943Z",
     "shell.execute_reply": "2022-02-02T19:47:06.097497Z",
     "shell.execute_reply.started": "2022-02-02T19:29:59.253594Z"
    },
    "papermill": {
     "duration": 0.043829,
     "end_time": "2022-02-02T19:47:06.098064",
     "exception": false,
     "start_time": "2022-02-02T19:47:06.054235",
     "status": "completed"
    },
    "tags": []
   },
   "outputs": [
    {
     "data": {
      "text/html": [
       "<div>\n",
       "<style scoped>\n",
       "    .dataframe tbody tr th:only-of-type {\n",
       "        vertical-align: middle;\n",
       "    }\n",
       "\n",
       "    .dataframe tbody tr th {\n",
       "        vertical-align: top;\n",
       "    }\n",
       "\n",
       "    .dataframe thead th {\n",
       "        text-align: right;\n",
       "    }\n",
       "</style>\n",
       "<table border=\"1\" class=\"dataframe\">\n",
       "  <thead>\n",
       "    <tr style=\"text-align: right;\">\n",
       "      <th></th>\n",
       "      <th>row_id</th>\n",
       "      <th>target</th>\n",
       "    </tr>\n",
       "  </thead>\n",
       "  <tbody>\n",
       "    <tr>\n",
       "      <th>0</th>\n",
       "      <td>200000</td>\n",
       "      <td>Escherichia_fergusonii</td>\n",
       "    </tr>\n",
       "    <tr>\n",
       "      <th>1</th>\n",
       "      <td>200001</td>\n",
       "      <td>Salmonella_enterica</td>\n",
       "    </tr>\n",
       "    <tr>\n",
       "      <th>2</th>\n",
       "      <td>200002</td>\n",
       "      <td>Enterococcus_hirae</td>\n",
       "    </tr>\n",
       "    <tr>\n",
       "      <th>3</th>\n",
       "      <td>200003</td>\n",
       "      <td>Salmonella_enterica</td>\n",
       "    </tr>\n",
       "    <tr>\n",
       "      <th>4</th>\n",
       "      <td>200004</td>\n",
       "      <td>Staphylococcus_aureus</td>\n",
       "    </tr>\n",
       "  </tbody>\n",
       "</table>\n",
       "</div>"
      ],
      "text/plain": [
       "   row_id                  target\n",
       "0  200000  Escherichia_fergusonii\n",
       "1  200001     Salmonella_enterica\n",
       "2  200002      Enterococcus_hirae\n",
       "3  200003     Salmonella_enterica\n",
       "4  200004   Staphylococcus_aureus"
      ]
     },
     "execution_count": 20,
     "metadata": {},
     "output_type": "execute_result"
    }
   ],
   "source": [
    "sample.head()"
   ]
  },
  {
   "cell_type": "code",
   "execution_count": null,
   "id": "76707291",
   "metadata": {
    "papermill": {
     "duration": 0.032055,
     "end_time": "2022-02-02T19:47:06.162550",
     "exception": false,
     "start_time": "2022-02-02T19:47:06.130495",
     "status": "completed"
    },
    "tags": []
   },
   "outputs": [],
   "source": []
  }
 ],
 "metadata": {
  "kernelspec": {
   "display_name": "Python 3",
   "language": "python",
   "name": "python3"
  },
  "language_info": {
   "codemirror_mode": {
    "name": "ipython",
    "version": 3
   },
   "file_extension": ".py",
   "mimetype": "text/x-python",
   "name": "python",
   "nbconvert_exporter": "python",
   "pygments_lexer": "ipython3",
   "version": "3.7.12"
  },
  "papermill": {
   "default_parameters": {},
   "duration": 662.474546,
   "end_time": "2022-02-02T19:47:07.206143",
   "environment_variables": {},
   "exception": null,
   "input_path": "__notebook__.ipynb",
   "output_path": "__notebook__.ipynb",
   "parameters": {},
   "start_time": "2022-02-02T19:36:04.731597",
   "version": "2.3.3"
  }
 },
 "nbformat": 4,
 "nbformat_minor": 5
}
